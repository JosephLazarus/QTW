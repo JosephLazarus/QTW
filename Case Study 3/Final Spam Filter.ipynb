{
 "cells": [
  {
   "cell_type": "code",
   "execution_count": 1,
   "metadata": {},
   "outputs": [],
   "source": [
    "from os import listdir, getcwd, chdir\n",
    "from os.path import isfile, join, dirname, realpath\n",
    "import pandas as pd\n",
    "from bs4 import BeautifulSoup"
   ]
  },
  {
   "cell_type": "code",
   "execution_count": 2,
   "metadata": {},
   "outputs": [],
   "source": [
    "res_frame = pd.DataFrame()\n",
    "from os import listdir, getcwd, chdir\n",
    "from os.path import isfile, join, dirname, realpath\n",
    "import pandas as pd\n",
    "\n",
    "def get_cwd():\n",
    "    try:\n",
    "        chdir(dirname(realpath(__file__)))\n",
    "    except:\n",
    "        chdir('/Users/nedei/Documents/School/QTW')\n",
    "    active_dir = getcwd()\n",
    "       \n",
    "    return active_dir\n",
    "\n",
    "def main():\n",
    "    \n",
    "    get_cwd()\n",
    "    \n",
    "    directories = [\n",
    "        '/spam/',\n",
    "        '/easy_ham/',\n",
    "        '/easy_ham_2',\n",
    "        '/hard_ham/',\n",
    "        '/spam_2/'\n",
    "        ]\n",
    "    \n",
    "    res_frame = pd.DataFrame()\n",
    "        \n",
    "    for d in directories:\n",
    "        mypath = getcwd() + '/SpamAssassinMessages/' + d + '/'\n",
    "        onlyfiles = [f for f in listdir(mypath) if isfile(join(mypath, f))]\n",
    "    \n",
    "        try:\n",
    "            onlyfiles.remove('.DS_Store')\n",
    "        except:\n",
    "            pass\n",
    "        \n",
    "        for file in onlyfiles:\n",
    "            with open(mypath + file, encoding='latin1') as f:\n",
    "                lines = f.readlines()\n",
    "                f.close()\n",
    "                \n",
    "            in_reply_count = 0\n",
    "            sub_line_all_caps = 0\n",
    "            attachments = 0\n",
    "            subject_line = []\n",
    "            n_lines = 0\n",
    "            blank_lines = []\n",
    "            \n",
    "            for line in lines:\n",
    "               n_lines += 1\n",
    "               if \"Subject: Re: \" in line:\n",
    "                   in_reply_count += 1\n",
    "               if \"Subject: \" in line:\n",
    "                   s_line = line.strip().replace('Subject: ','')\n",
    "                   subject = s_line\n",
    "                   s_line = ''.join(e for e in s_line if e.isalnum())\n",
    "                   num_upper = sum(1 for c in s_line if c.isupper())\n",
    "                   ttl_chars = len(s_line)\n",
    "                   if num_upper == ttl_chars:\n",
    "                       sub_line_all_caps += 1\n",
    "                   subject_line.append(s_line)\n",
    "               if \"content-type: multipart\" in line.lower():\n",
    "                   attachments += 1\n",
    "               if line == \"\\n\":\n",
    "                   blank_lines.append(n_lines)\n",
    "               if \"From:\" in line:\n",
    "                   f_line = line.strip().replace('From: ','')\n",
    "                   fromline = f_line\n",
    "            \n",
    "                 \n",
    "        \n",
    "            temp_frame = pd.DataFrame({\n",
    "                        'filename':file,\n",
    "                        'is_spam':[1 if 'spam' in d else 0],\n",
    "                        'in_reply': [1 if in_reply_count > 0 else 0], \n",
    "                        'subj_caps': [1 if sub_line_all_caps > 0 else 0], \n",
    "                        'attachments': [1 if attachments > 0 else 0], \n",
    "                        'body_lines': n_lines - len(blank_lines),\n",
    "                        'Subject': subject,\n",
    "                        'From': fromline\n",
    "                        }, index=[0])\n",
    "           \n",
    "            res_frame = res_frame.append(temp_frame, ignore_index=True)\n",
    "            \n",
    "    res_frame.to_csv('output_file.csv', index=False)\n",
    "    \n",
    "    return res_frame\n"
   ]
  },
  {
   "cell_type": "code",
   "execution_count": 3,
   "metadata": {},
   "outputs": [
    {
     "ename": "FileNotFoundError",
     "evalue": "[WinError 3] The system cannot find the path specified: '/Users/nedei/Documents/School/QTW'",
     "output_type": "error",
     "traceback": [
      "\u001b[1;31m---------------------------------------------------------------------------\u001b[0m",
      "\u001b[1;31mNameError\u001b[0m                                 Traceback (most recent call last)",
      "\u001b[1;32m<ipython-input-2-7047866f7bcf>\u001b[0m in \u001b[0;36mget_cwd\u001b[1;34m()\u001b[0m\n\u001b[0;32m      7\u001b[0m     \u001b[1;32mtry\u001b[0m\u001b[1;33m:\u001b[0m\u001b[1;33m\u001b[0m\u001b[1;33m\u001b[0m\u001b[0m\n\u001b[1;32m----> 8\u001b[1;33m         \u001b[0mchdir\u001b[0m\u001b[1;33m(\u001b[0m\u001b[0mdirname\u001b[0m\u001b[1;33m(\u001b[0m\u001b[0mrealpath\u001b[0m\u001b[1;33m(\u001b[0m\u001b[0m__file__\u001b[0m\u001b[1;33m)\u001b[0m\u001b[1;33m)\u001b[0m\u001b[1;33m)\u001b[0m\u001b[1;33m\u001b[0m\u001b[1;33m\u001b[0m\u001b[0m\n\u001b[0m\u001b[0;32m      9\u001b[0m     \u001b[1;32mexcept\u001b[0m\u001b[1;33m:\u001b[0m\u001b[1;33m\u001b[0m\u001b[1;33m\u001b[0m\u001b[0m\n",
      "\u001b[1;31mNameError\u001b[0m: name '__file__' is not defined",
      "\nDuring handling of the above exception, another exception occurred:\n",
      "\u001b[1;31mFileNotFoundError\u001b[0m                         Traceback (most recent call last)",
      "\u001b[1;32m<ipython-input-3-14a4dd06379c>\u001b[0m in \u001b[0;36m<module>\u001b[1;34m\u001b[0m\n\u001b[0;32m      1\u001b[0m \u001b[1;32mif\u001b[0m \u001b[0m__name__\u001b[0m \u001b[1;33m==\u001b[0m \u001b[1;34m\"__main__\"\u001b[0m\u001b[1;33m:\u001b[0m\u001b[1;33m\u001b[0m\u001b[1;33m\u001b[0m\u001b[0m\n\u001b[1;32m----> 2\u001b[1;33m     \u001b[0mres_frame\u001b[0m \u001b[1;33m=\u001b[0m \u001b[0mmain\u001b[0m\u001b[1;33m(\u001b[0m\u001b[1;33m)\u001b[0m\u001b[1;33m\u001b[0m\u001b[1;33m\u001b[0m\u001b[0m\n\u001b[0m\u001b[0;32m      3\u001b[0m     \u001b[1;32mpass\u001b[0m\u001b[1;33m\u001b[0m\u001b[1;33m\u001b[0m\u001b[0m\n",
      "\u001b[1;32m<ipython-input-2-7047866f7bcf>\u001b[0m in \u001b[0;36mmain\u001b[1;34m()\u001b[0m\n\u001b[0;32m     15\u001b[0m \u001b[1;32mdef\u001b[0m \u001b[0mmain\u001b[0m\u001b[1;33m(\u001b[0m\u001b[1;33m)\u001b[0m\u001b[1;33m:\u001b[0m\u001b[1;33m\u001b[0m\u001b[1;33m\u001b[0m\u001b[0m\n\u001b[0;32m     16\u001b[0m \u001b[1;33m\u001b[0m\u001b[0m\n\u001b[1;32m---> 17\u001b[1;33m     \u001b[0mget_cwd\u001b[0m\u001b[1;33m(\u001b[0m\u001b[1;33m)\u001b[0m\u001b[1;33m\u001b[0m\u001b[1;33m\u001b[0m\u001b[0m\n\u001b[0m\u001b[0;32m     18\u001b[0m \u001b[1;33m\u001b[0m\u001b[0m\n\u001b[0;32m     19\u001b[0m     directories = [\n",
      "\u001b[1;32m<ipython-input-2-7047866f7bcf>\u001b[0m in \u001b[0;36mget_cwd\u001b[1;34m()\u001b[0m\n\u001b[0;32m      8\u001b[0m         \u001b[0mchdir\u001b[0m\u001b[1;33m(\u001b[0m\u001b[0mdirname\u001b[0m\u001b[1;33m(\u001b[0m\u001b[0mrealpath\u001b[0m\u001b[1;33m(\u001b[0m\u001b[0m__file__\u001b[0m\u001b[1;33m)\u001b[0m\u001b[1;33m)\u001b[0m\u001b[1;33m)\u001b[0m\u001b[1;33m\u001b[0m\u001b[1;33m\u001b[0m\u001b[0m\n\u001b[0;32m      9\u001b[0m     \u001b[1;32mexcept\u001b[0m\u001b[1;33m:\u001b[0m\u001b[1;33m\u001b[0m\u001b[1;33m\u001b[0m\u001b[0m\n\u001b[1;32m---> 10\u001b[1;33m         \u001b[0mchdir\u001b[0m\u001b[1;33m(\u001b[0m\u001b[1;34m'/Users/nedei/Documents/School/QTW'\u001b[0m\u001b[1;33m)\u001b[0m\u001b[1;33m\u001b[0m\u001b[1;33m\u001b[0m\u001b[0m\n\u001b[0m\u001b[0;32m     11\u001b[0m     \u001b[0mactive_dir\u001b[0m \u001b[1;33m=\u001b[0m \u001b[0mgetcwd\u001b[0m\u001b[1;33m(\u001b[0m\u001b[1;33m)\u001b[0m\u001b[1;33m\u001b[0m\u001b[1;33m\u001b[0m\u001b[0m\n\u001b[0;32m     12\u001b[0m \u001b[1;33m\u001b[0m\u001b[0m\n",
      "\u001b[1;31mFileNotFoundError\u001b[0m: [WinError 3] The system cannot find the path specified: '/Users/nedei/Documents/School/QTW'"
     ]
    }
   ],
   "source": [
    "if __name__ == \"__main__\":\n",
    "    res_frame = main()\n",
    "    pass       "
   ]
  },
  {
   "cell_type": "code",
   "execution_count": null,
   "metadata": {},
   "outputs": [
    {
     "data": {
      "text/html": [
       "<div>\n",
       "<style scoped>\n",
       "    .dataframe tbody tr th:only-of-type {\n",
       "        vertical-align: middle;\n",
       "    }\n",
       "\n",
       "    .dataframe tbody tr th {\n",
       "        vertical-align: top;\n",
       "    }\n",
       "\n",
       "    .dataframe thead th {\n",
       "        text-align: right;\n",
       "    }\n",
       "</style>\n",
       "<table border=\"1\" class=\"dataframe\">\n",
       "  <thead>\n",
       "    <tr style=\"text-align: right;\">\n",
       "      <th></th>\n",
       "      <th>filename</th>\n",
       "      <th>is_spam</th>\n",
       "      <th>in_reply</th>\n",
       "      <th>subj_caps</th>\n",
       "      <th>attachments</th>\n",
       "      <th>body_lines</th>\n",
       "      <th>Subject</th>\n",
       "      <th>From</th>\n",
       "    </tr>\n",
       "  </thead>\n",
       "  <tbody>\n",
       "    <tr>\n",
       "      <th>0</th>\n",
       "      <td>00001.7848dde101aa985090474a91ec93fcf0</td>\n",
       "      <td>1</td>\n",
       "      <td>0</td>\n",
       "      <td>0</td>\n",
       "      <td>0</td>\n",
       "      <td>120</td>\n",
       "      <td>Life Insurance - Why Pay More?</td>\n",
       "      <td>12a1mailbot1@web.de</td>\n",
       "    </tr>\n",
       "    <tr>\n",
       "      <th>1</th>\n",
       "      <td>00002.d94f1b97e48ed3b553b3508d116e6a09</td>\n",
       "      <td>1</td>\n",
       "      <td>0</td>\n",
       "      <td>0</td>\n",
       "      <td>0</td>\n",
       "      <td>59</td>\n",
       "      <td>[ILUG] Guaranteed to lose 10-12 lbs in 30 days...</td>\n",
       "      <td>\"Slim Down\" &lt;taylor@s3.serveimage.com&gt;</td>\n",
       "    </tr>\n",
       "    <tr>\n",
       "      <th>2</th>\n",
       "      <td>00003.2ee33bc6eacdb11f38d052c44819ba6c</td>\n",
       "      <td>1</td>\n",
       "      <td>0</td>\n",
       "      <td>0</td>\n",
       "      <td>0</td>\n",
       "      <td>43</td>\n",
       "      <td>Guaranteed to lose 10-12 lbs in 30 days       ...</td>\n",
       "      <td>\"Slim Down\" &lt;sabrina@mx3.1premio.com&gt;</td>\n",
       "    </tr>\n",
       "    <tr>\n",
       "      <th>3</th>\n",
       "      <td>00004.eac8de8d759b7e74154f142194282724</td>\n",
       "      <td>1</td>\n",
       "      <td>1</td>\n",
       "      <td>0</td>\n",
       "      <td>0</td>\n",
       "      <td>90</td>\n",
       "      <td>Re: Fw: User Name &amp; Password to Membership To ...</td>\n",
       "      <td>Account Services &lt;wsup@playful.com&gt;</td>\n",
       "    </tr>\n",
       "    <tr>\n",
       "      <th>4</th>\n",
       "      <td>00005.57696a39d7d84318ce497886896bf90d</td>\n",
       "      <td>1</td>\n",
       "      <td>0</td>\n",
       "      <td>0</td>\n",
       "      <td>0</td>\n",
       "      <td>55</td>\n",
       "      <td>[ILUG-Social] re: Guaranteed to lose 10-12 lbs...</td>\n",
       "      <td>\"Slim n Trim\" &lt;yenene@mx2.1premio.com&gt;</td>\n",
       "    </tr>\n",
       "  </tbody>\n",
       "</table>\n",
       "</div>"
      ],
      "text/plain": [
       "                                 filename  is_spam  in_reply  subj_caps  \\\n",
       "0  00001.7848dde101aa985090474a91ec93fcf0        1         0          0   \n",
       "1  00002.d94f1b97e48ed3b553b3508d116e6a09        1         0          0   \n",
       "2  00003.2ee33bc6eacdb11f38d052c44819ba6c        1         0          0   \n",
       "3  00004.eac8de8d759b7e74154f142194282724        1         1          0   \n",
       "4  00005.57696a39d7d84318ce497886896bf90d        1         0          0   \n",
       "\n",
       "   attachments  body_lines                                            Subject  \\\n",
       "0            0         120                     Life Insurance - Why Pay More?   \n",
       "1            0          59  [ILUG] Guaranteed to lose 10-12 lbs in 30 days...   \n",
       "2            0          43  Guaranteed to lose 10-12 lbs in 30 days       ...   \n",
       "3            0          90  Re: Fw: User Name & Password to Membership To ...   \n",
       "4            0          55  [ILUG-Social] re: Guaranteed to lose 10-12 lbs...   \n",
       "\n",
       "                                     From  \n",
       "0                     12a1mailbot1@web.de  \n",
       "1  \"Slim Down\" <taylor@s3.serveimage.com>  \n",
       "2   \"Slim Down\" <sabrina@mx3.1premio.com>  \n",
       "3     Account Services <wsup@playful.com>  \n",
       "4  \"Slim n Trim\" <yenene@mx2.1premio.com>  "
      ]
     },
     "execution_count": 6,
     "metadata": {},
     "output_type": "execute_result"
    }
   ],
   "source": [
    "res_frame.head()"
   ]
  },
  {
   "cell_type": "code",
   "execution_count": null,
   "metadata": {},
   "outputs": [],
   "source": [
    "subject_lines = res_frame['Subject'].tolist()\n",
    "from_lines = res_frame['From'].tolist()"
   ]
  },
  {
   "cell_type": "code",
   "execution_count": null,
   "metadata": {},
   "outputs": [],
   "source": [
    "from sklearn.feature_extraction.text import TfidfVectorizer\n",
    "vectorizer = TfidfVectorizer(stop_words={'english'})\n",
    "x = vectorizer.fit_transform(subject_lines)\n",
    "y = vectorizer.fit_transform(from_lines)"
   ]
  },
  {
   "cell_type": "code",
   "execution_count": null,
   "metadata": {},
   "outputs": [
    {
     "data": {
      "image/png": "[encoded data removed]",
      "text/plain": [
       "<Figure size 432x288 with 1 Axes>"
      ]
     },
     "metadata": {
      "needs_background": "light"
     },
     "output_type": "display_data"
    }
   ],
   "source": [
    "from sklearn.cluster import KMeans\n",
    "import matplotlib.pyplot as plt\n",
    "Sum_of_squared_distances = []\n",
    "K = range(2,10)\n",
    "for k in K:\n",
    "   km = KMeans(n_clusters=k, max_iter=40, n_init=10,random_state = 0)\n",
    "   km = km.fit(x)\n",
    "   Sum_of_squared_distances.append(km.inertia_)\n",
    "plt.plot(K, Sum_of_squared_distances, 'bx-')\n",
    "plt.xlabel('k')\n",
    "plt.ylabel('Sum_of_squared_distances')\n",
    "plt.title('Elbow Method For Optimal k')\n",
    "plt.show()"
   ]
  },
  {
   "cell_type": "code",
   "execution_count": null,
   "metadata": {},
   "outputs": [
    {
     "name": "stdout",
     "output_type": "stream",
     "text": [
      "                                          subject_lines  subject_cluster\n",
      "0                        Life Insurance - Why Pay More?                1\n",
      "1     [ILUG] Guaranteed to lose 10-12 lbs in 30 days...                1\n",
      "2     Guaranteed to lose 10-12 lbs in 30 days       ...                1\n",
      "3     Re: Fw: User Name & Password to Membership To ...                1\n",
      "4     [ILUG-Social] re: Guaranteed to lose 10-12 lbs...                3\n",
      "...                                                 ...              ...\n",
      "9348             Preferred Non-Smoker Rates for Smokers                1\n",
      "9349  How to get 10,000 FREE hits per day to any web...                1\n",
      "9350                                Cannabis Difference                1\n",
      "9351                              [ILUG] WILSON  KAMELA                3\n",
      "9352                              [ILUG] WILSON  KAMELA                3\n",
      "\n",
      "[9353 rows x 2 columns]\n"
     ]
    }
   ],
   "source": [
    "true_k = 6\n",
    "model = KMeans(n_clusters=true_k, init='k-means++', max_iter=40, n_init=10,random_state = 0)\n",
    "model.fit(x)\n",
    "labels=model.labels_\n",
    "subject_cluster=pd.DataFrame(list(zip(subject_lines,labels)),columns=['subject_lines','subject_cluster'])\n",
    "print(subject_cluster)"
   ]
  },
  {
   "cell_type": "code",
   "execution_count": null,
   "metadata": {},
   "outputs": [
    {
     "data": {
      "image/png": "[encoded data removed]",
      "text/plain": [
       "<Figure size 432x288 with 1 Axes>"
      ]
     },
     "metadata": {
      "needs_background": "light"
     },
     "output_type": "display_data"
    }
   ],
   "source": [
    "from sklearn.cluster import KMeans\n",
    "import matplotlib.pyplot as plt\n",
    "Sum_of_squared_distances = []\n",
    "K = range(2,10)\n",
    "for k in K:\n",
    "   km = KMeans(n_clusters=k, max_iter=40, n_init=10,random_state = 0)\n",
    "   km = km.fit(y)\n",
    "   Sum_of_squared_distances.append(km.inertia_)\n",
    "plt.plot(K, Sum_of_squared_distances, 'bx-')\n",
    "plt.xlabel('k')\n",
    "plt.ylabel('Sum_of_squared_distances')\n",
    "plt.title('Elbow Method For Optimal k')\n",
    "plt.show()"
   ]
  },
  {
   "cell_type": "code",
   "execution_count": null,
   "metadata": {},
   "outputs": [
    {
     "name": "stdout",
     "output_type": "stream",
     "text": [
      "                                             from_lines  from_cluster\n",
      "0                                   12a1mailbot1@web.de             0\n",
      "1                \"Slim Down\" <taylor@s3.serveimage.com>             0\n",
      "2                 \"Slim Down\" <sabrina@mx3.1premio.com>             0\n",
      "3                   Account Services <wsup@playful.com>             0\n",
      "4                \"Slim n Trim\" <yenene@mx2.1premio.com>             0\n",
      "...                                                 ...           ...\n",
      "9348                          \"IQ - TBA\" <tba@insiq.us>             0\n",
      "9349                               Mike <raye@yahoo.lv>             0\n",
      "9350                   \"Mr. Clean\" <cweqx@dialix.oz.au>             0\n",
      "9351  \"wilsonkamela400@netscape.net\" <wilsonkamela50...             0\n",
      "9352  \"wilsonkamela400@netscape.net\" <wilsonkamela50...             0\n",
      "\n",
      "[9353 rows x 2 columns]\n"
     ]
    }
   ],
   "source": [
    "true_k = 5\n",
    "model = KMeans(n_clusters=true_k, init='k-means++', max_iter=40, n_init=10,random_state = 0)\n",
    "model.fit(y)\n",
    "labels=model.labels_\n",
    "from_cluster=pd.DataFrame(list(zip(from_lines,labels)),columns=['from_lines','from_cluster'])\n",
    "print(from_cluster)"
   ]
  },
  {
   "cell_type": "code",
   "execution_count": null,
   "metadata": {},
   "outputs": [
    {
     "name": "stdout",
     "output_type": "stream",
     "text": [
      "                      filename  in_reply  subj_caps  attachments  body_lines  \\\n",
      "from_cluster is_spam                                                           \n",
      "0            0            4861      4861       4861         4861        4861   \n",
      "             1            2393      2393       2393         2393        2393   \n",
      "1            0             642       642        642          642         642   \n",
      "2            0             807       807        807          807         807   \n",
      "             1               6         6          6            6           6   \n",
      "3            0              79        79         79           79          79   \n",
      "4            0             565       565        565          565         565   \n",
      "\n",
      "                      subject_cluster  \n",
      "from_cluster is_spam                   \n",
      "0            0                   4861  \n",
      "             1                   2393  \n",
      "1            0                    642  \n",
      "2            0                    807  \n",
      "             1                      6  \n",
      "3            0                     79  \n",
      "4            0                    565  \n",
      "                         filename  in_reply  subj_caps  attachments  \\\n",
      "subject_cluster is_spam                                               \n",
      "0               0             224       224        224          224   \n",
      "1               0            3078      3078       3078         3078   \n",
      "                1            2254      2254       2254         2254   \n",
      "2               0             173       173        173          173   \n",
      "3               0             663       663        663          663   \n",
      "                1              98        98         98           98   \n",
      "4               0             129       129        129          129   \n",
      "5               0            2687      2687       2687         2687   \n",
      "                1              47        47         47           47   \n",
      "\n",
      "                         body_lines  from_cluster  \n",
      "subject_cluster is_spam                            \n",
      "0               0               224           224  \n",
      "1               0              3078          3078  \n",
      "                1              2254          2254  \n",
      "2               0               173           173  \n",
      "3               0               663           663  \n",
      "                1                98            98  \n",
      "4               0               129           129  \n",
      "5               0              2687          2687  \n",
      "                1                47            47  \n"
     ]
    }
   ],
   "source": [
    "cluster_frame = res_frame.join(subject_cluster)\n",
    "cluster_frame = cluster_frame.drop(['Subject','subject_lines'],axis = 1)\n",
    "cluster_frame = cluster_frame.join(from_cluster)\n",
    "cluster_frame = cluster_frame.drop(['From','from_lines'],axis = 1)\n",
    "print(cluster_frame.groupby(['from_cluster','is_spam']).count())\n",
    "print(cluster_frame.groupby(['subject_cluster','is_spam']).count())"
   ]
  },
  {
   "cell_type": "code",
   "execution_count": null,
   "metadata": {},
   "outputs": [
    {
     "data": {
      "text/html": [
       "<div>\n",
       "<style scoped>\n",
       "    .dataframe tbody tr th:only-of-type {\n",
       "        vertical-align: middle;\n",
       "    }\n",
       "\n",
       "    .dataframe tbody tr th {\n",
       "        vertical-align: top;\n",
       "    }\n",
       "\n",
       "    .dataframe thead th {\n",
       "        text-align: right;\n",
       "    }\n",
       "</style>\n",
       "<table border=\"1\" class=\"dataframe\">\n",
       "  <thead>\n",
       "    <tr style=\"text-align: right;\">\n",
       "      <th></th>\n",
       "      <th>filename</th>\n",
       "      <th>is_spam</th>\n",
       "      <th>in_reply</th>\n",
       "      <th>subj_caps</th>\n",
       "      <th>attachments</th>\n",
       "      <th>body_lines</th>\n",
       "      <th>subject_cluster</th>\n",
       "      <th>from_cluster</th>\n",
       "    </tr>\n",
       "  </thead>\n",
       "  <tbody>\n",
       "    <tr>\n",
       "      <th>0</th>\n",
       "      <td>00001.7848dde101aa985090474a91ec93fcf0</td>\n",
       "      <td>1</td>\n",
       "      <td>0</td>\n",
       "      <td>0</td>\n",
       "      <td>0</td>\n",
       "      <td>120</td>\n",
       "      <td>1</td>\n",
       "      <td>0</td>\n",
       "    </tr>\n",
       "    <tr>\n",
       "      <th>1</th>\n",
       "      <td>00002.d94f1b97e48ed3b553b3508d116e6a09</td>\n",
       "      <td>1</td>\n",
       "      <td>0</td>\n",
       "      <td>0</td>\n",
       "      <td>0</td>\n",
       "      <td>59</td>\n",
       "      <td>1</td>\n",
       "      <td>0</td>\n",
       "    </tr>\n",
       "    <tr>\n",
       "      <th>2</th>\n",
       "      <td>00003.2ee33bc6eacdb11f38d052c44819ba6c</td>\n",
       "      <td>1</td>\n",
       "      <td>0</td>\n",
       "      <td>0</td>\n",
       "      <td>0</td>\n",
       "      <td>43</td>\n",
       "      <td>1</td>\n",
       "      <td>0</td>\n",
       "    </tr>\n",
       "    <tr>\n",
       "      <th>3</th>\n",
       "      <td>00004.eac8de8d759b7e74154f142194282724</td>\n",
       "      <td>1</td>\n",
       "      <td>1</td>\n",
       "      <td>0</td>\n",
       "      <td>0</td>\n",
       "      <td>90</td>\n",
       "      <td>1</td>\n",
       "      <td>0</td>\n",
       "    </tr>\n",
       "    <tr>\n",
       "      <th>4</th>\n",
       "      <td>00005.57696a39d7d84318ce497886896bf90d</td>\n",
       "      <td>1</td>\n",
       "      <td>0</td>\n",
       "      <td>0</td>\n",
       "      <td>0</td>\n",
       "      <td>55</td>\n",
       "      <td>3</td>\n",
       "      <td>0</td>\n",
       "    </tr>\n",
       "  </tbody>\n",
       "</table>\n",
       "</div>"
      ],
      "text/plain": [
       "                                 filename  is_spam  in_reply  subj_caps  \\\n",
       "0  00001.7848dde101aa985090474a91ec93fcf0        1         0          0   \n",
       "1  00002.d94f1b97e48ed3b553b3508d116e6a09        1         0          0   \n",
       "2  00003.2ee33bc6eacdb11f38d052c44819ba6c        1         0          0   \n",
       "3  00004.eac8de8d759b7e74154f142194282724        1         1          0   \n",
       "4  00005.57696a39d7d84318ce497886896bf90d        1         0          0   \n",
       "\n",
       "   attachments  body_lines  subject_cluster  from_cluster  \n",
       "0            0         120                1             0  \n",
       "1            0          59                1             0  \n",
       "2            0          43                1             0  \n",
       "3            0          90                1             0  \n",
       "4            0          55                3             0  "
      ]
     },
     "execution_count": 66,
     "metadata": {},
     "output_type": "execute_result"
    }
   ],
   "source": [
    "cluster_frame.head()"
   ]
  },
  {
   "cell_type": "code",
   "execution_count": null,
   "metadata": {},
   "outputs": [
    {
     "data": {
      "text/html": [
       "<div>\n",
       "<style scoped>\n",
       "    .dataframe tbody tr th:only-of-type {\n",
       "        vertical-align: middle;\n",
       "    }\n",
       "\n",
       "    .dataframe tbody tr th {\n",
       "        vertical-align: top;\n",
       "    }\n",
       "\n",
       "    .dataframe thead th {\n",
       "        text-align: right;\n",
       "    }\n",
       "</style>\n",
       "<table border=\"1\" class=\"dataframe\">\n",
       "  <thead>\n",
       "    <tr style=\"text-align: right;\">\n",
       "      <th></th>\n",
       "      <th>in_reply</th>\n",
       "      <th>subj_caps</th>\n",
       "      <th>attachments</th>\n",
       "      <th>body_lines</th>\n",
       "      <th>subject_cluster_0</th>\n",
       "      <th>subject_cluster_1</th>\n",
       "      <th>subject_cluster_2</th>\n",
       "      <th>subject_cluster_3</th>\n",
       "      <th>subject_cluster_4</th>\n",
       "      <th>subject_cluster_5</th>\n",
       "      <th>from_cluster_0</th>\n",
       "      <th>from_cluster_1</th>\n",
       "      <th>from_cluster_2</th>\n",
       "      <th>from_cluster_3</th>\n",
       "      <th>from_cluster_4</th>\n",
       "    </tr>\n",
       "  </thead>\n",
       "  <tbody>\n",
       "    <tr>\n",
       "      <th>0</th>\n",
       "      <td>0</td>\n",
       "      <td>0</td>\n",
       "      <td>0</td>\n",
       "      <td>120</td>\n",
       "      <td>0</td>\n",
       "      <td>1</td>\n",
       "      <td>0</td>\n",
       "      <td>0</td>\n",
       "      <td>0</td>\n",
       "      <td>0</td>\n",
       "      <td>1</td>\n",
       "      <td>0</td>\n",
       "      <td>0</td>\n",
       "      <td>0</td>\n",
       "      <td>0</td>\n",
       "    </tr>\n",
       "    <tr>\n",
       "      <th>1</th>\n",
       "      <td>0</td>\n",
       "      <td>0</td>\n",
       "      <td>0</td>\n",
       "      <td>59</td>\n",
       "      <td>0</td>\n",
       "      <td>1</td>\n",
       "      <td>0</td>\n",
       "      <td>0</td>\n",
       "      <td>0</td>\n",
       "      <td>0</td>\n",
       "      <td>1</td>\n",
       "      <td>0</td>\n",
       "      <td>0</td>\n",
       "      <td>0</td>\n",
       "      <td>0</td>\n",
       "    </tr>\n",
       "    <tr>\n",
       "      <th>2</th>\n",
       "      <td>0</td>\n",
       "      <td>0</td>\n",
       "      <td>0</td>\n",
       "      <td>43</td>\n",
       "      <td>0</td>\n",
       "      <td>1</td>\n",
       "      <td>0</td>\n",
       "      <td>0</td>\n",
       "      <td>0</td>\n",
       "      <td>0</td>\n",
       "      <td>1</td>\n",
       "      <td>0</td>\n",
       "      <td>0</td>\n",
       "      <td>0</td>\n",
       "      <td>0</td>\n",
       "    </tr>\n",
       "    <tr>\n",
       "      <th>3</th>\n",
       "      <td>1</td>\n",
       "      <td>0</td>\n",
       "      <td>0</td>\n",
       "      <td>90</td>\n",
       "      <td>0</td>\n",
       "      <td>1</td>\n",
       "      <td>0</td>\n",
       "      <td>0</td>\n",
       "      <td>0</td>\n",
       "      <td>0</td>\n",
       "      <td>1</td>\n",
       "      <td>0</td>\n",
       "      <td>0</td>\n",
       "      <td>0</td>\n",
       "      <td>0</td>\n",
       "    </tr>\n",
       "    <tr>\n",
       "      <th>4</th>\n",
       "      <td>0</td>\n",
       "      <td>0</td>\n",
       "      <td>0</td>\n",
       "      <td>55</td>\n",
       "      <td>0</td>\n",
       "      <td>0</td>\n",
       "      <td>0</td>\n",
       "      <td>1</td>\n",
       "      <td>0</td>\n",
       "      <td>0</td>\n",
       "      <td>1</td>\n",
       "      <td>0</td>\n",
       "      <td>0</td>\n",
       "      <td>0</td>\n",
       "      <td>0</td>\n",
       "    </tr>\n",
       "  </tbody>\n",
       "</table>\n",
       "</div>"
      ],
      "text/plain": [
       "   in_reply  subj_caps  attachments  body_lines  subject_cluster_0  \\\n",
       "0         0          0            0         120                  0   \n",
       "1         0          0            0          59                  0   \n",
       "2         0          0            0          43                  0   \n",
       "3         1          0            0          90                  0   \n",
       "4         0          0            0          55                  0   \n",
       "\n",
       "   subject_cluster_1  subject_cluster_2  subject_cluster_3  subject_cluster_4  \\\n",
       "0                  1                  0                  0                  0   \n",
       "1                  1                  0                  0                  0   \n",
       "2                  1                  0                  0                  0   \n",
       "3                  1                  0                  0                  0   \n",
       "4                  0                  0                  1                  0   \n",
       "\n",
       "   subject_cluster_5  from_cluster_0  from_cluster_1  from_cluster_2  \\\n",
       "0                  0               1               0               0   \n",
       "1                  0               1               0               0   \n",
       "2                  0               1               0               0   \n",
       "3                  0               1               0               0   \n",
       "4                  0               1               0               0   \n",
       "\n",
       "   from_cluster_3  from_cluster_4  \n",
       "0               0               0  \n",
       "1               0               0  \n",
       "2               0               0  \n",
       "3               0               0  \n",
       "4               0               0  "
      ]
     },
     "execution_count": 61,
     "metadata": {},
     "output_type": "execute_result"
    }
   ],
   "source": [
    "subject_cluster = pd.get_dummies(cluster_frame.subject_cluster, prefix = 'subject_cluster')\n",
    "df_onehot = pd.concat((cluster_frame,subject_cluster),axis = 1)\n",
    "from_cluster = pd.get_dummies(cluster_frame.from_cluster, prefix = 'from_cluster')\n",
    "df_onehot = pd.concat((df_onehot,from_cluster),axis = 1)\n",
    "target = df_onehot['is_spam']\n",
    "data = df_onehot.drop(['filename','is_spam','subject_cluster','from_cluster'],axis = 1)\n",
    "data.head()"
   ]
  },
  {
   "cell_type": "code",
   "execution_count": 62,
   "metadata": {},
   "outputs": [
    {
     "name": "stdout",
     "output_type": "stream",
     "text": [
      "When VAR = 0.25\n",
      "   Mean Precision:  0.5718870467124106\n",
      "   Mean AUC:  0.8795373043164803\n",
      "   Mean Recall:  0.9599738493723852\n",
      "   Mean F1:  0.7167708387124053\n",
      "   Mean Time per Split:  0.015110158920288086\n",
      " \n",
      "When VAR = 0.5\n",
      "   Mean Precision:  0.5607134960008139\n",
      "   Mean AUC:  0.8777970709440959\n",
      "   Mean Recall:  0.9729044630404463\n",
      "   Mean F1:  0.7114166334974781\n",
      "   Mean Time per Split:  0.014676094055175781\n",
      " \n",
      "When VAR = 1\n",
      "   Mean Precision:  0.5349029239811846\n",
      "   Mean AUC:  0.8771801159130407\n",
      "   Mean Recall:  0.9824895397489539\n",
      "   Mean F1:  0.6926837191490205\n",
      "   Mean Time per Split:  0.013502120971679688\n",
      " \n",
      "When VAR = 2\n",
      "   Mean Precision:  0.5817380155770397\n",
      "   Mean AUC:  0.8763935945494075\n",
      "   Mean Recall:  0.949973849372385\n",
      "   Mean F1:  0.7215925065674416\n",
      "   Mean Time per Split:  0.0158174991607666\n",
      " \n",
      "When VAR = 3\n",
      "   Mean Precision:  0.582392926499114\n",
      "   Mean AUC:  0.8755681182258062\n",
      "   Mean Recall:  0.9495571827057183\n",
      "   Mean F1:  0.7219757134274862\n",
      "   Mean Time per Split:  0.0150529146194458\n",
      " \n",
      "When VAR = 4\n",
      "   Mean Precision:  0.6084046339948569\n",
      "   Mean AUC:  0.875547070181829\n",
      "   Mean Recall:  0.9337221059972107\n",
      "   Mean F1:  0.7367498940522386\n",
      "   Mean Time per Split:  0.012700033187866212\n",
      " \n",
      "When VAR = 5\n",
      "   Mean Precision:  0.6088186134619031\n",
      "   Mean AUC:  0.8754494956552433\n",
      "   Mean Recall:  0.933305439330544\n",
      "   Mean F1:  0.7369234952023013\n",
      "   Mean Time per Split:  0.013599181175231933\n",
      " \n",
      "When VAR = 6\n",
      "   Mean Precision:  0.7836615642776705\n",
      "   Mean AUC:  0.8754494982393828\n",
      "   Mean Recall:  0.22300906555090655\n",
      "   Mean F1:  0.34721114926633945\n",
      "   Mean Time per Split:  0.013600564002990721\n",
      " \n",
      "When VAR = 7\n",
      "   Mean Precision:  0.793922549551142\n",
      "   Mean AUC:  0.875472280796053\n",
      "   Mean Recall:  0.22134239888423987\n",
      "   Mean F1:  0.3461731283380874\n",
      "   Mean Time per Split:  0.012999534606933594\n",
      " \n",
      "When VAR = 8\n",
      "   Mean Precision:  0.8494349148854466\n",
      "   Mean AUC:  0.8754872662215056\n",
      "   Mean Recall:  0.07128486750348674\n",
      "   Mean F1:  0.1315315615427194\n",
      "   Mean Time per Split:  0.01257336139678955\n",
      " \n",
      "When VAR = 9\n",
      "   Mean Precision:  0.931176236044657\n",
      "   Mean AUC:  0.8757310494051735\n",
      "   Mean Recall:  0.06378312412831241\n",
      "   Mean F1:  0.11938845308947256\n",
      "   Mean Time per Split:  0.013621115684509277\n",
      " \n",
      "When VAR = 10\n",
      "   Mean Precision:  0.931176236044657\n",
      "   Mean AUC:  0.8757849986458677\n",
      "   Mean Recall:  0.06378312412831241\n",
      "   Mean F1:  0.11938845308947256\n",
      "   Mean Time per Split:  0.012600255012512208\n",
      " \n",
      "When VAR = 11\n",
      "   Mean Precision:  0.9306499202551833\n",
      "   Mean AUC:  0.8755108815775253\n",
      "   Mean Recall:  0.06336645746164574\n",
      "   Mean F1:  0.11865395763194105\n",
      "   Mean Time per Split:  0.013209915161132813\n",
      " \n",
      "When VAR = 12\n",
      "   Mean Precision:  0.9373076923076923\n",
      "   Mean AUC:  0.8753958803956691\n",
      "   Mean Recall:  0.057949790794979084\n",
      "   Mean F1:  0.10915122086884534\n",
      "   Mean Time per Split:  0.01350259780883789\n",
      " \n",
      "When VAR = 13\n",
      "   Mean Precision:  0.9434188034188035\n",
      "   Mean AUC:  0.8753257399671088\n",
      "   Mean Recall:  0.055029637377963736\n",
      "   Mean F1:  0.10399334112086943\n",
      "   Mean Time per Split:  0.015201854705810546\n",
      " \n",
      "When VAR = 14\n",
      "   Mean Precision:  0.8166666666666667\n",
      "   Mean AUC:  0.8751261551896846\n",
      "   Mean Recall:  0.030862970711297073\n",
      "   Mean F1:  0.059478178231508014\n",
      "   Mean Time per Split:  0.0146026611328125\n",
      " \n"
     ]
    },
    {
     "name": "stderr",
     "output_type": "stream",
     "text": [
      "C:\\Users\\nedei\\anaconda3\\lib\\site-packages\\sklearn\\metrics\\_classification.py:1308: UndefinedMetricWarning: Precision is ill-defined and being set to 0.0 due to no predicted samples. Use `zero_division` parameter to control this behavior.\n",
      "  _warn_prf(average, modifier, msg_start, len(result))\n",
      "C:\\Users\\nedei\\anaconda3\\lib\\site-packages\\sklearn\\metrics\\_classification.py:1308: UndefinedMetricWarning: Precision is ill-defined and being set to 0.0 due to no predicted samples. Use `zero_division` parameter to control this behavior.\n",
      "  _warn_prf(average, modifier, msg_start, len(result))\n",
      "C:\\Users\\nedei\\anaconda3\\lib\\site-packages\\sklearn\\metrics\\_classification.py:1308: UndefinedMetricWarning: Precision is ill-defined and being set to 0.0 due to no predicted samples. Use `zero_division` parameter to control this behavior.\n",
      "  _warn_prf(average, modifier, msg_start, len(result))\n"
     ]
    },
    {
     "name": "stdout",
     "output_type": "stream",
     "text": [
      "When VAR = 15\n",
      "   Mean Precision:  0.6666666666666667\n",
      "   Mean AUC:  0.8749983024077059\n",
      "   Mean Recall:  0.004168410041841004\n",
      "   Mean F1:  0.00828501706120985\n",
      "   Mean Time per Split:  0.01559116840362549\n",
      " \n"
     ]
    },
    {
     "name": "stderr",
     "output_type": "stream",
     "text": [
      "C:\\Users\\nedei\\anaconda3\\lib\\site-packages\\sklearn\\metrics\\_classification.py:1308: UndefinedMetricWarning: Precision is ill-defined and being set to 0.0 due to no predicted samples. Use `zero_division` parameter to control this behavior.\n",
      "  _warn_prf(average, modifier, msg_start, len(result))\n"
     ]
    }
   ],
   "source": [
    "from sklearn.naive_bayes import ComplementNB\n",
    "from sklearn.naive_bayes import GaussianNB\n",
    "from sklearn.naive_bayes import CategoricalNB\n",
    "from sklearn.preprocessing import StandardScaler\n",
    "from sklearn.model_selection import StratifiedKFold\n",
    "from sklearn.pipeline import Pipeline\n",
    "from sklearn.model_selection import cross_validate\n",
    "import numpy as np\n",
    "\n",
    "X_dev_train,X_dev_test,Y_train,Y_test = train_test_split(data,target,test_size=0.20,random_state=0)\n",
    "\n",
    "scaler = StandardScaler()\n",
    "cv = StratifiedKFold(n_splits = 10, random_state = 0, shuffle = True)\n",
    "\n",
    "var = [.25,.5,1,2,3,4,5,6,7,8,9,10,11,12,13,14,15]\n",
    "var = [.25]\n",
    "for x in var:\n",
    "    # define the pipeline\n",
    "    steps = list()\n",
    "    steps.append(('scaler', scaler))\n",
    "    steps.append(('model', GaussianNB(var_smoothing=x)))\n",
    "    pipeline = Pipeline(steps=steps)\n",
    "\n",
    "    #Modeling with pipeline and scoring with cross_validate()\n",
    "    scores = cross_validate(pipeline, X=X_dev_train, y=Y_train, scoring=['roc_auc','accuracy','precision','recall'],\n",
    "                             cv=cv, return_train_score=True)\n",
    "    columns = ['Var','Prec','AUC']\n",
    "    df3 = []\n",
    "    prec = np.mean(scores['test_precision'])\n",
    "    auc = np.mean(scores['test_roc_auc'])\n",
    "    rec = np.mean(scores['test_recall'])\n",
    "    f1 = 2*((prec*rec)/(prec+rec))\n",
    "    values = [x,prec,auc,rec]\n",
    "    zipped = zip(columns,values)\n",
    "    dictionary = dict(zipped)\n",
    "    df3.append(dictionary)\n",
    "    \n",
    "    \n",
    "    print('When VAR =',x)\n",
    "    print('   Mean Precision: ',prec)\n",
    "    print('   Mean AUC: ',auc)\n",
    "    print('   Mean Recall: ',rec)\n",
    "    print('   Mean F1: ',f1)\n",
    "    print('   Mean Time per Split: ',np.mean(scores['fit_time'])+np.mean(scores['score_time']))\n",
    "    print(' ')"
   ]
  },
  {
   "cell_type": "code",
   "execution_count": 63,
   "metadata": {},
   "outputs": [],
   "source": [
    "# from sklearn.model_selection import train_test_split\n",
    "# from sklearn import metrics as mt\n",
    "# from sklearn.metrics import plot_confusion_matrix, roc_auc_score\n",
    "\n",
    "# X_dev_train,X_dev_test,Y_train,Y_test = train_test_split(data,target,test_size=0.20,random_state=0)\n",
    "# X_train = scaler.fit_transform(X_dev_train)\n",
    "# X_test = scaler.transform(X_dev_test)"
   ]
  },
  {
   "cell_type": "code",
   "execution_count": 64,
   "metadata": {},
   "outputs": [
    {
     "name": "stdout",
     "output_type": "stream",
     "text": [
      "VAR Smoothing: 15 AUC: 0.5956114105102412 Precision: 0.8095238095238095 ACC: 0.780331373597007 F1 Score: 0.33170731707317075\n"
     ]
    },
    {
     "name": "stderr",
     "output_type": "stream",
     "text": [
      "C:\\Users\\nedei\\anaconda3\\lib\\site-packages\\sklearn\\utils\\deprecation.py:87: FutureWarning: Function plot_confusion_matrix is deprecated; Function `plot_confusion_matrix` is deprecated in 1.0 and will be removed in 1.2. Use one of the class methods: ConfusionMatrixDisplay.from_predictions or ConfusionMatrixDisplay.from_estimator.\n",
      "  warnings.warn(msg, category=FutureWarning)\n"
     ]
    },
    {
     "data": {
      "text/plain": [
       "<sklearn.metrics._plot.confusion_matrix.ConfusionMatrixDisplay at 0x2c5fa75f5e0>"
      ]
     },
     "execution_count": 64,
     "metadata": {},
     "output_type": "execute_result"
    },
    {
     "data": {
      "image/png": "[encoded data removed]",
      "text/plain": [
       "<Figure size 432x288 with 2 Axes>"
      ]
     },
     "metadata": {
      "needs_background": "light"
     },
     "output_type": "display_data"
    }
   ],
   "source": [
    "clf_gnb = GaussianNB(var_smoothing = 6)\n",
    "clf_gnb.fit(X_train,Y_train.values.ravel())\n",
    "yhat = clf_gnb.predict(X_test)\n",
    "acc = mt.accuracy_score(Y_test,yhat)\n",
    "prec = mt.precision_score(Y_test,yhat)\n",
    "auc = roc_auc_score(Y_test,yhat)\n",
    "recall = mt.recall_score(Y_test,yhat)\n",
    "f1 = 2*((prec*recall)/(prec+recall))\n",
    "print('VAR Smoothing:',x,'AUC:',auc,'Precision:',prec,'ACC:',acc,'F1 Score:',f1)\n",
    "plot_confusion_matrix(clf_gnb,X_test,Y_test)"
   ]
  },
  {
   "cell_type": "code",
   "execution_count": 55,
   "metadata": {},
   "outputs": [
    {
     "name": "stdout",
     "output_type": "stream",
     "text": [
      "VAR Smoothing: 15 AUC: 0.8447257908428257 Precision: 0.5951742627345844 ACC: 0.814537680384821 F1 Score: 0.7190283400809715\n"
     ]
    },
    {
     "name": "stderr",
     "output_type": "stream",
     "text": [
      "C:\\Users\\nedei\\anaconda3\\lib\\site-packages\\sklearn\\utils\\deprecation.py:87: FutureWarning: Function plot_confusion_matrix is deprecated; Function `plot_confusion_matrix` is deprecated in 1.0 and will be removed in 1.2. Use one of the class methods: ConfusionMatrixDisplay.from_predictions or ConfusionMatrixDisplay.from_estimator.\n",
      "  warnings.warn(msg, category=FutureWarning)\n"
     ]
    },
    {
     "data": {
      "text/plain": [
       "<sklearn.metrics._plot.confusion_matrix.ConfusionMatrixDisplay at 0x2c5faa774c0>"
      ]
     },
     "execution_count": 55,
     "metadata": {},
     "output_type": "execute_result"
    },
    {
     "data": {
      "image/png": "[encoded data removed]",
      "text/plain": [
       "<Figure size 432x288 with 2 Axes>"
      ]
     },
     "metadata": {
      "needs_background": "light"
     },
     "output_type": "display_data"
    }
   ],
   "source": [
    "clf_gnb = GaussianNB(var_smoothing = 5)\n",
    "clf_gnb.fit(X_train,Y_train.values.ravel())\n",
    "yhat = clf_gnb.predict(X_test)\n",
    "acc = mt.accuracy_score(Y_test,yhat)\n",
    "prec = mt.precision_score(Y_test,yhat)\n",
    "auc = roc_auc_score(Y_test,yhat)\n",
    "recall = mt.recall_score(Y_test,yhat)\n",
    "f1 = 2*((prec*recall)/(prec+recall))\n",
    "print('VAR Smoothing:',x,'AUC:',auc,'Precision:',prec,'ACC:',acc,'F1 Score:',f1)\n",
    "plot_confusion_matrix(clf_gnb,X_test,Y_test)"
   ]
  },
  {
   "cell_type": "code",
   "execution_count": 67,
   "metadata": {},
   "outputs": [
    {
     "data": {
      "image/png": "[encoded data removed]",
      "text/plain": [
       "<Figure size 1440x720 with 1 Axes>"
      ]
     },
     "metadata": {
      "needs_background": "light"
     },
     "output_type": "display_data"
    }
   ],
   "source": [
    "features = list(data.columns.values)\n",
    "\n",
    "\n",
    "from sklearn.inspection import permutation_importance\n",
    "\n",
    "imps = permutation_importance(clf_gnb, X_test, Y_test)\n",
    "importances = imps.importances_mean\n",
    "std = imps.importances_std\n",
    "indices = np.argsort(importances)[::-1]\n",
    "\n",
    "# Print the feature ranking\n",
    "\n",
    "featureorder = []\n",
    "\n",
    "for f in range(X_test.shape[1]):\n",
    "    featureorder.append(features[indices[f]])\n",
    "featurecount = len(featureorder)\n",
    "plt.figure(figsize=(20, 10))\n",
    "plt.title(\"Feature importances\")\n",
    "plt.bar(range(X_test.shape[1]), importances[indices], color=\"r\", yerr=std[indices], align=\"center\")\n",
    "plt.xticks(range(X_test.shape[1]), [features[indices[i]] for i in range(featurecount)],rotation = 90)\n",
    "plt.xlim([-1, X_test.shape[1]])\n",
    "plt.show()"
   ]
  },
  {
   "cell_type": "code",
   "execution_count": 70,
   "metadata": {},
   "outputs": [
    {
     "name": "stdout",
     "output_type": "stream",
     "text": [
      "   attachments  is_spam  filename  in_reply  subj_caps  body_lines  \\\n",
      "0            0        0      6610      6610       6610        6610   \n",
      "1            0        1      1989      1989       1989        1989   \n",
      "2            1        0       344       344        344         344   \n",
      "3            1        1       410       410        410         410   \n",
      "\n",
      "   subject_cluster  from_cluster  \n",
      "0             6610          6610  \n",
      "1             1989          1989  \n",
      "2              344           344  \n",
      "3              410           410  \n"
     ]
    }
   ],
   "source": [
    "print(cluster_frame.groupby(['attachments','is_spam']).count().reset_index())"
   ]
  },
  {
   "cell_type": "code",
   "execution_count": null,
   "metadata": {},
   "outputs": [],
   "source": []
  }
 ],
 "metadata": {
  "interpreter": {
   "hash": "02cfc55f4e089c975f887fcd297e9b5d1dfd9869d79fca083bc62101f093f9cf"
  },
  "kernelspec": {
   "display_name": "Python 3.8.8 ('base')",
   "language": "python",
   "name": "python3"
  },
  "language_info": {
   "codemirror_mode": {
    "name": "ipython",
    "version": 3
   },
   "file_extension": ".py",
   "mimetype": "text/x-python",
   "name": "python",
   "nbconvert_exporter": "python",
   "pygments_lexer": "ipython3",
   "version": "3.8.8"
  }
 },
 "nbformat": 4,
 "nbformat_minor": 5
}
