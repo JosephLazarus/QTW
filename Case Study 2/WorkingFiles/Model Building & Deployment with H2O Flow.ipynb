{
 "cells": [
  {
   "cell_type": "markdown",
   "metadata": {},
   "source": [
    "# Building & Deploying an H2O Model\n",
    "\n",
    "**Purpose:** This notebook is designed to interactively guide the user through an end-to-end process for deploying a machine learning workflow utilizing h2o.ai's Flow browser-based interface.  It provides a generic dataset, but the notebook can be repurposed for any structured dataset (.csv and .xlsx-formats).\n",
    "\n",
    "## The dataset\n",
    "Kickstarter is one of the main online crowdfunding platforms in the world. The dataset provided contains data on tens of thousands of projects launched on the platform in 2018. The datasets provided have the same structure and contain the following columns:\n",
    "\n",
    "- **ID**: internal ID, _numeric_\n",
    "- **name**: name of the project, _string_\n",
    "- **category**: project's category, _string_\n",
    "- **main_category**: campaign's category, _string_\n",
    "- **currency**: project's currency, _string_\n",
    "- **deadline**: project's deadline date, _timestamp_\n",
    "- **goal**: fundraising goal, _numeric_\n",
    "- **launched**: project's start date, _timestamp_\n",
    "- **pledged**: amount pledged by backers (project's currency), _numeric_\n",
    "- **state**: project's current state, _string_; **this is what you have to predict**\n",
    "- **backers**: amount of poeple that backed the project, _numeric_\n",
    "- **country**: project's country, _string_\n",
    "- **usd pledged**: amount pledged by backers converted to USD (conversion made by KS), _numeric_\n",
    "- **usd_pledged_real**: amount pledged by backers converted to USD (conversion made by fixer.io api), _numeric_\n",
    "- **usd_goal_real**: fundraising goal is USD, _numeric_\n",
    "- **launch_month**: the numeric value for the month of the year in which the project was launched, _numeric_\n",
    "- **launch_dow**: an integer value ranging from 1 (Sunday) to 7 (Saturday), _numeric_\n",
    "- **duration**: the number of days between the launched date and deadline date, _numeric_\n",
    "\n",
    "</br></br>\n",
    "\n",
    "**Resources**:\n",
    "* https://ipywidgets.readthedocs.io/en/stable/examples/Widget%20List.html\n",
    "    \n",
    "## Table of Contents\n",
    "\n",
    "**1.0** **- Ingest Data**\n",
    "    * 1.1 - Set Your Working Directory\n",
    "    * 1.2 - Upload Your Data (for Modeling)\n",
    "    * 1.3 - Select a Data Frame (for Modeling)\n",
    "     \n",
    "**2.0** **- Initiate H2O**\n",
    "    * 2.1 - Select Your Target Variable\n",
    "    * 2.2 - Initiate H2O\n",
    "    * 2.3 - Configure Models in H2O Flow\n",
    "\n",
    "**3.0** **- Score New Data**\n",
    "    * 3.1 - Upload Your Data (for Scoring)\n",
    "    * 3.2 - Select a Data Frame (for Scoring)\n",
    "    * 3.3 - Perform Singe or Batch Scoring\n",
    "\n",
    "## Dependencies\n",
    "\n",
    "This script was executed using the following version of Python:\n",
    "* **Python 3.6.2 :: Anaconda, Inc.**\n",
    "\n",
    "Use this link to install Python on your machine:\n",
    "* https://www.anaconda.com/distribution/#download-section\n",
    "\n",
    "**About Python Versions:**\n",
    "If you are running a higher-version of Python and this notebook fails to execute properly, you can downgrade your version in the terminal by running the following commands:\n",
    "* conda search python [to see which versions are available on your machine]\n",
    "* conda install python=3.6.2 [which will switch the active version to 3.6.2; if available in the list above]\n",
    "\n",
    "**About Python Packages:**\n",
    "All packages used in this notebook can be installed on your machine using the \"pip install [package_name]\" command on your terminal.  Be sure you've installed each of the packages below before attempting to execute the notebook.\n",
    "\n",
    "Current package requirements include:\n",
    "* os - https://docs.python.org/3/library/os.html\n",
    "* Pandas - https://pandas.pydata.org/\n",
    "* Datetime - https://docs.python.org/3/library/datetime.html\n",
    "* re - https://docs.python.org/3/library/re.html\n",
    "* Numpy - http://www.numpy.org/\n",
    "* ipywidgets - https://ipywidgets.readthedocs.io/en/stable/user_install.html\n",
    "* ipython - https://ipython.org/ipython-doc/rel-0.10.2/html/interactive/extension_api.html\n",
    "* h2o - http://docs.h2o.ai/h2o/latest-stable/h2o-docs/downloading.html#install-in-python\n",
    "* scikit-learn - https://scikit-learn.org/stable/install.html\n",
    "* requests - https://2.python-requests.org/en/master/user/install/\n",
    "* io - https://docs.python.org/3/library/io.html\n",
    "* warnings - https://docs.python.org/3/library/warnings.html\n",
    "* json - https://docs.python.org/3/library/json.html\n",
    "* subprocess - https://docs.python.org/3/library/subprocess.html\n",
    "\n",
    "The current template uses the following versions:\n",
    "* os== module 'os' from '/anaconda3/lib/python3.6/os.py'\n",
    "* pandas==0.24.1\n",
    "* datetime== module 'datetime' from '/anaconda3/lib/python3.6/datetime.py'\n",
    "* re== module 're' from '/anaconda3/lib/python3.6/re.py'\n",
    "* numpy==1.16.1\n",
    "* ipywidgets==7.4.2\n",
    "* ipython==6.2.1\n",
    "* h2o==3.24.0.4\n",
    "* scikit-learn==0.19.1\n",
    "* requests==2.18.4\n",
    "* io== module 'io' from '/anaconda3/lib/python3.6/io.py'\n",
    "* warnings== module 'warnings' from '/anaconda3/lib/python3.6/warnings.py'\n",
    "* json"
   ]
  },
  {
   "cell_type": "markdown",
   "metadata": {},
   "source": [
    "## Before you begin, ensure you've installed the required Python packages\n",
    "\n",
    "* See the list above and make note of the specific versions that were used in this notebook"
   ]
  },
  {
   "cell_type": "code",
   "execution_count": 1,
   "metadata": {},
   "outputs": [],
   "source": [
    "############################################\n",
    "###### Import required Python packages #####\n",
    "############################################\n",
    "\n",
    "import os\n",
    "import pandas as pd\n",
    "import re\n",
    "import datetime as dt\n",
    "from datetime import timezone\n",
    "import numpy as np\n",
    "from ipywidgets import interact, interactive, IntSlider, Layout\n",
    "import ipywidgets as widgets\n",
    "from IPython.display import display\n",
    "import h2o\n",
    "from h2o.automl import H2OAutoML\n",
    "from sklearn.model_selection import train_test_split\n",
    "import io\n",
    "import requests\n",
    "import subprocess\n",
    "import json\n",
    "import warnings\n",
    "warnings.filterwarnings('ignore')"
   ]
  },
  {
   "cell_type": "markdown",
   "metadata": {},
   "source": [
    "## Note: Code Cells are Hidden by Default for Ease-of-Use\n",
    "\n",
    "This notebook incorporates interactive \"widgets\" which will result in large blocks of cells being utilized to enable specific user-interactions.  Executing this cell will hide all \"Code\" cells while making all outputs visible to the user.  Refer to the link below for the source or simply \"run\" the block below to see the impact on the rest of the notebook.\n",
    "\n",
    "* https://stackoverflow.com/questions/27934885/how-to-hide-code-from-cells-in-ipython-notebook-visualized-with-nbviewer\n",
    "\n",
    "#### Disclaimer:\n",
    "* As the \"output text\" notes, simply click the \"here\" hyperlink in the text to toggle on/off this feature"
   ]
  },
  {
   "cell_type": "code",
   "execution_count": 2,
   "metadata": {},
   "outputs": [
    {
     "data": {
      "text/html": [
       "<script>\n",
       "code_show=true; \n",
       "function code_toggle() {\n",
       " if (code_show){\n",
       " $('div.input').hide();\n",
       " } else {\n",
       " $('div.input').show();\n",
       " }\n",
       " code_show = !code_show\n",
       "} \n",
       "$( document ).ready(code_toggle);\n",
       "</script>\n",
       "The raw code for this IPython notebook is by default hidden for easier reading.\n",
       "To toggle on/off the raw code, click <a href=\"javascript:code_toggle()\">here</a>."
      ],
      "text/plain": [
       "<IPython.core.display.HTML object>"
      ]
     },
     "execution_count": 2,
     "metadata": {},
     "output_type": "execute_result"
    }
   ],
   "source": [
    "from IPython.display import HTML\n",
    "\n",
    "HTML('''<script>\n",
    "code_show=true; \n",
    "function code_toggle() {\n",
    " if (code_show){\n",
    " $('div.input').hide();\n",
    " } else {\n",
    " $('div.input').show();\n",
    " }\n",
    " code_show = !code_show\n",
    "} \n",
    "$( document ).ready(code_toggle);\n",
    "</script>\n",
    "The raw code for this IPython notebook is by default hidden for easier reading.\n",
    "To toggle on/off the raw code, click <a href=\"javascript:code_toggle()\">here</a>.''')"
   ]
  },
  {
   "cell_type": "markdown",
   "metadata": {},
   "source": [
    "## 1.0 - Data Ingestion\n",
    "\n",
    "The series of code blocks below will walk you through the process of mapping to your working directory and uploading your dataset."
   ]
  },
  {
   "cell_type": "markdown",
   "metadata": {},
   "source": [
    "## 1.1 - Set Your Working Directory\n",
    "\n",
    "Your \"working directory\" is a folder location on your computer that will store files either read-in or written-out by this script.  This code by default will return your current, active directory.  You can change this directory by typing in a specific path into the text box provided."
   ]
  },
  {
   "cell_type": "markdown",
   "metadata": {},
   "source": [
    "## AN IMPORTANT NOTE ABOUT INTERACTIVE WIDGETS\n",
    "\n",
    "This notebook uses interactive widgets to help you make selections and inputs more conveniently.  As you work through this notebook, be sure to follow the steps below to ensure your selections are incorporated in the cells that follow:\n",
    "\n",
    "#### 1. Run the cell containing the interactive widget(s) to bring them into view\n",
    "#### 2. Apply your selections and/or inputs to the widgets that appear\n",
    "#### 3. DO NOT rerun the cell as it will erase your selections and inputs\n",
    "#### 4. To proceed, simply click on the next cell in the notebook, and Run it\n",
    "\n",
    "<br/>"
   ]
  },
  {
   "cell_type": "code",
   "execution_count": 3,
   "metadata": {},
   "outputs": [
    {
     "data": {
      "application/vnd.jupyter.widget-view+json": {
       "model_id": "1c65b32ea6244d0ca6e8c26d21bc4724",
       "version_major": 2,
       "version_minor": 0
      },
      "text/plain": [
       "Text(value='/Users/puri/DataScience@SMU/10.DS7333 QTW/Group Github/QTW/Case Study 2/WorkingFiles', description…"
      ]
     },
     "metadata": {},
     "output_type": "display_data"
    }
   ],
   "source": [
    "set_working_directory = widgets.Text(\n",
    "    value=os.getcwd(),\n",
    "    placeholder='/Users/bblanchard006/Desktop/SMU/QTW/Week 2',\n",
    "    description='Directory:',\n",
    "    disabled=False,\n",
    "    layout=Layout(width='100%')\n",
    ")\n",
    "\n",
    "display(set_working_directory)"
   ]
  },
  {
   "cell_type": "markdown",
   "metadata": {},
   "source": [
    "## Reminder: Do not rerun the cell above after applying your inputs\n",
    "\n",
    "### Click on and Run this cell to proceed\n",
    "\n",
    "After executing the cell above, you can leave the default directory or overwrite the text string that appears with your desired folder directory. **DO NOT execute the cell again after making your update.** The input above will be fed into the following code cell, where it will either successfully map to the new directory or notify you of an error."
   ]
  },
  {
   "cell_type": "code",
   "execution_count": 4,
   "metadata": {},
   "outputs": [
    {
     "name": "stdout",
     "output_type": "stream",
     "text": [
      "Changed directory to /Users/puri/DataScience@SMU/10.DS7333 QTW/Group Github/QTW/Case Study 2/WorkingFiles\n"
     ]
    }
   ],
   "source": [
    "try:\n",
    "    os.chdir(set_working_directory.value)\n",
    "    print('Changed directory to {}'.format(set_working_directory.value))\n",
    "except Exception as e:\n",
    "    print('Failed to change directory')\n",
    "    print(e)"
   ]
  },
  {
   "cell_type": "markdown",
   "metadata": {},
   "source": [
    "## 1.2 - Upload Your Data (Excel and CSV files)\n",
    "\n",
    "The function in the code cell below will find, ingest, and format both xlsx and csv files.  This is the dataset with \"known\" values which will be used to train your models."
   ]
  },
  {
   "cell_type": "code",
   "execution_count": 5,
   "metadata": {},
   "outputs": [],
   "source": [
    "########################################\n",
    "##### Data Ingestion Functions\n",
    "########################################\n",
    "\n",
    "def compile_raw_data(filename, tab_names, subfolder, delimiter_char = ',', skip_rows = 0, file_ext = 'xlsx'):\n",
    "    \n",
    "    # Inputs: \n",
    "    ## filename = 'sample.csv' | 'sample.xlsx' - the filename in the directory (including the extension) \n",
    "    ## tab_names = None | ['Sheet1,'Sheet2'] - None for csv; [comma separated list of tab names] for xlsx\n",
    "    ## subfolder = 'source_data' - string containing the name of a folder in the working directory\n",
    "    ## delimiter_char = ',' | ';' - None for xlsx\n",
    "    ## rows to skip = default 0 - Not used for csv; trims the user-defined number of rows from an xlsx\n",
    "    ## file extension = csv | xlsx\n",
    "    \n",
    "    # Description: reads in the workbook; standardizes header names; \n",
    "    # Outputs: returns a dictionary of dataframes\n",
    "\n",
    "    master_data = {}\n",
    "    if subfolder:\n",
    "        file_path = subfolder+'/{}'.format(filename)\n",
    "    else:\n",
    "        file_path = filename\n",
    "\n",
    "    if file_ext == 'csv':\n",
    "        tab_names = [re.sub('.csv','', filename)]\n",
    "\n",
    "    for tab in tab_names:\n",
    "        try:\n",
    "            if file_ext == 'xlsx':\n",
    "                dframe = pd.read_excel(file_path, tab, skip_rows)\n",
    "            elif file_ext == 'csv' and delimiter_char == ',':\n",
    "                dframe = pd.read_csv(file_path, header=0, delimiter=',')\n",
    "            else:\n",
    "                dframe = pd.read_csv(file_path, header=0, delimiter=';')\n",
    "                \n",
    "            sanitizer = {\n",
    "                        '$':'USD',\n",
    "                        '(':' ',\n",
    "                        ')':' ',\n",
    "                        '/':' ',\n",
    "                        '-':' ',\n",
    "                        ',':' ',\n",
    "                        '.':' '\n",
    "            }\n",
    "                        \n",
    "            for key, value in sanitizer.items():\n",
    "                dframe.rename(columns=lambda x: x.replace(key, value), inplace=True)\n",
    "                \n",
    "            dframe.rename(columns=lambda x: x.strip(), inplace=True)\n",
    "            dframe.rename(columns=lambda x: re.sub(' +','_', x), inplace=True)\n",
    "            \n",
    "            dframe.columns = map(str.lower, dframe.columns)\n",
    "            \n",
    "            master_data.update({tab:dframe})\n",
    "        except Exception as e:\n",
    "            master_data.update({tab:'Failed'})\n",
    "    \n",
    "    return master_data"
   ]
  },
  {
   "cell_type": "markdown",
   "metadata": {},
   "source": [
    "The code blocks below enable conditional filtering to support multiple file types. Further instructions are provided below:\n",
    "\n",
    "**Uploading csv files**\n",
    "\n",
    "To upload a csv file, complete these steps:\n",
    "1. Type in your filename along with the extension (ex. sample.csv)\n",
    "2. Check the 'csv' radio-button\n",
    "3. Is your file in the main directory or a sub-folder in the directory:\n",
    "    * Select the \"no\" radio-button if your file is in your main directory\n",
    "    * Select the \"yes\" radio-button to expose a text-box where you can type-in the name of your sub-folder\n",
    "    \n",
    "**Uploading xlsx files**\n",
    "\n",
    "To upload an xlsx file, complete these steps:\n",
    "1. Type in your filename along with the extension (ex. sample.xlsx)\n",
    "2. Check the 'xlsx' radio-button\n",
    "3. Type in the tab-names you'd like to ingest (comma-separated; Sheet1,Sheet2,Sheet3)\n",
    "4. If the data in your file has leading rows, select how many rows to skip before ingesting the data (ex. if your data starts on Row 2 in the Excel-file, set the Skip Rows value to 1)\n",
    "5. Is your file in the main directory or a sub-folder in the directory:\n",
    "    * Select the \"no\" radio-button if your file is in your main directory\n",
    "    * Select the \"yes\" radio-button to expose a text-box where you can type-in the name of your sub-folder"
   ]
  },
  {
   "cell_type": "code",
   "execution_count": 6,
   "metadata": {
    "scrolled": true
   },
   "outputs": [
    {
     "data": {
      "application/vnd.jupyter.widget-view+json": {
       "model_id": "eae8b018d51b4d5a812e868ff6cc87c1",
       "version_major": 2,
       "version_minor": 0
      },
      "text/plain": [
       "interactive(children=(RadioButtons(description='File Location:', options=('local', 'url'), value='local'), Out…"
      ]
     },
     "metadata": {},
     "output_type": "display_data"
    }
   ],
   "source": [
    "upload_type = widgets.RadioButtons(\n",
    "    options=['local', 'url'],\n",
    "    description='File Location:',\n",
    "    disabled=False\n",
    ")\n",
    "\n",
    "upload_url = widgets.Text(\n",
    "    value='https://web.stanford.edu/class/archive/cs/cs109/cs109.1166/stuff/titanic.csv',\n",
    "    placeholder='http://',\n",
    "    description='URL:',\n",
    "    disabled=False,\n",
    "    layout=Layout(width='80%')\n",
    ")\n",
    "upload_filename = widgets.Text(\n",
    "    value='training_data.csv',\n",
    "    placeholder='Sample File.csv',\n",
    "    description='File Name:',\n",
    "    disabled=False,\n",
    "    layout=Layout(width='50%')\n",
    ")\n",
    "\n",
    "file_type = widgets.RadioButtons(\n",
    "    options=['csv', 'xlsx'],\n",
    "    description='File Type:',\n",
    "    disabled=False\n",
    ")\n",
    "\n",
    "tab_names = widgets.Text(\n",
    "    value='Sheet1, Sheet2, Sheet3, etc',\n",
    "    placeholder='ALL EMPLOYEES, PAST EMPLOYEES',\n",
    "    description='Tab(s):',\n",
    "    disabled=False,\n",
    "    layout=Layout(width='50%')\n",
    ")\n",
    "\n",
    "subfolder_name = widgets.Text(\n",
    "    value='source_data',\n",
    "    placeholder='Subfolder name',\n",
    "    description='Subfolder:',\n",
    "    disabled=False,\n",
    "    layout=Layout(width='50%')\n",
    ")\n",
    "\n",
    "subfolder = widgets.RadioButtons(\n",
    "    options=['no','yes'],\n",
    "    value='no',\n",
    "    description='Subfolder:',\n",
    "    disabled=False\n",
    ")\n",
    "\n",
    "skip_rows = widgets.IntSlider(\n",
    "    value=0,\n",
    "    min=0,\n",
    "    max=10,\n",
    "    step=1,\n",
    "    description='Skip Rows:',\n",
    "    disabled=False,\n",
    "    continuous_update=True,\n",
    "    orientation='horizontal',\n",
    "    readout=True,\n",
    "    readout_format='d'\n",
    ")\n",
    "\n",
    "delimiter = widgets.RadioButtons(\n",
    "    options=[',',';'],\n",
    "    value=',',\n",
    "    description='Delimiter:',\n",
    "    disabled=False\n",
    ")\n",
    "\n",
    "def text_field(x):\n",
    "    if(x=='xlsx'):\n",
    "        display(tab_names)\n",
    "        tab_names.on_submit(tab_names)\n",
    "        display(skip_rows)\n",
    "    else:\n",
    "        display(delimiter)\n",
    "        print('Tab Names: Not needed for csv files')\n",
    "\n",
    "def sub_folder(y):\n",
    "    if(y=='yes'):\n",
    "        display(subfolder_name)\n",
    "        subfolder_name.on_submit(subfolder_name)\n",
    "    else:\n",
    "        print('Using {} folder'.format(os.getcwd()))\n",
    "\n",
    "def file_location(z):\n",
    "    if(z=='local'):\n",
    "        display(upload_filename)\n",
    "        i = widgets.interactive(text_field, x=file_type)\n",
    "        display(i)\n",
    "        p = widgets.interactive(sub_folder, y=subfolder)\n",
    "        display(p)\n",
    "    else:\n",
    "        display(upload_url)\n",
    "    \n",
    "q = widgets.interactive(file_location, z=upload_type)\n",
    "\n",
    "display(q)"
   ]
  },
  {
   "cell_type": "markdown",
   "metadata": {},
   "source": [
    "## Reminder: Do not rerun the cell above after applying your inputs\n",
    "\n",
    "### Click on and Run this cell to proceed"
   ]
  },
  {
   "cell_type": "markdown",
   "metadata": {},
   "source": [
    "The following code cell will attempt to ingest the data you've selected in the widgets above:\n",
    "\n",
    "**Note About xlsx Files** - Depending on the number of tabs and the size of the data on each tab, ingesting an xlsx file can take several minutes to execute.  If possible, it may be more efficient to break your Excel file into separate csv files which take only a fraction of a second to ingest."
   ]
  },
  {
   "cell_type": "code",
   "execution_count": 7,
   "metadata": {},
   "outputs": [],
   "source": [
    "master_data = {}\n",
    "\n",
    "if upload_type.value == 'url':\n",
    "    url_response = requests.request(\"GET\", upload_url.value)\n",
    "    master_data['url_data'] = pd.read_csv(io.BytesIO(url_response.content))\n",
    "else:\n",
    "    if file_type.value == 'csv':\n",
    "        tabs = None\n",
    "        skiprows = 0\n",
    "    else:\n",
    "        tabs = [x.strip() for x in tab_names.value.split(',')]\n",
    "        skiprows = skip_rows.value\n",
    "\n",
    "    if subfolder.value == 'yes':\n",
    "        subfolder = subfolder_name.value\n",
    "    else:\n",
    "        subfolder = None\n",
    "    master_data = compile_raw_data(upload_filename.value, tabs, subfolder, delimiter_char = delimiter.value, skip_rows = skiprows, file_ext = file_type.value)\n"
   ]
  },
  {
   "cell_type": "markdown",
   "metadata": {},
   "source": [
    "**Note:** If you see an AttributeError: 'NoneType' object has no attribute 'value' message above, simply rerun the last two code cells to reset the input parameters.\n",
    "\n",
    "The following code cell will print out the attributes associated with the files you've uploaded and alert you of any errors:"
   ]
  },
  {
   "cell_type": "code",
   "execution_count": 8,
   "metadata": {},
   "outputs": [
    {
     "name": "stdout",
     "output_type": "stream",
     "text": [
      "url_data table was ingested with 91589 rows and 48 columns\n"
     ]
    }
   ],
   "source": [
    "for key, value in master_data.items():\n",
    "    try:\n",
    "        print('{} table was ingested with {} rows and {} columns'.format(key,value.shape[0],value.shape[1]))\n",
    "    except:\n",
    "        print('{} table failed to load'.format(key))"
   ]
  },
  {
   "cell_type": "markdown",
   "metadata": {},
   "source": [
    "## 1.3 - Select a Data Frame\n",
    "\n",
    "The following menus will allow you to select the dataset you would like to use in your modeling and the variables you would like included in the subsequent processes.  You can preview a sample of the data as well as increase or decrease the number of records returned by using the integer input widget (which has a default range; minimum rows = 1, maximum rows = 50).\n",
    "\n",
    "Select an available frame from the list below:"
   ]
  },
  {
   "cell_type": "code",
   "execution_count": 9,
   "metadata": {},
   "outputs": [
    {
     "data": {
      "application/vnd.jupyter.widget-view+json": {
       "model_id": "fa5ee30b65fc4cde8466d7441d12cc4e",
       "version_major": 2,
       "version_minor": 0
      },
      "text/plain": [
       "Select(description='Tables:', layout=Layout(width='50%'), options=('url_data',), value='url_data')"
      ]
     },
     "metadata": {},
     "output_type": "display_data"
    }
   ],
   "source": [
    "dict_keys = widgets.Select(\n",
    "    options=master_data.keys(),\n",
    "    description='Tables:',\n",
    "    disabled=False,\n",
    "    layout=Layout(width='50%')\n",
    ")\n",
    "\n",
    "display(dict_keys)"
   ]
  },
  {
   "cell_type": "markdown",
   "metadata": {},
   "source": [
    "## Reminder: Do not rerun the cell above after applying your inputs\n",
    "\n",
    "### Click on and Run this cell to proceed\n",
    "\n",
    "The cell below will provide a quick snapshot of the data you have selected above"
   ]
  },
  {
   "cell_type": "code",
   "execution_count": 10,
   "metadata": {},
   "outputs": [
    {
     "name": "stdout",
     "output_type": "stream",
     "text": [
      "<class 'pandas.core.frame.DataFrame'>\n",
      "RangeIndex: 91589 entries, 0 to 91588\n",
      "Data columns (total 48 columns):\n",
      " #   Column                     Non-Null Count  Dtype \n",
      "---  ------                     --------------  ----- \n",
      " 0   Unnamed: 0                 91589 non-null  int64 \n",
      " 1   race                       89538 non-null  object\n",
      " 2   gender                     91589 non-null  object\n",
      " 3   age                        91589 non-null  object\n",
      " 4   admission_type_id          86955 non-null  object\n",
      " 5   discharge_disposition_id   91589 non-null  object\n",
      " 6   admission_source_id        85234 non-null  object\n",
      " 7   time_in_hospital           91589 non-null  int64 \n",
      " 8   payer_code                 55406 non-null  object\n",
      " 9   num_lab_procedures         91589 non-null  int64 \n",
      " 10  num_procedures             91589 non-null  int64 \n",
      " 11  num_medications            91589 non-null  int64 \n",
      " 12  number_outpatient          91589 non-null  int64 \n",
      " 13  number_emergency           91589 non-null  int64 \n",
      " 14  number_inpatient           91589 non-null  int64 \n",
      " 15  number_diagnoses           91589 non-null  int64 \n",
      " 16  max_glu_serum              91589 non-null  object\n",
      " 17  A1Cresult                  91589 non-null  object\n",
      " 18  metformin                  91589 non-null  object\n",
      " 19  repaglinide                91589 non-null  object\n",
      " 20  nateglinide                91589 non-null  object\n",
      " 21  chlorpropamide             91589 non-null  object\n",
      " 22  glimepiride                91589 non-null  object\n",
      " 23  acetohexamide              91589 non-null  object\n",
      " 24  glipizide                  91589 non-null  object\n",
      " 25  glyburide                  91589 non-null  object\n",
      " 26  tolbutamide                91589 non-null  object\n",
      " 27  pioglitazone               91589 non-null  object\n",
      " 28  rosiglitazone              91589 non-null  object\n",
      " 29  acarbose                   91589 non-null  object\n",
      " 30  miglitol                   91589 non-null  object\n",
      " 31  troglitazone               91589 non-null  object\n",
      " 32  tolazamide                 91589 non-null  object\n",
      " 33  examide                    91589 non-null  object\n",
      " 34  citoglipton                91589 non-null  object\n",
      " 35  insulin                    91589 non-null  object\n",
      " 36  glyburide-metformin        91589 non-null  object\n",
      " 37  glipizide-metformin        91589 non-null  object\n",
      " 38  glimepiride-pioglitazone   91589 non-null  object\n",
      " 39  metformin-rosiglitazone    91589 non-null  object\n",
      " 40  metformin-pioglitazone     91589 non-null  object\n",
      " 41  change                     91589 non-null  object\n",
      " 42  diabetesMed                91589 non-null  object\n",
      " 43  was_readmitted             91589 non-null  int64 \n",
      " 44  medical_specialty_reduced  46561 non-null  object\n",
      " 45  diag_1_reduced             91589 non-null  object\n",
      " 46  diag_2_reduced             91589 non-null  object\n",
      " 47  diag_3_reduced             90319 non-null  object\n",
      "dtypes: int64(10), object(38)\n",
      "memory usage: 33.5+ MB\n"
     ]
    }
   ],
   "source": [
    "master_data[dict_keys.value].info()"
   ]
  },
  {
   "cell_type": "markdown",
   "metadata": {},
   "source": [
    "After selecting a frame above, select the variables you would like included in your workflow from the list below:\n",
    "\n",
    "**NOTE:** To select multiple values from the picklist, either hold down the command key on your keyboard or click and hold the shift key to select ranges of variables.  You can scroll down if your mouse is within the widget window."
   ]
  },
  {
   "cell_type": "code",
   "execution_count": 11,
   "metadata": {},
   "outputs": [
    {
     "data": {
      "application/vnd.jupyter.widget-view+json": {
       "model_id": "c3bea55bb0bc4080891f5a2bf62253a9",
       "version_major": 2,
       "version_minor": 0
      },
      "text/plain": [
       "SelectMultiple(description='Variables:', layout=Layout(width='50%'), options=('Unnamed: 0', 'race', 'gender', …"
      ]
     },
     "metadata": {},
     "output_type": "display_data"
    }
   ],
   "source": [
    "review_variables = widgets.SelectMultiple(\n",
    "    options=master_data[dict_keys.value].columns.tolist(),\n",
    "    description='Variables:',\n",
    "    disabled=False,\n",
    "    layout=Layout(width='50%')\n",
    ")\n",
    "\n",
    "display(review_variables)"
   ]
  },
  {
   "cell_type": "markdown",
   "metadata": {},
   "source": [
    "## Reminder: Do not rerun the cell above after applying your inputs\n",
    "\n",
    "### Click on and Run this cell to proceed\n",
    "Input the number of rows you'd like to sample:"
   ]
  },
  {
   "cell_type": "code",
   "execution_count": 12,
   "metadata": {},
   "outputs": [
    {
     "data": {
      "application/vnd.jupyter.widget-view+json": {
       "model_id": "a67e163e958d4f109bf5203253ea8e40",
       "version_major": 2,
       "version_minor": 0
      },
      "text/plain": [
       "VBox(children=(VBox(children=(BoundedIntText(value=5, description='Rows:', max=50, min=1),)), Output()))"
      ]
     },
     "metadata": {},
     "output_type": "display_data"
    }
   ],
   "source": [
    "review_var_list = []\n",
    "for i in review_variables.value:\n",
    "    review_var_list.append(i)\n",
    "    \n",
    "master_data['custom_table'] = master_data[dict_keys.value][review_var_list]\n",
    "\n",
    "head_number = widgets.BoundedIntText(\n",
    "    value=5,\n",
    "    min=1,\n",
    "    max=50,\n",
    "    step=1,\n",
    "    description='Rows:',\n",
    "    disabled=False\n",
    ")\n",
    "\n",
    "def sample_view(head_number):\n",
    "    sample = master_data['custom_table'].head(head_number)\n",
    "    print(sample)\n",
    "\n",
    "out = widgets.interactive_output(sample_view, {'head_number':head_number})\n",
    "\n",
    "widgets.VBox([widgets.VBox([head_number]), out])"
   ]
  },
  {
   "cell_type": "markdown",
   "metadata": {},
   "source": [
    "## 2.0 - Initiate H2O\n",
    "\n",
    "The following cells will port your chosen dataframe to h2o and initiate a cluster."
   ]
  },
  {
   "cell_type": "markdown",
   "metadata": {},
   "source": [
    "## 2.1 - Select Your Target Variable\n",
    "\n",
    "Your \"Target\" variable represents the thing you are attempting to predict. It should be either \"categorical\" (ex. text, labels) or \"continuous\" (ex. numeric values) in nature. The target and its type will impact which algorithms are used and the evaluation metrics that are useful in evaluating each models' performance."
   ]
  },
  {
   "cell_type": "markdown",
   "metadata": {},
   "source": [
    "Select your Target variable and note whether or not it is a categorical or continuous data type:"
   ]
  },
  {
   "cell_type": "code",
   "execution_count": 13,
   "metadata": {},
   "outputs": [
    {
     "data": {
      "application/vnd.jupyter.widget-view+json": {
       "model_id": "0701e34154a94175aad56833e9621d96",
       "version_major": 2,
       "version_minor": 0
      },
      "text/plain": [
       "Select(description='Target', options=('race', 'gender', 'age', 'admission_type_id', 'discharge_disposition_id'…"
      ]
     },
     "metadata": {},
     "output_type": "display_data"
    },
    {
     "data": {
      "application/vnd.jupyter.widget-view+json": {
       "model_id": "8d76dfed35684b9dadb4036382de2ad6",
       "version_major": 2,
       "version_minor": 0
      },
      "text/plain": [
       "Select(description='Type', options=('Continuous', 'Categorical'), value='Continuous')"
      ]
     },
     "metadata": {},
     "output_type": "display_data"
    }
   ],
   "source": [
    "target = widgets.Select(\n",
    "    options=master_data['custom_table'].columns.tolist(),\n",
    "    description='Target',\n",
    "    disabled=False\n",
    ")\n",
    "\n",
    "target_type = widgets.Select(\n",
    "    options=['Continuous','Categorical'],\n",
    "    description='Type',\n",
    "    disabled=False,\n",
    ")\n",
    "\n",
    "display(target)\n",
    "display(target_type)"
   ]
  },
  {
   "cell_type": "markdown",
   "metadata": {},
   "source": [
    "## Reminder: Do not rerun the cell above after applying your inputs\n",
    "\n",
    "### Click on and Run this cell to proceed"
   ]
  },
  {
   "cell_type": "markdown",
   "metadata": {},
   "source": [
    "## 2.2 - Initiate H2O\n",
    "\n",
    "The code cell below will terminate any existing h2o instances and create a new instance"
   ]
  },
  {
   "cell_type": "code",
   "execution_count": 14,
   "metadata": {},
   "outputs": [
    {
     "name": "stdout",
     "output_type": "stream",
     "text": [
      "Checking whether there is an H2O instance running at http://localhost:54321 ..... not found.\n",
      "Attempting to start a local H2O server...\n",
      "  Java Version: java version \"1.8.0_321\"; Java(TM) SE Runtime Environment (build 1.8.0_321-b07); Java HotSpot(TM) 64-Bit Server VM (build 25.321-b07, mixed mode)\n",
      "  Starting server from /Users/puri/opt/anaconda3/envs/pyri/lib/python3.10/site-packages/h2o/backend/bin/h2o.jar\n",
      "  Ice root: /var/folders/vz/68jlc85d78vcqcr5gx1r56l40000gn/T/tmp0jv6tf0x\n",
      "  JVM stdout: /var/folders/vz/68jlc85d78vcqcr5gx1r56l40000gn/T/tmp0jv6tf0x/h2o_puri_started_from_python.out\n",
      "  JVM stderr: /var/folders/vz/68jlc85d78vcqcr5gx1r56l40000gn/T/tmp0jv6tf0x/h2o_puri_started_from_python.err\n",
      "  Server is running at http://127.0.0.1:54321\n",
      "Connecting to H2O server at http://127.0.0.1:54321 ... successful.\n"
     ]
    },
    {
     "data": {
      "text/html": [
       "<div style=\"overflow:auto\"><table style=\"width:50%\"><tr><td>H2O_cluster_uptime:</td>\n",
       "<td>02 secs</td></tr>\n",
       "<tr><td>H2O_cluster_timezone:</td>\n",
       "<td>America/Chicago</td></tr>\n",
       "<tr><td>H2O_data_parsing_timezone:</td>\n",
       "<td>UTC</td></tr>\n",
       "<tr><td>H2O_cluster_version:</td>\n",
       "<td>3.36.1.1</td></tr>\n",
       "<tr><td>H2O_cluster_version_age:</td>\n",
       "<td>1 month and 7 days </td></tr>\n",
       "<tr><td>H2O_cluster_name:</td>\n",
       "<td>H2O_from_python_puri_h3a82j</td></tr>\n",
       "<tr><td>H2O_cluster_total_nodes:</td>\n",
       "<td>1</td></tr>\n",
       "<tr><td>H2O_cluster_free_memory:</td>\n",
       "<td>7.111 Gb</td></tr>\n",
       "<tr><td>H2O_cluster_total_cores:</td>\n",
       "<td>8</td></tr>\n",
       "<tr><td>H2O_cluster_allowed_cores:</td>\n",
       "<td>8</td></tr>\n",
       "<tr><td>H2O_cluster_status:</td>\n",
       "<td>locked, healthy</td></tr>\n",
       "<tr><td>H2O_connection_url:</td>\n",
       "<td>http://127.0.0.1:54321</td></tr>\n",
       "<tr><td>H2O_connection_proxy:</td>\n",
       "<td>{\"http\": null, \"https\": null}</td></tr>\n",
       "<tr><td>H2O_internal_security:</td>\n",
       "<td>False</td></tr>\n",
       "<tr><td>Python_version:</td>\n",
       "<td>3.10.4 final</td></tr></table></div>"
      ],
      "text/plain": [
       "--------------------------  -----------------------------\n",
       "H2O_cluster_uptime:         02 secs\n",
       "H2O_cluster_timezone:       America/Chicago\n",
       "H2O_data_parsing_timezone:  UTC\n",
       "H2O_cluster_version:        3.36.1.1\n",
       "H2O_cluster_version_age:    1 month and 7 days\n",
       "H2O_cluster_name:           H2O_from_python_puri_h3a82j\n",
       "H2O_cluster_total_nodes:    1\n",
       "H2O_cluster_free_memory:    7.111 Gb\n",
       "H2O_cluster_total_cores:    8\n",
       "H2O_cluster_allowed_cores:  8\n",
       "H2O_cluster_status:         locked, healthy\n",
       "H2O_connection_url:         http://127.0.0.1:54321\n",
       "H2O_connection_proxy:       {\"http\": null, \"https\": null}\n",
       "H2O_internal_security:      False\n",
       "Python_version:             3.10.4 final\n",
       "--------------------------  -----------------------------"
      ]
     },
     "metadata": {},
     "output_type": "display_data"
    }
   ],
   "source": [
    "try:\n",
    "    h2o.cluster().shutdown()\n",
    "    h2o.init()\n",
    "except:\n",
    "    h2o.init()"
   ]
  },
  {
   "cell_type": "markdown",
   "metadata": {},
   "source": [
    "## IMPORTANT: If you are rerunning this workflow and have not \"restarted your kernel\" you will need to run the \"cell\" above up to three times to clear the instances.\n",
    "\n",
    "**DO NOT PROCEED UNTIL** the above cell contains the following text (which will be visible just above a summary table):\n",
    "\n",
    "Connecting to H2O server at http://127.0.0.1:54321 ... successful."
   ]
  },
  {
   "cell_type": "markdown",
   "metadata": {},
   "source": [
    "Load your dataset into h2o by running the command below"
   ]
  },
  {
   "cell_type": "code",
   "execution_count": 15,
   "metadata": {},
   "outputs": [
    {
     "name": "stdout",
     "output_type": "stream",
     "text": [
      "Parse progress: |████████████████████████████████████████████████████████████████| (done) 100%\n"
     ]
    }
   ],
   "source": [
    "df = master_data['custom_table'].dropna(subset=[target.value])\n",
    "df = h2o.H2OFrame(df)"
   ]
  },
  {
   "cell_type": "markdown",
   "metadata": {},
   "source": [
    "Once the \"Parse progress:\" reaches 100% above, confirm that your dataset has been loaded correctly by reviewing the table below"
   ]
  },
  {
   "cell_type": "code",
   "execution_count": 16,
   "metadata": {},
   "outputs": [
    {
     "name": "stdout",
     "output_type": "stream",
     "text": [
      "Rows:91589\n",
      "Cols:47\n",
      "\n",
      "\n"
     ]
    },
    {
     "data": {
      "text/html": [
       "<table>\n",
       "<thead>\n",
       "<tr><th>       </th><th>race           </th><th>gender  </th><th>age    </th><th>admission_type_id  </th><th>discharge_disposition_id                             </th><th>admission_source_id  </th><th>time_in_hospital  </th><th>payer_code  </th><th>num_lab_procedures  </th><th>num_procedures    </th><th>num_medications   </th><th>number_outpatient  </th><th>number_emergency  </th><th>number_inpatient  </th><th>number_diagnoses  </th><th>max_glu_serum  </th><th>A1Cresult  </th><th>metformin  </th><th>repaglinide  </th><th>nateglinide  </th><th>chlorpropamide  </th><th>glimepiride  </th><th>acetohexamide  </th><th>glipizide  </th><th>glyburide  </th><th>tolbutamide  </th><th>pioglitazone  </th><th>rosiglitazone  </th><th>acarbose  </th><th>miglitol  </th><th>troglitazone  </th><th>tolazamide  </th><th>examide  </th><th>citoglipton  </th><th>insulin  </th><th>glyburide-metformin  </th><th>glipizide-metformin  </th><th>glimepiride-pioglitazone  </th><th>metformin-rosiglitazone  </th><th>metformin-pioglitazone  </th><th>change  </th><th>diabetesMed  </th><th>was_readmitted     </th><th>medical_specialty_reduced  </th><th>diag_1_reduced   </th><th>diag_2_reduced    </th><th>diag_3_reduced    </th></tr>\n",
       "</thead>\n",
       "<tbody>\n",
       "<tr><td>type   </td><td>enum           </td><td>enum    </td><td>enum   </td><td>enum               </td><td>enum                                                 </td><td>enum                 </td><td>int               </td><td>enum        </td><td>int                 </td><td>int               </td><td>int               </td><td>int                </td><td>int               </td><td>int               </td><td>int               </td><td>enum           </td><td>enum       </td><td>enum       </td><td>enum         </td><td>enum         </td><td>enum            </td><td>enum         </td><td>enum           </td><td>enum       </td><td>enum       </td><td>enum         </td><td>enum          </td><td>enum           </td><td>enum      </td><td>enum      </td><td>enum          </td><td>enum        </td><td>enum     </td><td>enum         </td><td>enum     </td><td>enum                 </td><td>enum                 </td><td>enum                      </td><td>enum                     </td><td>enum                    </td><td>enum    </td><td>enum         </td><td>int                </td><td>enum                       </td><td>real             </td><td>real              </td><td>real              </td></tr>\n",
       "<tr><td>mins   </td><td>               </td><td>        </td><td>       </td><td>                   </td><td>                                                     </td><td>                     </td><td>1.0               </td><td>            </td><td>1.0                 </td><td>0.0               </td><td>1.0               </td><td>0.0                </td><td>0.0               </td><td>0.0               </td><td>1.0               </td><td>               </td><td>           </td><td>           </td><td>             </td><td>             </td><td>                </td><td>             </td><td>               </td><td>           </td><td>           </td><td>             </td><td>              </td><td>               </td><td>          </td><td>          </td><td>              </td><td>            </td><td>         </td><td>             </td><td>         </td><td>                     </td><td>                     </td><td>                          </td><td>                         </td><td>                        </td><td>        </td><td>             </td><td>0.0                </td><td>                           </td><td>38.0             </td><td>250.0             </td><td>250.0             </td></tr>\n",
       "<tr><td>mean   </td><td>               </td><td>        </td><td>       </td><td>                   </td><td>                                                     </td><td>                     </td><td>4.395942744215998 </td><td>            </td><td>43.11291749009172   </td><td>1.3393529790695398</td><td>16.027241262597013</td><td>0.3696732140322535 </td><td>0.199478103265676 </td><td>0.6360043236633224</td><td>7.426273897520445 </td><td>               </td><td>           </td><td>           </td><td>             </td><td>             </td><td>                </td><td>             </td><td>               </td><td>           </td><td>           </td><td>             </td><td>              </td><td>               </td><td>          </td><td>          </td><td>              </td><td>            </td><td>         </td><td>             </td><td>         </td><td>                     </td><td>                     </td><td>                          </td><td>                         </td><td>                        </td><td>        </td><td>             </td><td>0.11159637074321152</td><td>                           </td><td>510.377045247746 </td><td>425.48468232689316</td><td>385.1855431153015 </td></tr>\n",
       "<tr><td>maxs   </td><td>               </td><td>        </td><td>       </td><td>                   </td><td>                                                     </td><td>                     </td><td>14.0              </td><td>            </td><td>132.0               </td><td>6.0               </td><td>81.0              </td><td>39.0               </td><td>76.0              </td><td>21.0              </td><td>16.0              </td><td>               </td><td>           </td><td>           </td><td>             </td><td>             </td><td>                </td><td>             </td><td>               </td><td>           </td><td>           </td><td>             </td><td>              </td><td>               </td><td>          </td><td>          </td><td>              </td><td>            </td><td>         </td><td>             </td><td>         </td><td>                     </td><td>                     </td><td>                          </td><td>                         </td><td>                        </td><td>        </td><td>             </td><td>1.0                </td><td>                           </td><td>996.0            </td><td>780.0             </td><td>780.0             </td></tr>\n",
       "<tr><td>sigma  </td><td>               </td><td>        </td><td>       </td><td>                   </td><td>                                                     </td><td>                     </td><td>2.984681473071358 </td><td>            </td><td>19.670530616199994  </td><td>1.70427290074308  </td><td>8.118970752741618 </td><td>1.2600628034987589 </td><td>0.9502376769623865</td><td>1.2653007822638125</td><td>1.9289001276986308</td><td>               </td><td>           </td><td>           </td><td>             </td><td>             </td><td>                </td><td>             </td><td>               </td><td>           </td><td>           </td><td>             </td><td>              </td><td>               </td><td>          </td><td>          </td><td>              </td><td>            </td><td>         </td><td>             </td><td>         </td><td>                     </td><td>                     </td><td>                          </td><td>                         </td><td>                        </td><td>        </td><td>             </td><td>0.31487093112097064</td><td>                           </td><td>195.2682964878874</td><td>133.8023822221196 </td><td>128.24926591638462</td></tr>\n",
       "<tr><td>zeros  </td><td>               </td><td>        </td><td>       </td><td>                   </td><td>                                                     </td><td>                     </td><td>0                 </td><td>            </td><td>0                   </td><td>41994             </td><td>0                 </td><td>76492              </td><td>81327             </td><td>60907             </td><td>0                 </td><td>               </td><td>           </td><td>           </td><td>             </td><td>             </td><td>                </td><td>             </td><td>               </td><td>           </td><td>           </td><td>             </td><td>              </td><td>               </td><td>          </td><td>          </td><td>              </td><td>            </td><td>         </td><td>             </td><td>         </td><td>                     </td><td>                     </td><td>                          </td><td>                         </td><td>                        </td><td>        </td><td>             </td><td>81368              </td><td>                           </td><td>0                </td><td>0                 </td><td>0                 </td></tr>\n",
       "<tr><td>missing</td><td>0              </td><td>0       </td><td>0      </td><td>0                  </td><td>0                                                    </td><td>0                    </td><td>0                 </td><td>0           </td><td>0                   </td><td>0                 </td><td>0                 </td><td>0                  </td><td>0                 </td><td>0                 </td><td>0                 </td><td>0              </td><td>0          </td><td>0          </td><td>0            </td><td>0            </td><td>0               </td><td>0            </td><td>0              </td><td>0          </td><td>0          </td><td>0            </td><td>0             </td><td>0              </td><td>0         </td><td>0         </td><td>0             </td><td>0           </td><td>0        </td><td>0            </td><td>0        </td><td>0                    </td><td>0                    </td><td>0                         </td><td>0                        </td><td>0                       </td><td>0       </td><td>0            </td><td>0                  </td><td>0                          </td><td>43233            </td><td>33778             </td><td>40679             </td></tr>\n",
       "<tr><td>0      </td><td>Caucasian      </td><td>Female  </td><td>[40-50)</td><td>Urgent             </td><td>Discharged/transferred to another short term hospital</td><td>Emergency Room       </td><td>1.0               </td><td>MC          </td><td>69.0                </td><td>1.0               </td><td>16.0              </td><td>2.0                </td><td>2.0               </td><td>2.0               </td><td>9.0               </td><td>&gt;300           </td><td>None       </td><td>No         </td><td>No           </td><td>No           </td><td>No              </td><td>No           </td><td>No             </td><td>No         </td><td>No         </td><td>No           </td><td>No            </td><td>No             </td><td>No        </td><td>No        </td><td>No            </td><td>No          </td><td>No       </td><td>No           </td><td>No       </td><td>No                   </td><td>No                   </td><td>No                        </td><td>No                       </td><td>No                      </td><td>No      </td><td>No           </td><td>0.0                </td><td>nan                        </td><td>250.6            </td><td>585.0             </td><td>403.0             </td></tr>\n",
       "<tr><td>1      </td><td>AfricanAmerican</td><td>Male    </td><td>[60-70)</td><td>Elective           </td><td>Discharged/transferred to another short term hospital</td><td>Physician Referral   </td><td>8.0               </td><td>HM          </td><td>53.0                </td><td>3.0               </td><td>24.0              </td><td>1.0                </td><td>0.0               </td><td>1.0               </td><td>9.0               </td><td>None           </td><td>None       </td><td>No         </td><td>No           </td><td>No           </td><td>No              </td><td>No           </td><td>No             </td><td>No         </td><td>No         </td><td>No           </td><td>No            </td><td>No             </td><td>No        </td><td>No        </td><td>No            </td><td>No          </td><td>No       </td><td>No           </td><td>No       </td><td>No                   </td><td>No                   </td><td>No                        </td><td>No                       </td><td>No                      </td><td>No      </td><td>No           </td><td>1.0                </td><td>nan                        </td><td>nan              </td><td>428.0             </td><td>nan               </td></tr>\n",
       "<tr><td>2      </td><td>AfricanAmerican</td><td>Male    </td><td>[30-40)</td><td>Urgent             </td><td>Discharged/transferred to another short term hospital</td><td>Emergency Room       </td><td>4.0               </td><td>OG          </td><td>21.0                </td><td>3.0               </td><td>11.0              </td><td>0.0                </td><td>0.0               </td><td>3.0               </td><td>9.0               </td><td>None           </td><td>None       </td><td>No         </td><td>No           </td><td>No           </td><td>No              </td><td>No           </td><td>No             </td><td>No         </td><td>No         </td><td>No           </td><td>No            </td><td>No             </td><td>No        </td><td>No        </td><td>No            </td><td>No          </td><td>No       </td><td>No           </td><td>Up       </td><td>No                   </td><td>No                   </td><td>No                        </td><td>No                       </td><td>No                      </td><td>Ch      </td><td>Yes          </td><td>0.0                </td><td>InternalMedicine           </td><td>786.0            </td><td>nan               </td><td>414.0             </td></tr>\n",
       "<tr><td>3      </td><td>Caucasian      </td><td>Male    </td><td>[60-70)</td><td>Elective           </td><td>Discharged/transferred to another short term hospital</td><td>Physician Referral   </td><td>4.0               </td><td>HM          </td><td>31.0                </td><td>1.0               </td><td>5.0               </td><td>0.0                </td><td>0.0               </td><td>0.0               </td><td>4.0               </td><td>None           </td><td>None       </td><td>No         </td><td>No           </td><td>No           </td><td>No              </td><td>No           </td><td>No             </td><td>No         </td><td>No         </td><td>No           </td><td>No            </td><td>No             </td><td>No        </td><td>No        </td><td>No            </td><td>No          </td><td>No       </td><td>No           </td><td>Steady   </td><td>No                   </td><td>No                   </td><td>No                        </td><td>No                       </td><td>No                      </td><td>No      </td><td>Yes          </td><td>0.0                </td><td>Others                     </td><td>nan              </td><td>250.0             </td><td>nan               </td></tr>\n",
       "<tr><td>4      </td><td>Caucasian      </td><td>Male    </td><td>[70-80)</td><td>Urgent             </td><td>Discharged/transferred to another short term hospital</td><td>Emergency Room       </td><td>4.0               </td><td>MC          </td><td>49.0                </td><td>0.0               </td><td>27.0              </td><td>1.0                </td><td>0.0               </td><td>1.0               </td><td>9.0               </td><td>None           </td><td>None       </td><td>No         </td><td>No           </td><td>Steady       </td><td>No              </td><td>Steady       </td><td>No             </td><td>No         </td><td>No         </td><td>No           </td><td>Steady        </td><td>No             </td><td>No        </td><td>No        </td><td>No            </td><td>No          </td><td>No       </td><td>No           </td><td>No       </td><td>No                   </td><td>No                   </td><td>No                        </td><td>No                       </td><td>No                      </td><td>Ch      </td><td>Yes          </td><td>0.0                </td><td>InternalMedicine           </td><td>493.0            </td><td>427.0             </td><td>nan               </td></tr>\n",
       "<tr><td>5      </td><td>Caucasian      </td><td>Male    </td><td>[40-50)</td><td>Newborn            </td><td>Expired at home. Medicaid only, hospice.             </td><td>Clinic Referral      </td><td>5.0               </td><td>nan         </td><td>49.0                </td><td>1.0               </td><td>18.0              </td><td>1.0                </td><td>0.0               </td><td>0.0               </td><td>9.0               </td><td>None           </td><td>None       </td><td>No         </td><td>No           </td><td>No           </td><td>No              </td><td>No           </td><td>No             </td><td>No         </td><td>No         </td><td>No           </td><td>Steady        </td><td>No             </td><td>No        </td><td>No        </td><td>No            </td><td>No          </td><td>No       </td><td>No           </td><td>Up       </td><td>No                   </td><td>No                   </td><td>No                        </td><td>No                       </td><td>No                      </td><td>Ch      </td><td>Yes          </td><td>1.0                </td><td>nan                        </td><td>996.0            </td><td>584.0             </td><td>nan               </td></tr>\n",
       "<tr><td>6      </td><td>Caucasian      </td><td>Male    </td><td>[60-70)</td><td>Urgent             </td><td>Discharged/transferred to another short term hospital</td><td>Emergency Room       </td><td>4.0               </td><td>MC          </td><td>73.0                </td><td>1.0               </td><td>25.0              </td><td>0.0                </td><td>0.0               </td><td>0.0               </td><td>9.0               </td><td>None           </td><td>None       </td><td>No         </td><td>No           </td><td>No           </td><td>No              </td><td>No           </td><td>No             </td><td>No         </td><td>No         </td><td>No           </td><td>No            </td><td>No             </td><td>No        </td><td>No        </td><td>No            </td><td>No          </td><td>No       </td><td>No           </td><td>Down     </td><td>No                   </td><td>No                   </td><td>No                        </td><td>No                       </td><td>No                      </td><td>Ch      </td><td>Yes          </td><td>0.0                </td><td>nan                        </td><td>nan              </td><td>276.0             </td><td>599.0             </td></tr>\n",
       "<tr><td>7      </td><td>Caucasian      </td><td>Female  </td><td>[40-50)</td><td>Urgent             </td><td>Discharged/transferred to another short term hospital</td><td>Emergency Room       </td><td>1.0               </td><td>MD          </td><td>61.0                </td><td>0.0               </td><td>12.0              </td><td>0.0                </td><td>0.0               </td><td>1.0               </td><td>4.0               </td><td>None           </td><td>None       </td><td>No         </td><td>No           </td><td>No           </td><td>No              </td><td>No           </td><td>No             </td><td>No         </td><td>No         </td><td>No           </td><td>No            </td><td>No             </td><td>No        </td><td>No        </td><td>No            </td><td>No          </td><td>No       </td><td>No           </td><td>Up       </td><td>No                   </td><td>No                   </td><td>No                        </td><td>No                       </td><td>No                      </td><td>Ch      </td><td>Yes          </td><td>0.0                </td><td>nan                        </td><td>276.0            </td><td>nan               </td><td>250.0             </td></tr>\n",
       "<tr><td>8      </td><td>Asian          </td><td>Male    </td><td>[70-80)</td><td>Elective           </td><td>Discharged/transferred to another short term hospital</td><td>Emergency Room       </td><td>1.0               </td><td>MC          </td><td>36.0                </td><td>0.0               </td><td>3.0               </td><td>0.0                </td><td>0.0               </td><td>2.0               </td><td>7.0               </td><td>None           </td><td>None       </td><td>No         </td><td>No           </td><td>No           </td><td>No              </td><td>No           </td><td>No             </td><td>No         </td><td>No         </td><td>No           </td><td>No            </td><td>No             </td><td>No        </td><td>No        </td><td>No            </td><td>No          </td><td>No       </td><td>No           </td><td>No       </td><td>No                   </td><td>No                   </td><td>No                        </td><td>No                       </td><td>No                      </td><td>No      </td><td>No           </td><td>0.0                </td><td>Emergency/Trauma           </td><td>414.0            </td><td>411.0             </td><td>nan               </td></tr>\n",
       "<tr><td>9      </td><td>Caucasian      </td><td>Male    </td><td>[40-50)</td><td>Newborn            </td><td>Discharged/transferred to another short term hospital</td><td>Physician Referral   </td><td>1.0               </td><td>nan         </td><td>31.0                </td><td>1.0               </td><td>10.0              </td><td>0.0                </td><td>0.0               </td><td>0.0               </td><td>4.0               </td><td>None           </td><td>None       </td><td>Steady     </td><td>No           </td><td>No           </td><td>No              </td><td>No           </td><td>No             </td><td>No         </td><td>Steady     </td><td>No           </td><td>No            </td><td>Steady         </td><td>No        </td><td>No        </td><td>No            </td><td>No          </td><td>No       </td><td>No           </td><td>Steady   </td><td>No                   </td><td>No                   </td><td>No                        </td><td>No                       </td><td>No                      </td><td>Ch      </td><td>Yes          </td><td>0.0                </td><td>nan                        </td><td>nan              </td><td>401.0             </td><td>nan               </td></tr>\n",
       "</tbody>\n",
       "</table>"
      ]
     },
     "metadata": {},
     "output_type": "display_data"
    }
   ],
   "source": [
    "df.describe()"
   ]
  },
  {
   "cell_type": "markdown",
   "metadata": {},
   "source": [
    "If your \"Target\" variable is categorical, the code below will convert it to a factor before modeling"
   ]
  },
  {
   "cell_type": "code",
   "execution_count": 17,
   "metadata": {},
   "outputs": [],
   "source": [
    "if target_type.value == 'Categorical':\n",
    "    df[target.value] = df[target.value].asfactor()"
   ]
  },
  {
   "cell_type": "markdown",
   "metadata": {},
   "source": [
    "## 2.3 - Configure Models in H2O Flow\n",
    "\n",
    "### In your browser, connecting to the H2O server at http://127.0.0.1:54321"
   ]
  },
  {
   "cell_type": "markdown",
   "metadata": {},
   "source": [
    "After you have generated your model using H2O Flow and saved your model's h2o-genmodel.jar and MOJO files to your local machine, begin the next sequence of cells below."
   ]
  },
  {
   "cell_type": "markdown",
   "metadata": {},
   "source": [
    "## 3.0 - Score a New Dataset\n",
    "\n",
    "The following process will walk you through uploading another dataset to score against your top model.\n",
    "\n",
    "**Note:** The new dataset must contain the same fields that were used to train your models in the prior steps.  The structure of the new dataset does not have to be consistent with the one used in prior steps (ex. there is no need to align columns or remove fields)."
   ]
  },
  {
   "cell_type": "markdown",
   "metadata": {},
   "source": [
    "## 3.1 - Upload Your Data (Excel and CSV files)\n",
    "\n",
    "Follow the same process you used in subsequent steps to upload the dataset you would like to apply against your trained model.  This is the dataset with \"unknown\" values which your trained models will attempt to predict."
   ]
  },
  {
   "cell_type": "code",
   "execution_count": 18,
   "metadata": {},
   "outputs": [
    {
     "data": {
      "application/vnd.jupyter.widget-view+json": {
       "model_id": "a51176bef7724135a1d4cb215e776e13",
       "version_major": 2,
       "version_minor": 0
      },
      "text/plain": [
       "interactive(children=(RadioButtons(description='File Location:', options=('local', 'url'), value='local'), Out…"
      ]
     },
     "metadata": {},
     "output_type": "display_data"
    }
   ],
   "source": [
    "upload_type = widgets.RadioButtons(\n",
    "    options=['local', 'url'],\n",
    "    description='File Location:',\n",
    "    disabled=False\n",
    ")\n",
    "\n",
    "upload_url = widgets.Text(\n",
    "    value='https://web.stanford.edu/class/archive/cs/cs109/cs109.1166/stuff/titanic.csv',\n",
    "    placeholder='http://',\n",
    "    description='URL:',\n",
    "    disabled=False,\n",
    "    layout=Layout(width='80%')\n",
    ")\n",
    "upload_filename = widgets.Text(\n",
    "    value='hold_out_data.csv',\n",
    "    placeholder='Sample File.csv',\n",
    "    description='File Name:',\n",
    "    disabled=False,\n",
    "    layout=Layout(width='50%')\n",
    ")\n",
    "\n",
    "file_type = widgets.RadioButtons(\n",
    "    options=['csv', 'xlsx'],\n",
    "    description='File Type:',\n",
    "    disabled=False\n",
    ")\n",
    "\n",
    "tab_names = widgets.Text(\n",
    "    value='Sheet1, Sheet2, Sheet3, etc',\n",
    "    placeholder='ALL EMPLOYEES, PAST EMPLOYEES',\n",
    "    description='Tab(s):',\n",
    "    disabled=False,\n",
    "    layout=Layout(width='50%')\n",
    ")\n",
    "\n",
    "subfolder_name = widgets.Text(\n",
    "    value='source_data',\n",
    "    placeholder='Subfolder name',\n",
    "    description='Subfolder:',\n",
    "    disabled=False,\n",
    "    layout=Layout(width='50%')\n",
    ")\n",
    "\n",
    "subfolder = widgets.RadioButtons(\n",
    "    options=['no','yes'],\n",
    "    value='no',\n",
    "    description='Subfolder:',\n",
    "    disabled=False\n",
    ")\n",
    "\n",
    "skip_rows = widgets.IntSlider(\n",
    "    value=0,\n",
    "    min=0,\n",
    "    max=10,\n",
    "    step=1,\n",
    "    description='Skip Rows:',\n",
    "    disabled=False,\n",
    "    continuous_update=True,\n",
    "    orientation='horizontal',\n",
    "    readout=True,\n",
    "    readout_format='d'\n",
    ")\n",
    "\n",
    "delimiter = widgets.RadioButtons(\n",
    "    options=[',',';'],\n",
    "    value=',',\n",
    "    description='Delimiter:',\n",
    "    disabled=False\n",
    ")\n",
    "\n",
    "def text_field(x):\n",
    "    if(x=='xlsx'):\n",
    "        display(tab_names)\n",
    "        tab_names.on_submit(tab_names)\n",
    "        display(skip_rows)\n",
    "    else:\n",
    "        display(delimiter)\n",
    "        print('Tab Names: Not needed for csv files')\n",
    "\n",
    "def sub_folder(y):\n",
    "    if(y=='yes'):\n",
    "        display(subfolder_name)\n",
    "        subfolder_name.on_submit(subfolder_name)\n",
    "    else:\n",
    "        print('Using {} folder'.format(os.getcwd()))\n",
    "\n",
    "def file_location(z):\n",
    "    if(z=='local'):\n",
    "        display(upload_filename)\n",
    "        i = widgets.interactive(text_field, x=file_type)\n",
    "        display(i)\n",
    "        p = widgets.interactive(sub_folder, y=subfolder)\n",
    "        display(p)\n",
    "    else:\n",
    "        display(upload_url)\n",
    "\n",
    "q = widgets.interactive(file_location, z=upload_type)\n",
    "\n",
    "display(q)"
   ]
  },
  {
   "cell_type": "markdown",
   "metadata": {},
   "source": [
    "## Reminder: Do not rerun the cell above after applying your inputs\n",
    "\n",
    "### Click on and Run this cell to proceed\n",
    "The following code cell will attempt to ingest the data you've selected in the widgets above:\n",
    "\n",
    "**Note About xlsx Files** - Depending on the number of tabs and the size of the data on each tab, ingesting an xlsx file can take several minutes to execute.  If possible, it may be more efficient to break your Excel file into separate csv files which take only a fraction of a second to ingest."
   ]
  },
  {
   "cell_type": "code",
   "execution_count": 19,
   "metadata": {},
   "outputs": [],
   "source": [
    "new_data = {}\n",
    "\n",
    "if upload_type.value == 'url':\n",
    "    url_response = requests.request(\"GET\", upload_url.value)\n",
    "    new_data['url_data'] = pd.read_csv(io.BytesIO(url_response.content))\n",
    "else:\n",
    "    if file_type.value == 'csv':\n",
    "        tabs = None\n",
    "        skiprows = 0\n",
    "    else:\n",
    "        tabs = [x.strip() for x in tab_names.value.split(',')]\n",
    "        skiprows = skip_rows.value\n",
    "\n",
    "    if subfolder.value == 'yes':\n",
    "        subfolder = subfolder_name.value\n",
    "    else:\n",
    "        subfolder = None\n",
    "    new_data = compile_raw_data(upload_filename.value, tabs, subfolder, delimiter_char = delimiter.value, skip_rows = skiprows, file_ext = file_type.value)\n"
   ]
  },
  {
   "cell_type": "markdown",
   "metadata": {},
   "source": [
    "**Note:** If you see an AttributeError: 'NoneType' object has no attribute 'value' message above, simply rerun the last two code cells to reset the input parameters.\n",
    "\n",
    "The following code cell will print out the attributes associated with the files you've uploaded and alert you of any errors:"
   ]
  },
  {
   "cell_type": "code",
   "execution_count": 20,
   "metadata": {},
   "outputs": [
    {
     "name": "stdout",
     "output_type": "stream",
     "text": [
      "url_data table was ingested with 10177 rows and 48 columns\n"
     ]
    }
   ],
   "source": [
    "for key, value in new_data.items():\n",
    "    try:\n",
    "        print('{} table was ingested with {} rows and {} columns'.format(key,value.shape[0],value.shape[1]))\n",
    "    except:\n",
    "        print('{} table failed to load'.format(key))"
   ]
  },
  {
   "cell_type": "markdown",
   "metadata": {},
   "source": [
    "## 3.2 - Select a Data Frame to be Scored\n",
    "\n",
    "The following menus will allow you to select the dataset you would like to score against your trained model.  This dataset should contain the fields you used to train the models in prior steps, but it does not have to consistent of the same structure (ex. there is no need to remove unused columns or align column locations).\n",
    "\n",
    "Select an available frame from the list below:"
   ]
  },
  {
   "cell_type": "code",
   "execution_count": 21,
   "metadata": {},
   "outputs": [
    {
     "data": {
      "application/vnd.jupyter.widget-view+json": {
       "model_id": "27be7330eb3349a682fa21ef3edc9ebf",
       "version_major": 2,
       "version_minor": 0
      },
      "text/plain": [
       "Select(description='Tables:', layout=Layout(width='50%'), options=('url_data',), value='url_data')"
      ]
     },
     "metadata": {},
     "output_type": "display_data"
    }
   ],
   "source": [
    "dict_keys = widgets.Select(\n",
    "    options=new_data.keys(),\n",
    "    description='Tables:',\n",
    "    disabled=False,\n",
    "    layout=Layout(width='50%')\n",
    ")\n",
    "\n",
    "display(dict_keys)"
   ]
  },
  {
   "cell_type": "markdown",
   "metadata": {},
   "source": [
    "## Reminder: Do not rerun the cell above after applying your inputs\n",
    "\n",
    "### Click on and Run this cell to proceed\n",
    "\n",
    "**Select any date variables from your dataframe that need to be processed (H2O handles date fields very specifically)**"
   ]
  },
  {
   "cell_type": "code",
   "execution_count": 22,
   "metadata": {},
   "outputs": [
    {
     "data": {
      "application/vnd.jupyter.widget-view+json": {
       "model_id": "7facac0b32b5433fadeba333a11f40e4",
       "version_major": 2,
       "version_minor": 0
      },
      "text/plain": [
       "SelectMultiple(description='Variables:', options=('Unnamed: 0', 'race', 'gender', 'age', 'admission_type_id', …"
      ]
     },
     "metadata": {},
     "output_type": "display_data"
    }
   ],
   "source": [
    "date_variables = widgets.SelectMultiple(\n",
    "    options=new_data[dict_keys.value].columns.tolist(),\n",
    "    description='Variables:',\n",
    "    disabled=False\n",
    ")\n",
    "\n",
    "display(date_variables)"
   ]
  },
  {
   "cell_type": "markdown",
   "metadata": {},
   "source": [
    "## Reminder: Do not rerun the cell above after applying your inputs\n",
    "\n",
    "### Click on and Run this cell to proceed"
   ]
  },
  {
   "cell_type": "code",
   "execution_count": 23,
   "metadata": {},
   "outputs": [
    {
     "name": "stdout",
     "output_type": "stream",
     "text": [
      "Unable to convert race to a date field\n",
      "Unable to convert gender to a date field\n",
      "Unable to convert age to a date field\n",
      "Unable to convert admission_type_id to a date field\n",
      "Unable to convert discharge_disposition_id to a date field\n",
      "Unable to convert admission_source_id to a date field\n",
      "Unable to convert payer_code to a date field\n",
      "Unable to convert max_glu_serum to a date field\n",
      "Unable to convert A1Cresult to a date field\n",
      "Unable to convert metformin to a date field\n",
      "Unable to convert repaglinide to a date field\n",
      "Unable to convert nateglinide to a date field\n",
      "Unable to convert chlorpropamide to a date field\n",
      "Unable to convert glimepiride to a date field\n",
      "Unable to convert acetohexamide to a date field\n",
      "Unable to convert glipizide to a date field\n",
      "Unable to convert glyburide to a date field\n",
      "Unable to convert tolbutamide to a date field\n",
      "Unable to convert pioglitazone to a date field\n",
      "Unable to convert rosiglitazone to a date field\n",
      "Unable to convert acarbose to a date field\n",
      "Unable to convert miglitol to a date field\n",
      "Unable to convert troglitazone to a date field\n",
      "Unable to convert tolazamide to a date field\n",
      "Unable to convert examide to a date field\n",
      "Unable to convert citoglipton to a date field\n",
      "Unable to convert insulin to a date field\n",
      "Unable to convert glyburide-metformin to a date field\n",
      "Unable to convert glipizide-metformin to a date field\n",
      "Unable to convert glimepiride-pioglitazone to a date field\n",
      "Unable to convert metformin-rosiglitazone to a date field\n",
      "Unable to convert metformin-pioglitazone to a date field\n",
      "Unable to convert change to a date field\n",
      "Unable to convert diabetesMed to a date field\n",
      "Unable to convert medical_specialty_reduced to a date field\n",
      "Unable to convert diag_1_reduced to a date field\n",
      "Unable to convert diag_2_reduced to a date field\n",
      "Unable to convert diag_3_reduced to a date field\n"
     ]
    }
   ],
   "source": [
    "date_fields = [x for x in date_variables.value]\n",
    "\n",
    "if len(date_fields)==0:\n",
    "    print('Skipping date field processing; no variables selected')\n",
    "else:\n",
    "    for d in date_fields:\n",
    "        try:\n",
    "            new_data[dict_keys.value][d] = pd.to_datetime(new_data[dict_keys.value][d])\n",
    "            new_data[dict_keys.value][d] = new_data[dict_keys.value][d].apply(lambda x: x.replace(tzinfo=timezone.utc).timestamp()).astype(int)\n",
    "        except:\n",
    "            print('Unable to convert {} to a date field'.format(d))\n"
   ]
  },
  {
   "cell_type": "markdown",
   "metadata": {},
   "source": [
    "## 3.3 - Single or Batch Scoring\n",
    "\n",
    "Select whether or you'd like to perform single-instance or batch-instance scoring:"
   ]
  },
  {
   "cell_type": "code",
   "execution_count": 25,
   "metadata": {},
   "outputs": [
    {
     "data": {
      "application/vnd.jupyter.widget-view+json": {
       "model_id": "be039a1200294c8dbbed92c98f25c363",
       "version_major": 2,
       "version_minor": 0
      },
      "text/plain": [
       "interactive(children=(RadioButtons(description='Score:', options=('Single record', 'Batch records'), value='Si…"
      ]
     },
     "metadata": {},
     "output_type": "display_data"
    }
   ],
   "source": [
    "pred_type = widgets.RadioButtons(\n",
    "    options=['Single record', 'Batch records'],\n",
    "    description='Score:',\n",
    "    disabled=False\n",
    ")\n",
    "\n",
    "batch_instances = widgets.IntSlider(\n",
    "    value=10,\n",
    "    min=2,\n",
    "    max=50,\n",
    "    step=1,\n",
    "    description='Batch Size:',\n",
    "    disabled=False,\n",
    "    continuous_update=True,\n",
    "    orientation='horizontal',\n",
    "    readout=True,\n",
    "    readout_format='d'\n",
    ")\n",
    "\n",
    "def prediction_frame(x):\n",
    "    if(x=='Batch records'):\n",
    "        display(batch_instances)\n",
    "    else:\n",
    "        print('Single instance selected')\n",
    "  \n",
    "pred_instance = widgets.interactive(prediction_frame, x=pred_type)\n",
    "\n",
    "display(pred_instance)"
   ]
  },
  {
   "cell_type": "code",
   "execution_count": 26,
   "metadata": {},
   "outputs": [],
   "source": [
    "if pred_type.value == 'Single record':\n",
    "    instances = new_data[dict_keys.value].sample()\n",
    "    get_keys = instances.columns.tolist()\n",
    "    get_values = instances.values.tolist()\n",
    "\n",
    "    df_dict = {get_keys[i]: get_values[0][i] for i in range(len(get_keys))} \n",
    "    df_dict = json.dumps(df_dict)\n",
    "else:\n",
    "    instances = new_data[dict_keys.value].head(batch_instances.value)\n",
    "    get_keys = instances.columns.tolist()\n",
    "    get_values = instances.values.tolist()\n",
    "\n",
    "    dict_list = []\n",
    "    for x in range(0,len(get_values)):\n",
    "        df_dict = {get_keys[i]: get_values[x][i] for i in range(len(get_keys))}\n",
    "        dict_list.append(df_dict)\n",
    "\n",
    "    df_dict = json.dumps(dict_list)"
   ]
  },
  {
   "cell_type": "markdown",
   "metadata": {},
   "source": [
    "Choose the zipped model file saved during the model building exercise in H2O Flow **(i.e., this is the MOJO file you downloaded)**"
   ]
  },
  {
   "cell_type": "code",
   "execution_count": 27,
   "metadata": {},
   "outputs": [
    {
     "data": {
      "application/vnd.jupyter.widget-view+json": {
       "model_id": "8f86968e2eaf4e5e9ab0d7fdb8512078",
       "version_major": 2,
       "version_minor": 0
      },
      "text/plain": [
       "Select(description='Files:', layout=Layout(width='100%'), options=('djs_model_files', 'dj_v2_case_study2.ipynb…"
      ]
     },
     "metadata": {},
     "output_type": "display_data"
    }
   ],
   "source": [
    "file_list = widgets.Select(\n",
    "    options=os.listdir(),\n",
    "    description='Files:',\n",
    "    disabled=False,\n",
    "    layout=Layout(width='100%')\n",
    ")\n",
    "\n",
    "display(file_list)"
   ]
  },
  {
   "cell_type": "code",
   "execution_count": 97,
   "metadata": {},
   "outputs": [],
   "source": [
    "try:\n",
    "    model_id = file_list.value.replace('.zip','')\n",
    "except:\n",
    "    print('Please choose the zipped file containing the model id')"
   ]
  },
  {
   "cell_type": "markdown",
   "metadata": {},
   "source": [
    "Setup the scoring parameters.\n",
    "**Note:** You do not have to change any of the parameters below:"
   ]
  },
  {
   "cell_type": "code",
   "execution_count": 98,
   "metadata": {},
   "outputs": [],
   "source": [
    "gen_model_arg = os.getcwd() + os.sep + 'h2o-genmodel.jar'\n",
    "best_model_id = model_id # Change the model id if you build your own\n",
    "mojo_model_args = os.getcwd() + os.sep + best_model_id + '.zip'\n",
    "h2o_predictor_class = 'water.util.H2OPredictor'\n",
    "json_data = str(df_dict)"
   ]
  },
  {
   "cell_type": "markdown",
   "metadata": {},
   "source": [
    "Score the new instances against the saved model and return the prediction results"
   ]
  },
  {
   "cell_type": "code",
   "execution_count": 99,
   "metadata": {},
   "outputs": [],
   "source": [
    "output = subprocess.check_output(['java' , '-Xmx4g', '-cp', gen_model_arg, h2o_predictor_class,mojo_model_args, json_data], shell=False).decode()   \n",
    "\n",
    "# Format the results in a dataframe for additional analysis\n",
    "if pred_type.value == 'Single record':\n",
    "    pf = pd.read_json(output, orient='index')\n",
    "else:\n",
    "    pf = pd.read_json(output, orient='record')\n"
   ]
  },
  {
   "cell_type": "markdown",
   "metadata": {},
   "source": [
    "View the predicted values for your instance(s):"
   ]
  },
  {
   "cell_type": "code",
   "execution_count": 100,
   "metadata": {},
   "outputs": [
    {
     "data": {
      "text/html": [
       "<div>\n",
       "<style scoped>\n",
       "    .dataframe tbody tr th:only-of-type {\n",
       "        vertical-align: middle;\n",
       "    }\n",
       "\n",
       "    .dataframe tbody tr th {\n",
       "        vertical-align: top;\n",
       "    }\n",
       "\n",
       "    .dataframe thead th {\n",
       "        text-align: right;\n",
       "    }\n",
       "</style>\n",
       "<table border=\"1\" class=\"dataframe\">\n",
       "  <thead>\n",
       "    <tr style=\"text-align: right;\">\n",
       "      <th></th>\n",
       "      <th>labelIndex</th>\n",
       "      <th>label</th>\n",
       "      <th>classProbabilities</th>\n",
       "    </tr>\n",
       "  </thead>\n",
       "  <tbody>\n",
       "    <tr>\n",
       "      <th>0</th>\n",
       "      <td>3</td>\n",
       "      <td>successful</td>\n",
       "      <td>[0.06480072739072801, 0.360820244782171, 0.001...</td>\n",
       "    </tr>\n",
       "    <tr>\n",
       "      <th>1</th>\n",
       "      <td>1</td>\n",
       "      <td>failed</td>\n",
       "      <td>[0.078739878531079, 0.615265930248943, 0.00179...</td>\n",
       "    </tr>\n",
       "    <tr>\n",
       "      <th>2</th>\n",
       "      <td>1</td>\n",
       "      <td>failed</td>\n",
       "      <td>[0.07845743698955801, 0.512411841000594, 0.001...</td>\n",
       "    </tr>\n",
       "    <tr>\n",
       "      <th>3</th>\n",
       "      <td>1</td>\n",
       "      <td>failed</td>\n",
       "      <td>[0.086631713656084, 0.558127942041692, 0.00172...</td>\n",
       "    </tr>\n",
       "    <tr>\n",
       "      <th>4</th>\n",
       "      <td>1</td>\n",
       "      <td>failed</td>\n",
       "      <td>[0.295034442184944, 0.586708678092843, 0.00163...</td>\n",
       "    </tr>\n",
       "    <tr>\n",
       "      <th>5</th>\n",
       "      <td>1</td>\n",
       "      <td>failed</td>\n",
       "      <td>[0.117556759174421, 0.716537223589303, 0.00204...</td>\n",
       "    </tr>\n",
       "    <tr>\n",
       "      <th>6</th>\n",
       "      <td>1</td>\n",
       "      <td>failed</td>\n",
       "      <td>[0.076262056832608, 0.622401404366926, 0.00195...</td>\n",
       "    </tr>\n",
       "    <tr>\n",
       "      <th>7</th>\n",
       "      <td>1</td>\n",
       "      <td>failed</td>\n",
       "      <td>[0.115850157811636, 0.659462292460905, 0.00171...</td>\n",
       "    </tr>\n",
       "    <tr>\n",
       "      <th>8</th>\n",
       "      <td>1</td>\n",
       "      <td>failed</td>\n",
       "      <td>[0.05871021616779801, 0.577153092589986, 0.003...</td>\n",
       "    </tr>\n",
       "    <tr>\n",
       "      <th>9</th>\n",
       "      <td>3</td>\n",
       "      <td>successful</td>\n",
       "      <td>[0.045915727503634006, 0.212241603479758, 0.00...</td>\n",
       "    </tr>\n",
       "  </tbody>\n",
       "</table>\n",
       "</div>"
      ],
      "text/plain": [
       "   labelIndex       label                                 classProbabilities\n",
       "0           3  successful  [0.06480072739072801, 0.360820244782171, 0.001...\n",
       "1           1      failed  [0.078739878531079, 0.615265930248943, 0.00179...\n",
       "2           1      failed  [0.07845743698955801, 0.512411841000594, 0.001...\n",
       "3           1      failed  [0.086631713656084, 0.558127942041692, 0.00172...\n",
       "4           1      failed  [0.295034442184944, 0.586708678092843, 0.00163...\n",
       "5           1      failed  [0.117556759174421, 0.716537223589303, 0.00204...\n",
       "6           1      failed  [0.076262056832608, 0.622401404366926, 0.00195...\n",
       "7           1      failed  [0.115850157811636, 0.659462292460905, 0.00171...\n",
       "8           1      failed  [0.05871021616779801, 0.577153092589986, 0.003...\n",
       "9           3  successful  [0.045915727503634006, 0.212241603479758, 0.00..."
      ]
     },
     "execution_count": 100,
     "metadata": {},
     "output_type": "execute_result"
    }
   ],
   "source": [
    "pf"
   ]
  },
  {
   "cell_type": "markdown",
   "metadata": {},
   "source": [
    "View the original instance(s):"
   ]
  },
  {
   "cell_type": "code",
   "execution_count": 101,
   "metadata": {},
   "outputs": [
    {
     "data": {
      "text/html": [
       "<div>\n",
       "<style scoped>\n",
       "    .dataframe tbody tr th:only-of-type {\n",
       "        vertical-align: middle;\n",
       "    }\n",
       "\n",
       "    .dataframe tbody tr th {\n",
       "        vertical-align: top;\n",
       "    }\n",
       "\n",
       "    .dataframe thead th {\n",
       "        text-align: right;\n",
       "    }\n",
       "</style>\n",
       "<table border=\"1\" class=\"dataframe\">\n",
       "  <thead>\n",
       "    <tr style=\"text-align: right;\">\n",
       "      <th></th>\n",
       "      <th>id</th>\n",
       "      <th>name</th>\n",
       "      <th>category</th>\n",
       "      <th>main_category</th>\n",
       "      <th>currency</th>\n",
       "      <th>deadline</th>\n",
       "      <th>goal</th>\n",
       "      <th>launched</th>\n",
       "      <th>pledged</th>\n",
       "      <th>state</th>\n",
       "      <th>backers</th>\n",
       "      <th>country</th>\n",
       "      <th>usd_pledged</th>\n",
       "      <th>usd_pledged_real</th>\n",
       "      <th>usd_goal_real</th>\n",
       "      <th>launch_month</th>\n",
       "      <th>launch_dow</th>\n",
       "      <th>duration</th>\n",
       "    </tr>\n",
       "  </thead>\n",
       "  <tbody>\n",
       "    <tr>\n",
       "      <th>0</th>\n",
       "      <td>1177451632</td>\n",
       "      <td>The Everyday Project</td>\n",
       "      <td>Experimental</td>\n",
       "      <td>Film &amp; Video</td>\n",
       "      <td>USD</td>\n",
       "      <td>1</td>\n",
       "      <td>50.0</td>\n",
       "      <td>1</td>\n",
       "      <td>223.0</td>\n",
       "      <td>successful</td>\n",
       "      <td>35</td>\n",
       "      <td>US</td>\n",
       "      <td>223.00</td>\n",
       "      <td>223.00</td>\n",
       "      <td>50.00</td>\n",
       "      <td>5</td>\n",
       "      <td>3</td>\n",
       "      <td>29</td>\n",
       "    </tr>\n",
       "    <tr>\n",
       "      <th>1</th>\n",
       "      <td>1177454326</td>\n",
       "      <td>The Creation of a Digital Fashion Magazine!</td>\n",
       "      <td>Periodicals</td>\n",
       "      <td>Publishing</td>\n",
       "      <td>USD</td>\n",
       "      <td>1</td>\n",
       "      <td>5000.0</td>\n",
       "      <td>1</td>\n",
       "      <td>0.0</td>\n",
       "      <td>failed</td>\n",
       "      <td>0</td>\n",
       "      <td>US</td>\n",
       "      <td>0.00</td>\n",
       "      <td>0.00</td>\n",
       "      <td>5000.00</td>\n",
       "      <td>3</td>\n",
       "      <td>5</td>\n",
       "      <td>29</td>\n",
       "    </tr>\n",
       "    <tr>\n",
       "      <th>2</th>\n",
       "      <td>117745590</td>\n",
       "      <td>Aerial Dream: A collision of snowboarding and RC</td>\n",
       "      <td>Film &amp; Video</td>\n",
       "      <td>Film &amp; Video</td>\n",
       "      <td>USD</td>\n",
       "      <td>1</td>\n",
       "      <td>7500.0</td>\n",
       "      <td>1</td>\n",
       "      <td>35.0</td>\n",
       "      <td>failed</td>\n",
       "      <td>2</td>\n",
       "      <td>US</td>\n",
       "      <td>35.00</td>\n",
       "      <td>35.00</td>\n",
       "      <td>7500.00</td>\n",
       "      <td>9</td>\n",
       "      <td>3</td>\n",
       "      <td>50</td>\n",
       "    </tr>\n",
       "    <tr>\n",
       "      <th>3</th>\n",
       "      <td>1177459197</td>\n",
       "      <td>Ipuina Kontatu, (a feature length documentary)</td>\n",
       "      <td>Documentary</td>\n",
       "      <td>Film &amp; Video</td>\n",
       "      <td>USD</td>\n",
       "      <td>1</td>\n",
       "      <td>12000.0</td>\n",
       "      <td>1</td>\n",
       "      <td>12205.0</td>\n",
       "      <td>successful</td>\n",
       "      <td>59</td>\n",
       "      <td>US</td>\n",
       "      <td>12205.00</td>\n",
       "      <td>12205.00</td>\n",
       "      <td>12000.00</td>\n",
       "      <td>6</td>\n",
       "      <td>6</td>\n",
       "      <td>49</td>\n",
       "    </tr>\n",
       "    <tr>\n",
       "      <th>4</th>\n",
       "      <td>1177460347</td>\n",
       "      <td>Bring The RG to Reading | Art for everyone. (C...</td>\n",
       "      <td>Public Art</td>\n",
       "      <td>Art</td>\n",
       "      <td>GBP</td>\n",
       "      <td>1</td>\n",
       "      <td>50000.0</td>\n",
       "      <td>1</td>\n",
       "      <td>5907.0</td>\n",
       "      <td>canceled</td>\n",
       "      <td>31</td>\n",
       "      <td>GB</td>\n",
       "      <td>9927.31</td>\n",
       "      <td>10034.83</td>\n",
       "      <td>84940.12</td>\n",
       "      <td>6</td>\n",
       "      <td>3</td>\n",
       "      <td>39</td>\n",
       "    </tr>\n",
       "    <tr>\n",
       "      <th>5</th>\n",
       "      <td>1177470526</td>\n",
       "      <td>Cow Invader</td>\n",
       "      <td>Video Games</td>\n",
       "      <td>Games</td>\n",
       "      <td>EUR</td>\n",
       "      <td>1</td>\n",
       "      <td>20000.0</td>\n",
       "      <td>1</td>\n",
       "      <td>13.0</td>\n",
       "      <td>failed</td>\n",
       "      <td>2</td>\n",
       "      <td>FR</td>\n",
       "      <td>14.69</td>\n",
       "      <td>13.89</td>\n",
       "      <td>21375.97</td>\n",
       "      <td>9</td>\n",
       "      <td>2</td>\n",
       "      <td>59</td>\n",
       "    </tr>\n",
       "    <tr>\n",
       "      <th>6</th>\n",
       "      <td>1177480984</td>\n",
       "      <td>It's a Photo Van, man!</td>\n",
       "      <td>Photography</td>\n",
       "      <td>Photography</td>\n",
       "      <td>USD</td>\n",
       "      <td>1</td>\n",
       "      <td>9000.0</td>\n",
       "      <td>1</td>\n",
       "      <td>2730.0</td>\n",
       "      <td>failed</td>\n",
       "      <td>44</td>\n",
       "      <td>US</td>\n",
       "      <td>2730.00</td>\n",
       "      <td>2730.00</td>\n",
       "      <td>9000.00</td>\n",
       "      <td>9</td>\n",
       "      <td>4</td>\n",
       "      <td>44</td>\n",
       "    </tr>\n",
       "    <tr>\n",
       "      <th>7</th>\n",
       "      <td>1177489610</td>\n",
       "      <td>NOVA Fashion Week Designer Project</td>\n",
       "      <td>Fashion</td>\n",
       "      <td>Fashion</td>\n",
       "      <td>USD</td>\n",
       "      <td>1</td>\n",
       "      <td>10000.0</td>\n",
       "      <td>1</td>\n",
       "      <td>1150.0</td>\n",
       "      <td>failed</td>\n",
       "      <td>3</td>\n",
       "      <td>US</td>\n",
       "      <td>1150.00</td>\n",
       "      <td>1150.00</td>\n",
       "      <td>10000.00</td>\n",
       "      <td>8</td>\n",
       "      <td>5</td>\n",
       "      <td>30</td>\n",
       "    </tr>\n",
       "    <tr>\n",
       "      <th>8</th>\n",
       "      <td>1177500682</td>\n",
       "      <td>Fresh Start Juice Co.</td>\n",
       "      <td>Drinks</td>\n",
       "      <td>Food</td>\n",
       "      <td>USD</td>\n",
       "      <td>1</td>\n",
       "      <td>7000.0</td>\n",
       "      <td>1</td>\n",
       "      <td>2.0</td>\n",
       "      <td>failed</td>\n",
       "      <td>2</td>\n",
       "      <td>US</td>\n",
       "      <td>2.00</td>\n",
       "      <td>2.00</td>\n",
       "      <td>7000.00</td>\n",
       "      <td>1</td>\n",
       "      <td>7</td>\n",
       "      <td>45</td>\n",
       "    </tr>\n",
       "    <tr>\n",
       "      <th>9</th>\n",
       "      <td>1177507060</td>\n",
       "      <td>THE HOTEL COLORS</td>\n",
       "      <td>Theater</td>\n",
       "      <td>Theater</td>\n",
       "      <td>USD</td>\n",
       "      <td>1</td>\n",
       "      <td>5500.0</td>\n",
       "      <td>1</td>\n",
       "      <td>6673.0</td>\n",
       "      <td>successful</td>\n",
       "      <td>126</td>\n",
       "      <td>US</td>\n",
       "      <td>6673.00</td>\n",
       "      <td>6673.00</td>\n",
       "      <td>5500.00</td>\n",
       "      <td>3</td>\n",
       "      <td>1</td>\n",
       "      <td>19</td>\n",
       "    </tr>\n",
       "  </tbody>\n",
       "</table>\n",
       "</div>"
      ],
      "text/plain": [
       "           id                                               name  \\\n",
       "0  1177451632                               The Everyday Project   \n",
       "1  1177454326        The Creation of a Digital Fashion Magazine!   \n",
       "2   117745590   Aerial Dream: A collision of snowboarding and RC   \n",
       "3  1177459197     Ipuina Kontatu, (a feature length documentary)   \n",
       "4  1177460347  Bring The RG to Reading | Art for everyone. (C...   \n",
       "5  1177470526                                        Cow Invader   \n",
       "6  1177480984                             It's a Photo Van, man!   \n",
       "7  1177489610                 NOVA Fashion Week Designer Project   \n",
       "8  1177500682                              Fresh Start Juice Co.   \n",
       "9  1177507060                                   THE HOTEL COLORS   \n",
       "\n",
       "       category main_category currency  deadline     goal  launched  pledged  \\\n",
       "0  Experimental  Film & Video      USD         1     50.0         1    223.0   \n",
       "1   Periodicals    Publishing      USD         1   5000.0         1      0.0   \n",
       "2  Film & Video  Film & Video      USD         1   7500.0         1     35.0   \n",
       "3   Documentary  Film & Video      USD         1  12000.0         1  12205.0   \n",
       "4    Public Art           Art      GBP         1  50000.0         1   5907.0   \n",
       "5   Video Games         Games      EUR         1  20000.0         1     13.0   \n",
       "6   Photography   Photography      USD         1   9000.0         1   2730.0   \n",
       "7       Fashion       Fashion      USD         1  10000.0         1   1150.0   \n",
       "8        Drinks          Food      USD         1   7000.0         1      2.0   \n",
       "9       Theater       Theater      USD         1   5500.0         1   6673.0   \n",
       "\n",
       "        state  backers country  usd_pledged  usd_pledged_real  usd_goal_real  \\\n",
       "0  successful       35      US       223.00            223.00          50.00   \n",
       "1      failed        0      US         0.00              0.00        5000.00   \n",
       "2      failed        2      US        35.00             35.00        7500.00   \n",
       "3  successful       59      US     12205.00          12205.00       12000.00   \n",
       "4    canceled       31      GB      9927.31          10034.83       84940.12   \n",
       "5      failed        2      FR        14.69             13.89       21375.97   \n",
       "6      failed       44      US      2730.00           2730.00        9000.00   \n",
       "7      failed        3      US      1150.00           1150.00       10000.00   \n",
       "8      failed        2      US         2.00              2.00        7000.00   \n",
       "9  successful      126      US      6673.00           6673.00        5500.00   \n",
       "\n",
       "   launch_month  launch_dow  duration  \n",
       "0             5           3        29  \n",
       "1             3           5        29  \n",
       "2             9           3        50  \n",
       "3             6           6        49  \n",
       "4             6           3        39  \n",
       "5             9           2        59  \n",
       "6             9           4        44  \n",
       "7             8           5        30  \n",
       "8             1           7        45  \n",
       "9             3           1        19  "
      ]
     },
     "execution_count": 101,
     "metadata": {},
     "output_type": "execute_result"
    }
   ],
   "source": [
    "instances"
   ]
  },
  {
   "cell_type": "markdown",
   "metadata": {},
   "source": [
    "#### If you need any support,  please feel free to contact me at bablanchard@smu.edu"
   ]
  },
  {
   "cell_type": "code",
   "execution_count": 17,
   "metadata": {},
   "outputs": [
    {
     "name": "stdout",
     "output_type": "stream",
     "text": [
      "H2O session _sid_bfda closed.\n"
     ]
    }
   ],
   "source": [
    "h2o.cluster().shutdown()"
   ]
  },
  {
   "cell_type": "code",
   "execution_count": null,
   "metadata": {},
   "outputs": [],
   "source": []
  }
 ],
 "metadata": {
  "kernelspec": {
   "display_name": "Python 3 (ipykernel)",
   "language": "python",
   "name": "python3"
  },
  "language_info": {
   "codemirror_mode": {
    "name": "ipython",
    "version": 3
   },
   "file_extension": ".py",
   "mimetype": "text/x-python",
   "name": "python",
   "nbconvert_exporter": "python",
   "pygments_lexer": "ipython3",
   "version": "3.10.4"
  }
 },
 "nbformat": 4,
 "nbformat_minor": 2
}
