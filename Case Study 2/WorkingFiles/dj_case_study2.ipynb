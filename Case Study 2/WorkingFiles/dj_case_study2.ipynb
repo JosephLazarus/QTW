{
 "cells": [
  {
   "cell_type": "markdown",
   "metadata": {},
   "source": [
    "# Log Reggression"
   ]
  },
  {
   "cell_type": "markdown",
   "metadata": {},
   "source": [
    "## Imports"
   ]
  },
  {
   "cell_type": "code",
   "execution_count": 50,
   "metadata": {},
   "outputs": [],
   "source": [
    "import pandas as pd\n",
    "from sklearn.linear_model import LogisticRegressionCV\n",
    "import missingno as msno\n",
    "import seaborn as sns\n",
    "import matplotlib.pyplot as plt\n",
    "import numpy as np"
   ]
  },
  {
   "cell_type": "code",
   "execution_count": 52,
   "metadata": {},
   "outputs": [
    {
     "data": {
      "image/png": "[encoded data removed]",
      "text/plain": [
       "<Figure size 432x432 with 1 Axes>"
      ]
     },
     "metadata": {
      "needs_background": "light"
     },
     "output_type": "display_data"
    }
   ],
   "source": [
    "%matplotlib inline\n",
    "data = np.random.normal(0, 1, 3)\n",
    "# array([-1.18878589,  0.59627021,  1.59895721])\n",
    "plt.figure(figsize=(6, 6))\n",
    "sns.boxplot(x=data);"
   ]
  },
  {
   "cell_type": "markdown",
   "metadata": {},
   "source": [
    "## Read Data"
   ]
  },
  {
   "cell_type": "markdown",
   "metadata": {},
   "source": [
    "### Df's for mapping from..."
   ]
  },
  {
   "cell_type": "code",
   "execution_count": 2,
   "metadata": {},
   "outputs": [
    {
     "data": {
      "text/html": [
       "<div>\n",
       "<style scoped>\n",
       "    .dataframe tbody tr th:only-of-type {\n",
       "        vertical-align: middle;\n",
       "    }\n",
       "\n",
       "    .dataframe tbody tr th {\n",
       "        vertical-align: top;\n",
       "    }\n",
       "\n",
       "    .dataframe thead th {\n",
       "        text-align: right;\n",
       "    }\n",
       "</style>\n",
       "<table border=\"1\" class=\"dataframe\">\n",
       "  <thead>\n",
       "    <tr style=\"text-align: right;\">\n",
       "      <th></th>\n",
       "      <th>description</th>\n",
       "    </tr>\n",
       "    <tr>\n",
       "      <th>admission_source_id</th>\n",
       "      <th></th>\n",
       "    </tr>\n",
       "  </thead>\n",
       "  <tbody>\n",
       "    <tr>\n",
       "      <th>1</th>\n",
       "      <td>Physician Referral</td>\n",
       "    </tr>\n",
       "    <tr>\n",
       "      <th>2</th>\n",
       "      <td>Clinic Referral</td>\n",
       "    </tr>\n",
       "    <tr>\n",
       "      <th>3</th>\n",
       "      <td>HMO Referral</td>\n",
       "    </tr>\n",
       "    <tr>\n",
       "      <th>4</th>\n",
       "      <td>Transfer from a hospital</td>\n",
       "    </tr>\n",
       "    <tr>\n",
       "      <th>5</th>\n",
       "      <td>Transfer from a Skilled Nursing Facility (SNF)</td>\n",
       "    </tr>\n",
       "  </tbody>\n",
       "</table>\n",
       "</div>"
      ],
      "text/plain": [
       "                                                         description\n",
       "admission_source_id                                                 \n",
       "1                                                 Physician Referral\n",
       "2                                                    Clinic Referral\n",
       "3                                                       HMO Referral\n",
       "4                                           Transfer from a hospital\n",
       "5                     Transfer from a Skilled Nursing Facility (SNF)"
      ]
     },
     "execution_count": 2,
     "metadata": {},
     "output_type": "execute_result"
    }
   ],
   "source": [
    "df_id_admin = pd.read_csv(r'..\\dataset_diabetes\\admin_source.csv')\n",
    "df_id_admin.set_index(\"admission_source_id\", inplace=True)\n",
    "df_id_admin.head()"
   ]
  },
  {
   "cell_type": "code",
   "execution_count": 3,
   "metadata": {},
   "outputs": [
    {
     "data": {
      "text/plain": [
       "{1: ' Physician Referral',\n",
       " 2: 'Clinic Referral',\n",
       " 3: 'HMO Referral',\n",
       " 4: 'Transfer from a hospital',\n",
       " 5: ' Transfer from a Skilled Nursing Facility (SNF)',\n",
       " 6: ' Transfer from another health care facility',\n",
       " 7: ' Emergency Room',\n",
       " 8: ' Court/Law Enforcement',\n",
       " 9: ' Not Available',\n",
       " 10: ' Transfer from critial access hospital',\n",
       " 11: 'Normal Delivery',\n",
       " 12: ' Premature Delivery',\n",
       " 13: ' Sick Baby',\n",
       " 14: ' Extramural Birth',\n",
       " 15: 'Not Available',\n",
       " 17: nan,\n",
       " 18: ' Transfer From Another Home Health Agency',\n",
       " 19: 'Readmission to Same Home Health Agency',\n",
       " 20: ' Not Mapped',\n",
       " 21: 'Unknown/Invalid',\n",
       " 22: ' Transfer from hospital inpt/same fac reslt in a sep claim',\n",
       " 23: ' Born inside this hospital',\n",
       " 24: ' Born outside this hospital',\n",
       " 25: ' Transfer from Ambulatory Surgery Center',\n",
       " 26: 'Transfer from Hospice'}"
      ]
     },
     "execution_count": 3,
     "metadata": {},
     "output_type": "execute_result"
    }
   ],
   "source": [
    "dict_admin_source = df_id_admin.to_dict()['description']\n",
    "dict_admin_source"
   ]
  },
  {
   "cell_type": "code",
   "execution_count": 4,
   "metadata": {},
   "outputs": [
    {
     "data": {
      "text/html": [
       "<div>\n",
       "<style scoped>\n",
       "    .dataframe tbody tr th:only-of-type {\n",
       "        vertical-align: middle;\n",
       "    }\n",
       "\n",
       "    .dataframe tbody tr th {\n",
       "        vertical-align: top;\n",
       "    }\n",
       "\n",
       "    .dataframe thead th {\n",
       "        text-align: right;\n",
       "    }\n",
       "</style>\n",
       "<table border=\"1\" class=\"dataframe\">\n",
       "  <thead>\n",
       "    <tr style=\"text-align: right;\">\n",
       "      <th></th>\n",
       "      <th>admission_type_id</th>\n",
       "      <th>description</th>\n",
       "    </tr>\n",
       "  </thead>\n",
       "  <tbody>\n",
       "    <tr>\n",
       "      <th>0</th>\n",
       "      <td>1</td>\n",
       "      <td>Emergency</td>\n",
       "    </tr>\n",
       "    <tr>\n",
       "      <th>1</th>\n",
       "      <td>2</td>\n",
       "      <td>Urgent</td>\n",
       "    </tr>\n",
       "    <tr>\n",
       "      <th>2</th>\n",
       "      <td>3</td>\n",
       "      <td>Elective</td>\n",
       "    </tr>\n",
       "    <tr>\n",
       "      <th>3</th>\n",
       "      <td>4</td>\n",
       "      <td>Newborn</td>\n",
       "    </tr>\n",
       "    <tr>\n",
       "      <th>4</th>\n",
       "      <td>5</td>\n",
       "      <td>Not Available</td>\n",
       "    </tr>\n",
       "  </tbody>\n",
       "</table>\n",
       "</div>"
      ],
      "text/plain": [
       "   admission_type_id    description\n",
       "0                  1      Emergency\n",
       "1                  2         Urgent\n",
       "2                  3       Elective\n",
       "3                  4        Newborn\n",
       "4                  5  Not Available"
      ]
     },
     "execution_count": 4,
     "metadata": {},
     "output_type": "execute_result"
    }
   ],
   "source": [
    "df_admin_type = pd.read_csv(r'..\\dataset_diabetes\\admin_type.csv')\n",
    "df_admin_type.head()"
   ]
  },
  {
   "cell_type": "code",
   "execution_count": 5,
   "metadata": {},
   "outputs": [
    {
     "data": {
      "text/plain": [
       "{0: 'Emergency',\n",
       " 1: 'Urgent',\n",
       " 2: 'Elective',\n",
       " 3: 'Newborn',\n",
       " 4: 'Not Available',\n",
       " 5: nan,\n",
       " 6: 'Trauma Center',\n",
       " 7: 'Not Mapped'}"
      ]
     },
     "execution_count": 5,
     "metadata": {},
     "output_type": "execute_result"
    }
   ],
   "source": [
    "dict_admin_type = df_admin_type.to_dict()['description']\n",
    "dict_admin_type"
   ]
  },
  {
   "cell_type": "code",
   "execution_count": 6,
   "metadata": {},
   "outputs": [
    {
     "data": {
      "text/html": [
       "<div>\n",
       "<style scoped>\n",
       "    .dataframe tbody tr th:only-of-type {\n",
       "        vertical-align: middle;\n",
       "    }\n",
       "\n",
       "    .dataframe tbody tr th {\n",
       "        vertical-align: top;\n",
       "    }\n",
       "\n",
       "    .dataframe thead th {\n",
       "        text-align: right;\n",
       "    }\n",
       "</style>\n",
       "<table border=\"1\" class=\"dataframe\">\n",
       "  <thead>\n",
       "    <tr style=\"text-align: right;\">\n",
       "      <th></th>\n",
       "      <th>discharge_disposition_id</th>\n",
       "      <th>description</th>\n",
       "    </tr>\n",
       "  </thead>\n",
       "  <tbody>\n",
       "    <tr>\n",
       "      <th>0</th>\n",
       "      <td>1</td>\n",
       "      <td>Discharged to home</td>\n",
       "    </tr>\n",
       "    <tr>\n",
       "      <th>1</th>\n",
       "      <td>2</td>\n",
       "      <td>Discharged/transferred to another short term h...</td>\n",
       "    </tr>\n",
       "    <tr>\n",
       "      <th>2</th>\n",
       "      <td>3</td>\n",
       "      <td>Discharged/transferred to SNF</td>\n",
       "    </tr>\n",
       "    <tr>\n",
       "      <th>3</th>\n",
       "      <td>4</td>\n",
       "      <td>Discharged/transferred to ICF</td>\n",
       "    </tr>\n",
       "    <tr>\n",
       "      <th>4</th>\n",
       "      <td>5</td>\n",
       "      <td>Discharged/transferred to another type of inpa...</td>\n",
       "    </tr>\n",
       "  </tbody>\n",
       "</table>\n",
       "</div>"
      ],
      "text/plain": [
       "   discharge_disposition_id                                        description\n",
       "0                         1                                 Discharged to home\n",
       "1                         2  Discharged/transferred to another short term h...\n",
       "2                         3                      Discharged/transferred to SNF\n",
       "3                         4                      Discharged/transferred to ICF\n",
       "4                         5  Discharged/transferred to another type of inpa..."
      ]
     },
     "execution_count": 6,
     "metadata": {},
     "output_type": "execute_result"
    }
   ],
   "source": [
    "df_id_discharge = pd.read_csv(r'..\\dataset_diabetes\\discharge_dispo.csv')\n",
    "df_id_discharge.head()"
   ]
  },
  {
   "cell_type": "code",
   "execution_count": 7,
   "metadata": {},
   "outputs": [
    {
     "data": {
      "text/plain": [
       "{0: 'Discharged to home',\n",
       " 1: 'Discharged/transferred to another short term hospital',\n",
       " 2: 'Discharged/transferred to SNF',\n",
       " 3: 'Discharged/transferred to ICF',\n",
       " 4: 'Discharged/transferred to another type of inpatient care institution',\n",
       " 5: 'Discharged/transferred to home with home health service',\n",
       " 6: 'Left AMA',\n",
       " 7: 'Discharged/transferred to home under care of Home IV provider',\n",
       " 8: 'Admitted as an inpatient to this hospital',\n",
       " 9: 'Neonate discharged to another hospital for neonatal aftercare',\n",
       " 10: 'Expired',\n",
       " 11: 'Still patient or expected to return for outpatient services',\n",
       " 12: 'Hospice / home',\n",
       " 13: 'Hospice / medical facility',\n",
       " 14: 'Discharged/transferred within this institution to Medicare approved swing bed',\n",
       " 15: 'Discharged/transferred/referred another institution for outpatient services',\n",
       " 16: 'Discharged/transferred/referred to this institution for outpatient services',\n",
       " 17: nan,\n",
       " 18: 'Expired at home. Medicaid only, hospice.',\n",
       " 19: 'Expired in a medical facility. Medicaid only, hospice.',\n",
       " 20: 'Expired, place unknown. Medicaid only, hospice.',\n",
       " 21: 'Discharged/transferred to another rehab fac including rehab units of a hospital .',\n",
       " 22: 'Discharged/transferred to a long term care hospital.',\n",
       " 23: 'Discharged/transferred to a nursing facility certified under Medicaid but not certified under Medicare.',\n",
       " 24: 'Not Mapped',\n",
       " 25: 'Unknown/Invalid',\n",
       " 26: 'Discharged/transferred to another Type of Health Care Institution not Defined Elsewhere',\n",
       " 27: 'Discharged/transferred to a federal health care facility.',\n",
       " 28: 'Discharged/transferred/referred to a psychiatric hospital of psychiatric distinct part unit of a hospital',\n",
       " 29: 'Discharged/transferred to a Critical Access Hospital (CAH).'}"
      ]
     },
     "execution_count": 7,
     "metadata": {},
     "output_type": "execute_result"
    }
   ],
   "source": [
    "dict_discharge_dispo = df_id_discharge.to_dict()['description']\n",
    "dict_discharge_dispo"
   ]
  },
  {
   "cell_type": "markdown",
   "metadata": {},
   "source": [
    "### Diabetes df"
   ]
  },
  {
   "cell_type": "code",
   "execution_count": 8,
   "metadata": {},
   "outputs": [
    {
     "name": "stdout",
     "output_type": "stream",
     "text": [
      "Index(['encounter_id', 'patient_nbr', 'race', 'gender', 'age', 'weight',\n",
      "       'admission_type_id', 'discharge_disposition_id', 'admission_source_id',\n",
      "       'time_in_hospital', 'payer_code', 'medical_specialty',\n",
      "       'num_lab_procedures', 'num_procedures', 'num_medications',\n",
      "       'number_outpatient', 'number_emergency', 'number_inpatient', 'diag_1',\n",
      "       'diag_2', 'diag_3', 'number_diagnoses', 'max_glu_serum', 'A1Cresult',\n",
      "       'metformin', 'repaglinide', 'nateglinide', 'chlorpropamide',\n",
      "       'glimepiride', 'acetohexamide', 'glipizide', 'glyburide', 'tolbutamide',\n",
      "       'pioglitazone', 'rosiglitazone', 'acarbose', 'miglitol', 'troglitazone',\n",
      "       'tolazamide', 'examide', 'citoglipton', 'insulin',\n",
      "       'glyburide-metformin', 'glipizide-metformin',\n",
      "       'glimepiride-pioglitazone', 'metformin-rosiglitazone',\n",
      "       'metformin-pioglitazone', 'change', 'diabetesMed', 'readmitted'],\n",
      "      dtype='object')\n"
     ]
    },
    {
     "name": "stderr",
     "output_type": "stream",
     "text": [
      "c:\\Users\\OaklandHillsMansion\\anaconda3\\lib\\site-packages\\IPython\\core\\interactiveshell.py:3165: DtypeWarning: Columns (10) have mixed types.Specify dtype option on import or set low_memory=False.\n",
      "  has_raised = await self.run_ast_nodes(code_ast.body, cell_name,\n"
     ]
    },
    {
     "data": {
      "text/html": [
       "<div>\n",
       "<style scoped>\n",
       "    .dataframe tbody tr th:only-of-type {\n",
       "        vertical-align: middle;\n",
       "    }\n",
       "\n",
       "    .dataframe tbody tr th {\n",
       "        vertical-align: top;\n",
       "    }\n",
       "\n",
       "    .dataframe thead th {\n",
       "        text-align: right;\n",
       "    }\n",
       "</style>\n",
       "<table border=\"1\" class=\"dataframe\">\n",
       "  <thead>\n",
       "    <tr style=\"text-align: right;\">\n",
       "      <th></th>\n",
       "      <th>encounter_id</th>\n",
       "      <th>patient_nbr</th>\n",
       "      <th>race</th>\n",
       "      <th>gender</th>\n",
       "      <th>age</th>\n",
       "      <th>weight</th>\n",
       "      <th>admission_type_id</th>\n",
       "      <th>discharge_disposition_id</th>\n",
       "      <th>admission_source_id</th>\n",
       "      <th>time_in_hospital</th>\n",
       "      <th>...</th>\n",
       "      <th>citoglipton</th>\n",
       "      <th>insulin</th>\n",
       "      <th>glyburide-metformin</th>\n",
       "      <th>glipizide-metformin</th>\n",
       "      <th>glimepiride-pioglitazone</th>\n",
       "      <th>metformin-rosiglitazone</th>\n",
       "      <th>metformin-pioglitazone</th>\n",
       "      <th>change</th>\n",
       "      <th>diabetesMed</th>\n",
       "      <th>readmitted</th>\n",
       "    </tr>\n",
       "  </thead>\n",
       "  <tbody>\n",
       "    <tr>\n",
       "      <th>0</th>\n",
       "      <td>2278392</td>\n",
       "      <td>8222157</td>\n",
       "      <td>Caucasian</td>\n",
       "      <td>Female</td>\n",
       "      <td>[0-10)</td>\n",
       "      <td>NaN</td>\n",
       "      <td>6</td>\n",
       "      <td>25</td>\n",
       "      <td>1</td>\n",
       "      <td>1</td>\n",
       "      <td>...</td>\n",
       "      <td>No</td>\n",
       "      <td>No</td>\n",
       "      <td>No</td>\n",
       "      <td>No</td>\n",
       "      <td>No</td>\n",
       "      <td>No</td>\n",
       "      <td>No</td>\n",
       "      <td>No</td>\n",
       "      <td>No</td>\n",
       "      <td>NO</td>\n",
       "    </tr>\n",
       "    <tr>\n",
       "      <th>1</th>\n",
       "      <td>149190</td>\n",
       "      <td>55629189</td>\n",
       "      <td>Caucasian</td>\n",
       "      <td>Female</td>\n",
       "      <td>[10-20)</td>\n",
       "      <td>NaN</td>\n",
       "      <td>1</td>\n",
       "      <td>1</td>\n",
       "      <td>7</td>\n",
       "      <td>3</td>\n",
       "      <td>...</td>\n",
       "      <td>No</td>\n",
       "      <td>Up</td>\n",
       "      <td>No</td>\n",
       "      <td>No</td>\n",
       "      <td>No</td>\n",
       "      <td>No</td>\n",
       "      <td>No</td>\n",
       "      <td>Ch</td>\n",
       "      <td>Yes</td>\n",
       "      <td>&gt;30</td>\n",
       "    </tr>\n",
       "    <tr>\n",
       "      <th>2</th>\n",
       "      <td>64410</td>\n",
       "      <td>86047875</td>\n",
       "      <td>AfricanAmerican</td>\n",
       "      <td>Female</td>\n",
       "      <td>[20-30)</td>\n",
       "      <td>NaN</td>\n",
       "      <td>1</td>\n",
       "      <td>1</td>\n",
       "      <td>7</td>\n",
       "      <td>2</td>\n",
       "      <td>...</td>\n",
       "      <td>No</td>\n",
       "      <td>No</td>\n",
       "      <td>No</td>\n",
       "      <td>No</td>\n",
       "      <td>No</td>\n",
       "      <td>No</td>\n",
       "      <td>No</td>\n",
       "      <td>No</td>\n",
       "      <td>Yes</td>\n",
       "      <td>NO</td>\n",
       "    </tr>\n",
       "    <tr>\n",
       "      <th>3</th>\n",
       "      <td>500364</td>\n",
       "      <td>82442376</td>\n",
       "      <td>Caucasian</td>\n",
       "      <td>Male</td>\n",
       "      <td>[30-40)</td>\n",
       "      <td>NaN</td>\n",
       "      <td>1</td>\n",
       "      <td>1</td>\n",
       "      <td>7</td>\n",
       "      <td>2</td>\n",
       "      <td>...</td>\n",
       "      <td>No</td>\n",
       "      <td>Up</td>\n",
       "      <td>No</td>\n",
       "      <td>No</td>\n",
       "      <td>No</td>\n",
       "      <td>No</td>\n",
       "      <td>No</td>\n",
       "      <td>Ch</td>\n",
       "      <td>Yes</td>\n",
       "      <td>NO</td>\n",
       "    </tr>\n",
       "    <tr>\n",
       "      <th>4</th>\n",
       "      <td>16680</td>\n",
       "      <td>42519267</td>\n",
       "      <td>Caucasian</td>\n",
       "      <td>Male</td>\n",
       "      <td>[40-50)</td>\n",
       "      <td>NaN</td>\n",
       "      <td>1</td>\n",
       "      <td>1</td>\n",
       "      <td>7</td>\n",
       "      <td>1</td>\n",
       "      <td>...</td>\n",
       "      <td>No</td>\n",
       "      <td>Steady</td>\n",
       "      <td>No</td>\n",
       "      <td>No</td>\n",
       "      <td>No</td>\n",
       "      <td>No</td>\n",
       "      <td>No</td>\n",
       "      <td>Ch</td>\n",
       "      <td>Yes</td>\n",
       "      <td>NO</td>\n",
       "    </tr>\n",
       "  </tbody>\n",
       "</table>\n",
       "<p>5 rows × 50 columns</p>\n",
       "</div>"
      ],
      "text/plain": [
       "   encounter_id  patient_nbr             race  gender      age weight  \\\n",
       "0       2278392      8222157        Caucasian  Female   [0-10)    NaN   \n",
       "1        149190     55629189        Caucasian  Female  [10-20)    NaN   \n",
       "2         64410     86047875  AfricanAmerican  Female  [20-30)    NaN   \n",
       "3        500364     82442376        Caucasian    Male  [30-40)    NaN   \n",
       "4         16680     42519267        Caucasian    Male  [40-50)    NaN   \n",
       "\n",
       "   admission_type_id  discharge_disposition_id  admission_source_id  \\\n",
       "0                  6                        25                    1   \n",
       "1                  1                         1                    7   \n",
       "2                  1                         1                    7   \n",
       "3                  1                         1                    7   \n",
       "4                  1                         1                    7   \n",
       "\n",
       "   time_in_hospital  ... citoglipton insulin  glyburide-metformin  \\\n",
       "0                 1  ...          No      No                   No   \n",
       "1                 3  ...          No      Up                   No   \n",
       "2                 2  ...          No      No                   No   \n",
       "3                 2  ...          No      Up                   No   \n",
       "4                 1  ...          No  Steady                   No   \n",
       "\n",
       "   glipizide-metformin  glimepiride-pioglitazone  metformin-rosiglitazone  \\\n",
       "0                   No                        No                       No   \n",
       "1                   No                        No                       No   \n",
       "2                   No                        No                       No   \n",
       "3                   No                        No                       No   \n",
       "4                   No                        No                       No   \n",
       "\n",
       "   metformin-pioglitazone  change diabetesMed readmitted  \n",
       "0                      No      No          No         NO  \n",
       "1                      No      Ch         Yes        >30  \n",
       "2                      No      No         Yes         NO  \n",
       "3                      No      Ch         Yes         NO  \n",
       "4                      No      Ch         Yes         NO  \n",
       "\n",
       "[5 rows x 50 columns]"
      ]
     },
     "execution_count": 8,
     "metadata": {},
     "output_type": "execute_result"
    }
   ],
   "source": [
    "df_diabetes = pd.read_csv(r\"https://raw.githubusercontent.com/JosephLazarus/QTW/main/Case%20Study%202/Data/diabetic_data.csv\", na_values='?')\n",
    "print(df_diabetes.columns)\n",
    "df_diabetes.head()"
   ]
  },
  {
   "cell_type": "markdown",
   "metadata": {},
   "source": [
    "### Mapping"
   ]
  },
  {
   "cell_type": "code",
   "execution_count": 9,
   "metadata": {},
   "outputs": [
    {
     "data": {
      "text/plain": [
       "0     Physician Referral\n",
       "1         Emergency Room\n",
       "2         Emergency Room\n",
       "3         Emergency Room\n",
       "4         Emergency Room\n",
       "Name: admission_source_id, dtype: object"
      ]
     },
     "execution_count": 9,
     "metadata": {},
     "output_type": "execute_result"
    }
   ],
   "source": [
    "df_diabetes[\"admission_source_id\"] = df_diabetes[\"admission_source_id\"].map(dict_admin_source)\n",
    "df_diabetes[\"admission_source_id\"].head()"
   ]
  },
  {
   "cell_type": "code",
   "execution_count": 10,
   "metadata": {},
   "outputs": [
    {
     "data": {
      "text/plain": [
       "0    Trauma Center\n",
       "1           Urgent\n",
       "2           Urgent\n",
       "3           Urgent\n",
       "4           Urgent\n",
       "Name: admission_type_id, dtype: object"
      ]
     },
     "execution_count": 10,
     "metadata": {},
     "output_type": "execute_result"
    }
   ],
   "source": [
    "df_diabetes[\"admission_type_id\"] = df_diabetes[\"admission_type_id\"].map(dict_admin_type)\n",
    "df_diabetes[\"admission_type_id\"].head()"
   ]
  },
  {
   "cell_type": "code",
   "execution_count": 11,
   "metadata": {},
   "outputs": [
    {
     "data": {
      "text/plain": [
       "0                                      Unknown/Invalid\n",
       "1    Discharged/transferred to another short term h...\n",
       "2    Discharged/transferred to another short term h...\n",
       "3    Discharged/transferred to another short term h...\n",
       "4    Discharged/transferred to another short term h...\n",
       "Name: discharge_disposition_id, dtype: object"
      ]
     },
     "execution_count": 11,
     "metadata": {},
     "output_type": "execute_result"
    }
   ],
   "source": [
    "df_diabetes[\"discharge_disposition_id\"] = df_diabetes[\"discharge_disposition_id\"].map(dict_discharge_dispo)\n",
    "df_diabetes[\"discharge_disposition_id\"].head()"
   ]
  },
  {
   "cell_type": "markdown",
   "metadata": {},
   "source": [
    "### Add binary target"
   ]
  },
  {
   "cell_type": "code",
   "execution_count": 12,
   "metadata": {},
   "outputs": [],
   "source": [
    "binary_target = {\n",
    "        'NO':0,\n",
    "        '>30':0,\n",
    "        '<30':1\n",
    "}"
   ]
  },
  {
   "cell_type": "code",
   "execution_count": 13,
   "metadata": {},
   "outputs": [
    {
     "data": {
      "text/plain": [
       "0    0\n",
       "1    0\n",
       "2    0\n",
       "3    0\n",
       "4    0\n",
       "Name: was_readmitted, dtype: int64"
      ]
     },
     "execution_count": 13,
     "metadata": {},
     "output_type": "execute_result"
    }
   ],
   "source": [
    "df_diabetes[\"was_readmitted\"] = df_diabetes[\"readmitted\"].map(binary_target)\n",
    "df_diabetes[\"was_readmitted\"].head()"
   ]
  },
  {
   "cell_type": "code",
   "execution_count": 14,
   "metadata": {},
   "outputs": [
    {
     "data": {
      "text/plain": [
       "Index(['encounter_id', 'patient_nbr', 'race', 'gender', 'age', 'weight',\n",
       "       'admission_type_id', 'discharge_disposition_id', 'admission_source_id',\n",
       "       'time_in_hospital', 'payer_code', 'medical_specialty',\n",
       "       'num_lab_procedures', 'num_procedures', 'num_medications',\n",
       "       'number_outpatient', 'number_emergency', 'number_inpatient', 'diag_1',\n",
       "       'diag_2', 'diag_3', 'number_diagnoses', 'max_glu_serum', 'A1Cresult',\n",
       "       'metformin', 'repaglinide', 'nateglinide', 'chlorpropamide',\n",
       "       'glimepiride', 'acetohexamide', 'glipizide', 'glyburide', 'tolbutamide',\n",
       "       'pioglitazone', 'rosiglitazone', 'acarbose', 'miglitol', 'troglitazone',\n",
       "       'tolazamide', 'examide', 'citoglipton', 'insulin',\n",
       "       'glyburide-metformin', 'glipizide-metformin',\n",
       "       'glimepiride-pioglitazone', 'metformin-rosiglitazone',\n",
       "       'metformin-pioglitazone', 'change', 'diabetesMed', 'readmitted',\n",
       "       'was_readmitted'],\n",
       "      dtype='object')"
      ]
     },
     "execution_count": 14,
     "metadata": {},
     "output_type": "execute_result"
    }
   ],
   "source": [
    "df_diabetes.columns"
   ]
  },
  {
   "cell_type": "markdown",
   "metadata": {},
   "source": [
    "### Write to csv"
   ]
  },
  {
   "cell_type": "code",
   "execution_count": 15,
   "metadata": {},
   "outputs": [],
   "source": [
    "# df_diabetes.to_csv('mapped_diabetes.csv',index=False)"
   ]
  },
  {
   "cell_type": "code",
   "execution_count": 16,
   "metadata": {},
   "outputs": [
    {
     "data": {
      "text/html": [
       "<div>\n",
       "<style scoped>\n",
       "    .dataframe tbody tr th:only-of-type {\n",
       "        vertical-align: middle;\n",
       "    }\n",
       "\n",
       "    .dataframe tbody tr th {\n",
       "        vertical-align: top;\n",
       "    }\n",
       "\n",
       "    .dataframe thead th {\n",
       "        text-align: right;\n",
       "    }\n",
       "</style>\n",
       "<table border=\"1\" class=\"dataframe\">\n",
       "  <thead>\n",
       "    <tr style=\"text-align: right;\">\n",
       "      <th></th>\n",
       "      <th>encounter_id</th>\n",
       "      <th>patient_nbr</th>\n",
       "      <th>race</th>\n",
       "      <th>gender</th>\n",
       "      <th>age</th>\n",
       "      <th>weight</th>\n",
       "      <th>admission_type_id</th>\n",
       "      <th>discharge_disposition_id</th>\n",
       "      <th>admission_source_id</th>\n",
       "      <th>time_in_hospital</th>\n",
       "      <th>...</th>\n",
       "      <th>insulin</th>\n",
       "      <th>glyburide-metformin</th>\n",
       "      <th>glipizide-metformin</th>\n",
       "      <th>glimepiride-pioglitazone</th>\n",
       "      <th>metformin-rosiglitazone</th>\n",
       "      <th>metformin-pioglitazone</th>\n",
       "      <th>change</th>\n",
       "      <th>diabetesMed</th>\n",
       "      <th>readmitted</th>\n",
       "      <th>was_readmitted</th>\n",
       "    </tr>\n",
       "  </thead>\n",
       "  <tbody>\n",
       "    <tr>\n",
       "      <th>0</th>\n",
       "      <td>2278392</td>\n",
       "      <td>8222157</td>\n",
       "      <td>Caucasian</td>\n",
       "      <td>Female</td>\n",
       "      <td>[0-10)</td>\n",
       "      <td>NaN</td>\n",
       "      <td>Trauma Center</td>\n",
       "      <td>Unknown/Invalid</td>\n",
       "      <td>Physician Referral</td>\n",
       "      <td>1</td>\n",
       "      <td>...</td>\n",
       "      <td>No</td>\n",
       "      <td>No</td>\n",
       "      <td>No</td>\n",
       "      <td>No</td>\n",
       "      <td>No</td>\n",
       "      <td>No</td>\n",
       "      <td>No</td>\n",
       "      <td>No</td>\n",
       "      <td>NO</td>\n",
       "      <td>0</td>\n",
       "    </tr>\n",
       "    <tr>\n",
       "      <th>1</th>\n",
       "      <td>149190</td>\n",
       "      <td>55629189</td>\n",
       "      <td>Caucasian</td>\n",
       "      <td>Female</td>\n",
       "      <td>[10-20)</td>\n",
       "      <td>NaN</td>\n",
       "      <td>Urgent</td>\n",
       "      <td>Discharged/transferred to another short term h...</td>\n",
       "      <td>Emergency Room</td>\n",
       "      <td>3</td>\n",
       "      <td>...</td>\n",
       "      <td>Up</td>\n",
       "      <td>No</td>\n",
       "      <td>No</td>\n",
       "      <td>No</td>\n",
       "      <td>No</td>\n",
       "      <td>No</td>\n",
       "      <td>Ch</td>\n",
       "      <td>Yes</td>\n",
       "      <td>&gt;30</td>\n",
       "      <td>0</td>\n",
       "    </tr>\n",
       "    <tr>\n",
       "      <th>2</th>\n",
       "      <td>64410</td>\n",
       "      <td>86047875</td>\n",
       "      <td>AfricanAmerican</td>\n",
       "      <td>Female</td>\n",
       "      <td>[20-30)</td>\n",
       "      <td>NaN</td>\n",
       "      <td>Urgent</td>\n",
       "      <td>Discharged/transferred to another short term h...</td>\n",
       "      <td>Emergency Room</td>\n",
       "      <td>2</td>\n",
       "      <td>...</td>\n",
       "      <td>No</td>\n",
       "      <td>No</td>\n",
       "      <td>No</td>\n",
       "      <td>No</td>\n",
       "      <td>No</td>\n",
       "      <td>No</td>\n",
       "      <td>No</td>\n",
       "      <td>Yes</td>\n",
       "      <td>NO</td>\n",
       "      <td>0</td>\n",
       "    </tr>\n",
       "    <tr>\n",
       "      <th>3</th>\n",
       "      <td>500364</td>\n",
       "      <td>82442376</td>\n",
       "      <td>Caucasian</td>\n",
       "      <td>Male</td>\n",
       "      <td>[30-40)</td>\n",
       "      <td>NaN</td>\n",
       "      <td>Urgent</td>\n",
       "      <td>Discharged/transferred to another short term h...</td>\n",
       "      <td>Emergency Room</td>\n",
       "      <td>2</td>\n",
       "      <td>...</td>\n",
       "      <td>Up</td>\n",
       "      <td>No</td>\n",
       "      <td>No</td>\n",
       "      <td>No</td>\n",
       "      <td>No</td>\n",
       "      <td>No</td>\n",
       "      <td>Ch</td>\n",
       "      <td>Yes</td>\n",
       "      <td>NO</td>\n",
       "      <td>0</td>\n",
       "    </tr>\n",
       "    <tr>\n",
       "      <th>4</th>\n",
       "      <td>16680</td>\n",
       "      <td>42519267</td>\n",
       "      <td>Caucasian</td>\n",
       "      <td>Male</td>\n",
       "      <td>[40-50)</td>\n",
       "      <td>NaN</td>\n",
       "      <td>Urgent</td>\n",
       "      <td>Discharged/transferred to another short term h...</td>\n",
       "      <td>Emergency Room</td>\n",
       "      <td>1</td>\n",
       "      <td>...</td>\n",
       "      <td>Steady</td>\n",
       "      <td>No</td>\n",
       "      <td>No</td>\n",
       "      <td>No</td>\n",
       "      <td>No</td>\n",
       "      <td>No</td>\n",
       "      <td>Ch</td>\n",
       "      <td>Yes</td>\n",
       "      <td>NO</td>\n",
       "      <td>0</td>\n",
       "    </tr>\n",
       "  </tbody>\n",
       "</table>\n",
       "<p>5 rows × 51 columns</p>\n",
       "</div>"
      ],
      "text/plain": [
       "   encounter_id  patient_nbr             race  gender      age weight  \\\n",
       "0       2278392      8222157        Caucasian  Female   [0-10)    NaN   \n",
       "1        149190     55629189        Caucasian  Female  [10-20)    NaN   \n",
       "2         64410     86047875  AfricanAmerican  Female  [20-30)    NaN   \n",
       "3        500364     82442376        Caucasian    Male  [30-40)    NaN   \n",
       "4         16680     42519267        Caucasian    Male  [40-50)    NaN   \n",
       "\n",
       "  admission_type_id                           discharge_disposition_id  \\\n",
       "0     Trauma Center                                    Unknown/Invalid   \n",
       "1            Urgent  Discharged/transferred to another short term h...   \n",
       "2            Urgent  Discharged/transferred to another short term h...   \n",
       "3            Urgent  Discharged/transferred to another short term h...   \n",
       "4            Urgent  Discharged/transferred to another short term h...   \n",
       "\n",
       "   admission_source_id  time_in_hospital  ... insulin glyburide-metformin  \\\n",
       "0   Physician Referral                 1  ...      No                  No   \n",
       "1       Emergency Room                 3  ...      Up                  No   \n",
       "2       Emergency Room                 2  ...      No                  No   \n",
       "3       Emergency Room                 2  ...      Up                  No   \n",
       "4       Emergency Room                 1  ...  Steady                  No   \n",
       "\n",
       "   glipizide-metformin  glimepiride-pioglitazone  metformin-rosiglitazone  \\\n",
       "0                   No                        No                       No   \n",
       "1                   No                        No                       No   \n",
       "2                   No                        No                       No   \n",
       "3                   No                        No                       No   \n",
       "4                   No                        No                       No   \n",
       "\n",
       "   metformin-pioglitazone  change  diabetesMed readmitted was_readmitted  \n",
       "0                      No      No           No         NO              0  \n",
       "1                      No      Ch          Yes        >30              0  \n",
       "2                      No      No          Yes         NO              0  \n",
       "3                      No      Ch          Yes         NO              0  \n",
       "4                      No      Ch          Yes         NO              0  \n",
       "\n",
       "[5 rows x 51 columns]"
      ]
     },
     "execution_count": 16,
     "metadata": {},
     "output_type": "execute_result"
    }
   ],
   "source": [
    "df_diabetes.head()"
   ]
  },
  {
   "cell_type": "markdown",
   "metadata": {},
   "source": [
    "### Variable seperation"
   ]
  },
  {
   "cell_type": "code",
   "execution_count": 17,
   "metadata": {},
   "outputs": [],
   "source": [
    "cat_vars_1 =['race', 'gender', 'age', 'weight',\n",
    "       'admission_type_id', 'discharge_disposition_id', 'admission_source_id',\n",
    "       'payer_code', 'medical_specialty','change', 'diabetesMed', 'insulin'\n",
    "       ]\n",
    "\n",
    "cat_vars_2 =[\n",
    "       'max_glu_serum', 'A1Cresult', 'metformin', 'repaglinide', 'nateglinide', 'chlorpropamide',\n",
    "       'glimepiride', 'acetohexamide', 'glipizide', 'glyburide', 'tolbutamide',\n",
    "       'pioglitazone', 'rosiglitazone', 'acarbose', 'miglitol', 'troglitazone',\n",
    "       'tolazamide', 'examide', 'citoglipton', \n",
    "       'glyburide-metformin', 'glipizide-metformin',\n",
    "       'glimepiride-pioglitazone', 'metformin-rosiglitazone',\n",
    "       'metformin-pioglitazone'\n",
    "       ]\n",
    "\n",
    "cat_vars_3 = ['diag_1', 'diag_2', 'diag_3']"
   ]
  },
  {
   "cell_type": "code",
   "execution_count": 18,
   "metadata": {},
   "outputs": [],
   "source": [
    "con_vars = ['time_in_hospital', 'number_diagnoses',\n",
    "    'num_lab_procedures', 'num_procedures', 'num_medications',\n",
    "    'number_outpatient', 'number_emergency', 'number_inpatient',\n",
    "]"
   ]
  },
  {
   "cell_type": "code",
   "execution_count": 19,
   "metadata": {},
   "outputs": [],
   "source": [
    "target_vars= ['readmitted', 'was_readmitted']"
   ]
  },
  {
   "cell_type": "markdown",
   "metadata": {},
   "source": [
    "## EDA"
   ]
  },
  {
   "cell_type": "code",
   "execution_count": 20,
   "metadata": {},
   "outputs": [
    {
     "name": "stdout",
     "output_type": "stream",
     "text": [
      "<class 'pandas.core.frame.DataFrame'>\n",
      "RangeIndex: 101766 entries, 0 to 101765\n",
      "Data columns (total 51 columns):\n",
      " #   Column                    Non-Null Count   Dtype \n",
      "---  ------                    --------------   ----- \n",
      " 0   encounter_id              101766 non-null  int64 \n",
      " 1   patient_nbr               101766 non-null  int64 \n",
      " 2   race                      99493 non-null   object\n",
      " 3   gender                    101766 non-null  object\n",
      " 4   age                       101766 non-null  object\n",
      " 5   weight                    3197 non-null    object\n",
      " 6   admission_type_id         96661 non-null   object\n",
      " 7   discharge_disposition_id  101752 non-null  object\n",
      " 8   admission_source_id       94985 non-null   object\n",
      " 9   time_in_hospital          101766 non-null  int64 \n",
      " 10  payer_code                61510 non-null   object\n",
      " 11  medical_specialty         51817 non-null   object\n",
      " 12  num_lab_procedures        101766 non-null  int64 \n",
      " 13  num_procedures            101766 non-null  int64 \n",
      " 14  num_medications           101766 non-null  int64 \n",
      " 15  number_outpatient         101766 non-null  int64 \n",
      " 16  number_emergency          101766 non-null  int64 \n",
      " 17  number_inpatient          101766 non-null  int64 \n",
      " 18  diag_1                    101745 non-null  object\n",
      " 19  diag_2                    101408 non-null  object\n",
      " 20  diag_3                    100343 non-null  object\n",
      " 21  number_diagnoses          101766 non-null  int64 \n",
      " 22  max_glu_serum             101766 non-null  object\n",
      " 23  A1Cresult                 101766 non-null  object\n",
      " 24  metformin                 101766 non-null  object\n",
      " 25  repaglinide               101766 non-null  object\n",
      " 26  nateglinide               101766 non-null  object\n",
      " 27  chlorpropamide            101766 non-null  object\n",
      " 28  glimepiride               101766 non-null  object\n",
      " 29  acetohexamide             101766 non-null  object\n",
      " 30  glipizide                 101766 non-null  object\n",
      " 31  glyburide                 101766 non-null  object\n",
      " 32  tolbutamide               101766 non-null  object\n",
      " 33  pioglitazone              101766 non-null  object\n",
      " 34  rosiglitazone             101766 non-null  object\n",
      " 35  acarbose                  101766 non-null  object\n",
      " 36  miglitol                  101766 non-null  object\n",
      " 37  troglitazone              101766 non-null  object\n",
      " 38  tolazamide                101766 non-null  object\n",
      " 39  examide                   101766 non-null  object\n",
      " 40  citoglipton               101766 non-null  object\n",
      " 41  insulin                   101766 non-null  object\n",
      " 42  glyburide-metformin       101766 non-null  object\n",
      " 43  glipizide-metformin       101766 non-null  object\n",
      " 44  glimepiride-pioglitazone  101766 non-null  object\n",
      " 45  metformin-rosiglitazone   101766 non-null  object\n",
      " 46  metformin-pioglitazone    101766 non-null  object\n",
      " 47  change                    101766 non-null  object\n",
      " 48  diabetesMed               101766 non-null  object\n",
      " 49  readmitted                101766 non-null  object\n",
      " 50  was_readmitted            101766 non-null  int64 \n",
      "dtypes: int64(11), object(40)\n",
      "memory usage: 39.6+ MB\n"
     ]
    }
   ],
   "source": [
    "df_diabetes.info()"
   ]
  },
  {
   "cell_type": "markdown",
   "metadata": {},
   "source": [
    "### MSNO Matrix"
   ]
  },
  {
   "cell_type": "code",
   "execution_count": 21,
   "metadata": {},
   "outputs": [
    {
     "data": {
      "text/plain": [
       "<AxesSubplot:>"
      ]
     },
     "execution_count": 21,
     "metadata": {},
     "output_type": "execute_result"
    },
    {
     "data": {
      "image/png": "[encoded data removed]",
      "text/plain": [
       "<Figure size 1800x720 with 2 Axes>"
      ]
     },
     "metadata": {
      "needs_background": "light"
     },
     "output_type": "display_data"
    }
   ],
   "source": [
    "# missing values matrix\n",
    "msno.matrix(df_diabetes)"
   ]
  },
  {
   "cell_type": "markdown",
   "metadata": {},
   "source": [
    "### Check class imbalance"
   ]
  },
  {
   "cell_type": "code",
   "execution_count": 137,
   "metadata": {},
   "outputs": [
    {
     "data": {
      "text/html": [
       "<div>\n",
       "<style scoped>\n",
       "    .dataframe tbody tr th:only-of-type {\n",
       "        vertical-align: middle;\n",
       "    }\n",
       "\n",
       "    .dataframe tbody tr th {\n",
       "        vertical-align: top;\n",
       "    }\n",
       "\n",
       "    .dataframe thead th {\n",
       "        text-align: right;\n",
       "    }\n",
       "</style>\n",
       "<table border=\"1\" class=\"dataframe\">\n",
       "  <thead>\n",
       "    <tr style=\"text-align: right;\">\n",
       "      <th></th>\n",
       "      <th>was_readmitted</th>\n",
       "      <th>target_count</th>\n",
       "      <th>percent</th>\n",
       "    </tr>\n",
       "  </thead>\n",
       "  <tbody>\n",
       "    <tr>\n",
       "      <th>0</th>\n",
       "      <td>0</td>\n",
       "      <td>90409</td>\n",
       "      <td>0.888401</td>\n",
       "    </tr>\n",
       "    <tr>\n",
       "      <th>1</th>\n",
       "      <td>1</td>\n",
       "      <td>11357</td>\n",
       "      <td>0.111599</td>\n",
       "    </tr>\n",
       "  </tbody>\n",
       "</table>\n",
       "</div>"
      ],
      "text/plain": [
       "   was_readmitted  target_count   percent\n",
       "0               0         90409  0.888401\n",
       "1               1         11357  0.111599"
      ]
     },
     "execution_count": 137,
     "metadata": {},
     "output_type": "execute_result"
    }
   ],
   "source": [
    "df_gb = df_diabetes.groupby(\"was_readmitted\")[\"readmitted\"].count().reset_index(name=\"target_count\")\n",
    "df_gb[\"percent\"] = df_gb.target_count/df_gb.target_count.sum()\n",
    "\n",
    "df_gb"
   ]
  },
  {
   "cell_type": "code",
   "execution_count": 138,
   "metadata": {},
   "outputs": [
    {
     "data": {
      "image/png": "[encoded data removed]",
      "text/plain": [
       "<Figure size 720x288 with 1 Axes>"
      ]
     },
     "metadata": {
      "needs_background": "light"
     },
     "output_type": "display_data"
    }
   ],
   "source": [
    "plt.figure(figsize=(10,4))\n",
    "sns.barplot(x=\"was_readmitted\", y=\"percent\", hue=\"was_readmitted\", data=df_gb)\n",
    "plt.show()"
   ]
  },
  {
   "cell_type": "markdown",
   "metadata": {},
   "source": [
    "### cat_vars_1 EDA"
   ]
  },
  {
   "cell_type": "code",
   "execution_count": 139,
   "metadata": {},
   "outputs": [
    {
     "name": "stdout",
     "output_type": "stream",
     "text": [
      "medical_specialty           72\n",
      "discharge_disposition_id    25\n",
      "payer_code                  17\n",
      "admission_source_id         16\n",
      "age                         10\n",
      "weight                       9\n",
      "admission_type_id            6\n",
      "race                         5\n",
      "insulin                      4\n",
      "gender                       3\n",
      "change                       2\n",
      "diabetesMed                  2\n",
      "dtype: int64\n"
     ]
    },
    {
     "data": {
      "image/png": "[encoded data removed]",
      "text/plain": [
       "<Figure size 1800x720 with 2 Axes>"
      ]
     },
     "metadata": {
      "needs_background": "light"
     },
     "output_type": "display_data"
    }
   ],
   "source": [
    "print(df_diabetes[cat_vars_1].nunique().sort_values(ascending=False))\n",
    "msno.matrix(df_diabetes[list(df_diabetes[cat_vars_1].nunique().sort_values(ascending=False).index)])\n",
    "val_counts = df_diabetes[\"medical_specialty\"].value_counts().sort_values(ascending=False)"
   ]
  },
  {
   "cell_type": "code",
   "execution_count": 142,
   "metadata": {},
   "outputs": [
    {
     "data": {
      "text/html": [
       "<div>\n",
       "<style scoped>\n",
       "    .dataframe tbody tr th:only-of-type {\n",
       "        vertical-align: middle;\n",
       "    }\n",
       "\n",
       "    .dataframe tbody tr th {\n",
       "        vertical-align: top;\n",
       "    }\n",
       "\n",
       "    .dataframe thead th {\n",
       "        text-align: right;\n",
       "    }\n",
       "</style>\n",
       "<table border=\"1\" class=\"dataframe\">\n",
       "  <thead>\n",
       "    <tr style=\"text-align: right;\">\n",
       "      <th></th>\n",
       "      <th>was_readmitted</th>\n",
       "      <th>gender</th>\n",
       "      <th>target_count</th>\n",
       "      <th>percent</th>\n",
       "    </tr>\n",
       "  </thead>\n",
       "  <tbody>\n",
       "    <tr>\n",
       "      <th>0</th>\n",
       "      <td>0</td>\n",
       "      <td>Female</td>\n",
       "      <td>48556</td>\n",
       "      <td>0.477134</td>\n",
       "    </tr>\n",
       "    <tr>\n",
       "      <th>1</th>\n",
       "      <td>0</td>\n",
       "      <td>Male</td>\n",
       "      <td>41850</td>\n",
       "      <td>0.411238</td>\n",
       "    </tr>\n",
       "    <tr>\n",
       "      <th>2</th>\n",
       "      <td>0</td>\n",
       "      <td>Unknown/Invalid</td>\n",
       "      <td>3</td>\n",
       "      <td>0.000029</td>\n",
       "    </tr>\n",
       "    <tr>\n",
       "      <th>3</th>\n",
       "      <td>1</td>\n",
       "      <td>Female</td>\n",
       "      <td>6152</td>\n",
       "      <td>0.060452</td>\n",
       "    </tr>\n",
       "    <tr>\n",
       "      <th>4</th>\n",
       "      <td>1</td>\n",
       "      <td>Male</td>\n",
       "      <td>5205</td>\n",
       "      <td>0.051147</td>\n",
       "    </tr>\n",
       "  </tbody>\n",
       "</table>\n",
       "</div>"
      ],
      "text/plain": [
       "   was_readmitted           gender  target_count   percent\n",
       "0               0           Female         48556  0.477134\n",
       "1               0             Male         41850  0.411238\n",
       "2               0  Unknown/Invalid             3  0.000029\n",
       "3               1           Female          6152  0.060452\n",
       "4               1             Male          5205  0.051147"
      ]
     },
     "execution_count": 142,
     "metadata": {},
     "output_type": "execute_result"
    }
   ],
   "source": [
    "df_gb = df_diabetes.groupby([\"was_readmitted\", \"gender\"])[\"readmitted\"].count().reset_index(name=\"target_count\")\n",
    "df_gb[\"percent\"] = df_gb[\"target_count\"]/df_gb.target_count.sum()\n",
    "\n",
    "df_gb"
   ]
  },
  {
   "cell_type": "code",
   "execution_count": 151,
   "metadata": {},
   "outputs": [
    {
     "data": {
      "text/html": [
       "<div>\n",
       "<style scoped>\n",
       "    .dataframe tbody tr th:only-of-type {\n",
       "        vertical-align: middle;\n",
       "    }\n",
       "\n",
       "    .dataframe tbody tr th {\n",
       "        vertical-align: top;\n",
       "    }\n",
       "\n",
       "    .dataframe thead th {\n",
       "        text-align: right;\n",
       "    }\n",
       "</style>\n",
       "<table border=\"1\" class=\"dataframe\">\n",
       "  <thead>\n",
       "    <tr style=\"text-align: right;\">\n",
       "      <th></th>\n",
       "      <th>was_readmitted</th>\n",
       "      <th>medical_specialty</th>\n",
       "      <th>target_count</th>\n",
       "      <th>percent</th>\n",
       "    </tr>\n",
       "  </thead>\n",
       "  <tbody>\n",
       "    <tr>\n",
       "      <th>18</th>\n",
       "      <td>0</td>\n",
       "      <td>InternalMedicine</td>\n",
       "      <td>12989</td>\n",
       "      <td>0.250671</td>\n",
       "    </tr>\n",
       "    <tr>\n",
       "      <th>8</th>\n",
       "      <td>0</td>\n",
       "      <td>Emergency/Trauma</td>\n",
       "      <td>6719</td>\n",
       "      <td>0.129668</td>\n",
       "    </tr>\n",
       "    <tr>\n",
       "      <th>11</th>\n",
       "      <td>0</td>\n",
       "      <td>Family/GeneralPractice</td>\n",
       "      <td>6557</td>\n",
       "      <td>0.126541</td>\n",
       "    </tr>\n",
       "    <tr>\n",
       "      <th>3</th>\n",
       "      <td>0</td>\n",
       "      <td>Cardiology</td>\n",
       "      <td>4927</td>\n",
       "      <td>0.095085</td>\n",
       "    </tr>\n",
       "    <tr>\n",
       "      <th>62</th>\n",
       "      <td>0</td>\n",
       "      <td>Surgery-General</td>\n",
       "      <td>2757</td>\n",
       "      <td>0.053206</td>\n",
       "    </tr>\n",
       "    <tr>\n",
       "      <th>...</th>\n",
       "      <td>...</td>\n",
       "      <td>...</td>\n",
       "      <td>...</td>\n",
       "      <td>...</td>\n",
       "    </tr>\n",
       "    <tr>\n",
       "      <th>21</th>\n",
       "      <td>0</td>\n",
       "      <td>Neurophysiology</td>\n",
       "      <td>1</td>\n",
       "      <td>0.000019</td>\n",
       "    </tr>\n",
       "    <tr>\n",
       "      <th>99</th>\n",
       "      <td>1</td>\n",
       "      <td>Pathology</td>\n",
       "      <td>1</td>\n",
       "      <td>0.000019</td>\n",
       "    </tr>\n",
       "    <tr>\n",
       "      <th>98</th>\n",
       "      <td>1</td>\n",
       "      <td>OutreachServices</td>\n",
       "      <td>1</td>\n",
       "      <td>0.000019</td>\n",
       "    </tr>\n",
       "    <tr>\n",
       "      <th>79</th>\n",
       "      <td>1</td>\n",
       "      <td>Endocrinology-Metabolism</td>\n",
       "      <td>1</td>\n",
       "      <td>0.000019</td>\n",
       "    </tr>\n",
       "    <tr>\n",
       "      <th>42</th>\n",
       "      <td>0</td>\n",
       "      <td>Perinatology</td>\n",
       "      <td>1</td>\n",
       "      <td>0.000019</td>\n",
       "    </tr>\n",
       "  </tbody>\n",
       "</table>\n",
       "<p>128 rows × 4 columns</p>\n",
       "</div>"
      ],
      "text/plain": [
       "    was_readmitted         medical_specialty  target_count   percent\n",
       "18               0          InternalMedicine         12989  0.250671\n",
       "8                0          Emergency/Trauma          6719  0.129668\n",
       "11               0    Family/GeneralPractice          6557  0.126541\n",
       "3                0                Cardiology          4927  0.095085\n",
       "62               0           Surgery-General          2757  0.053206\n",
       "..             ...                       ...           ...       ...\n",
       "21               0           Neurophysiology             1  0.000019\n",
       "99               1                 Pathology             1  0.000019\n",
       "98               1          OutreachServices             1  0.000019\n",
       "79               1  Endocrinology-Metabolism             1  0.000019\n",
       "42               0              Perinatology             1  0.000019\n",
       "\n",
       "[128 rows x 4 columns]"
      ]
     },
     "execution_count": 151,
     "metadata": {},
     "output_type": "execute_result"
    }
   ],
   "source": [
    "cat_value = \"medical_specialty\"\n",
    "\n",
    "df_gb = df_diabetes.groupby([\"was_readmitted\", cat_value])[\"readmitted\"].count().reset_index(name=\"target_count\")\n",
    "df_gb[\"percent\"] = df_gb[\"target_count\"]/df_gb.target_count.sum()\n",
    "df_gb.sort_values(by=[\"percent\"], ascending=False, inplace=True)\n",
    "df_gb"
   ]
  },
  {
   "cell_type": "code",
   "execution_count": 152,
   "metadata": {},
   "outputs": [
    {
     "data": {
      "text/plain": [
       "<AxesSubplot:xlabel='medical_specialty', ylabel='percent'>"
      ]
     },
     "execution_count": 152,
     "metadata": {},
     "output_type": "execute_result"
    },
    {
     "data": {
      "image/png": "[encoded data removed]",
      "text/plain": [
       "<Figure size 1440x432 with 1 Axes>"
      ]
     },
     "metadata": {
      "needs_background": "light"
     },
     "output_type": "display_data"
    }
   ],
   "source": [
    "\n",
    "plt.figure(figsize=(20, 6))\n",
    "sns.barplot(x=cat_value, y=\"percent\", data=df_gb, hue='was_readmitted')"
   ]
  },
  {
   "cell_type": "code",
   "execution_count": 185,
   "metadata": {},
   "outputs": [
    {
     "data": {
      "text/html": [
       "<div>\n",
       "<style scoped>\n",
       "    .dataframe tbody tr th:only-of-type {\n",
       "        vertical-align: middle;\n",
       "    }\n",
       "\n",
       "    .dataframe tbody tr th {\n",
       "        vertical-align: top;\n",
       "    }\n",
       "\n",
       "    .dataframe thead th {\n",
       "        text-align: right;\n",
       "    }\n",
       "</style>\n",
       "<table border=\"1\" class=\"dataframe\">\n",
       "  <thead>\n",
       "    <tr style=\"text-align: right;\">\n",
       "      <th></th>\n",
       "      <th>was_readmitted</th>\n",
       "      <th>medical_specialty</th>\n",
       "      <th>target_count</th>\n",
       "      <th>percent</th>\n",
       "    </tr>\n",
       "  </thead>\n",
       "  <tbody>\n",
       "    <tr>\n",
       "      <th>18</th>\n",
       "      <td>0</td>\n",
       "      <td>InternalMedicine</td>\n",
       "      <td>12989</td>\n",
       "      <td>0.250671</td>\n",
       "    </tr>\n",
       "    <tr>\n",
       "      <th>86</th>\n",
       "      <td>1</td>\n",
       "      <td>InternalMedicine</td>\n",
       "      <td>1646</td>\n",
       "      <td>0.031766</td>\n",
       "    </tr>\n",
       "  </tbody>\n",
       "</table>\n",
       "</div>"
      ],
      "text/plain": [
       "    was_readmitted medical_specialty  target_count   percent\n",
       "18               0  InternalMedicine         12989  0.250671\n",
       "86               1  InternalMedicine          1646  0.031766"
      ]
     },
     "execution_count": 185,
     "metadata": {},
     "output_type": "execute_result"
    }
   ],
   "source": [
    "df_gb[df_gb.medical_specialty == \"InternalMedicine\"]"
   ]
  },
  {
   "cell_type": "code",
   "execution_count": 182,
   "metadata": {},
   "outputs": [
    {
     "data": {
      "text/html": [
       "<div>\n",
       "<style scoped>\n",
       "    .dataframe tbody tr th:only-of-type {\n",
       "        vertical-align: middle;\n",
       "    }\n",
       "\n",
       "    .dataframe tbody tr th {\n",
       "        vertical-align: top;\n",
       "    }\n",
       "\n",
       "    .dataframe thead th {\n",
       "        text-align: right;\n",
       "    }\n",
       "</style>\n",
       "<table border=\"1\" class=\"dataframe\">\n",
       "  <thead>\n",
       "    <tr style=\"text-align: right;\">\n",
       "      <th></th>\n",
       "      <th>index</th>\n",
       "      <th>was_readmitted</th>\n",
       "      <th>medical_specialty</th>\n",
       "      <th>target_count</th>\n",
       "      <th>percent</th>\n",
       "      <th>target_diff</th>\n",
       "    </tr>\n",
       "  </thead>\n",
       "  <tbody>\n",
       "    <tr>\n",
       "      <th>5</th>\n",
       "      <td>86</td>\n",
       "      <td>1</td>\n",
       "      <td>InternalMedicine</td>\n",
       "      <td>1646</td>\n",
       "      <td>0.031766</td>\n",
       "      <td>-11343.0</td>\n",
       "    </tr>\n",
       "    <tr>\n",
       "      <th>11</th>\n",
       "      <td>77</td>\n",
       "      <td>1</td>\n",
       "      <td>Emergency/Trauma</td>\n",
       "      <td>846</td>\n",
       "      <td>0.016327</td>\n",
       "      <td>-5873.0</td>\n",
       "    </tr>\n",
       "    <tr>\n",
       "      <th>10</th>\n",
       "      <td>80</td>\n",
       "      <td>1</td>\n",
       "      <td>Family/GeneralPractice</td>\n",
       "      <td>883</td>\n",
       "      <td>0.017041</td>\n",
       "      <td>-5674.0</td>\n",
       "    </tr>\n",
       "    <tr>\n",
       "      <th>20</th>\n",
       "      <td>75</td>\n",
       "      <td>1</td>\n",
       "      <td>Cardiology</td>\n",
       "      <td>425</td>\n",
       "      <td>0.008202</td>\n",
       "      <td>-4502.0</td>\n",
       "    </tr>\n",
       "    <tr>\n",
       "      <th>21</th>\n",
       "      <td>120</td>\n",
       "      <td>1</td>\n",
       "      <td>Surgery-General</td>\n",
       "      <td>342</td>\n",
       "      <td>0.006600</td>\n",
       "      <td>-2415.0</td>\n",
       "    </tr>\n",
       "    <tr>\n",
       "      <th>...</th>\n",
       "      <td>...</td>\n",
       "      <td>...</td>\n",
       "      <td>...</td>\n",
       "      <td>...</td>\n",
       "      <td>...</td>\n",
       "      <td>...</td>\n",
       "    </tr>\n",
       "    <tr>\n",
       "      <th>120</th>\n",
       "      <td>56</td>\n",
       "      <td>0</td>\n",
       "      <td>Speech</td>\n",
       "      <td>1</td>\n",
       "      <td>0.000019</td>\n",
       "      <td>NaN</td>\n",
       "    </tr>\n",
       "    <tr>\n",
       "      <th>124</th>\n",
       "      <td>39</td>\n",
       "      <td>0</td>\n",
       "      <td>Pediatrics-InfectiousDiseases</td>\n",
       "      <td>1</td>\n",
       "      <td>0.000019</td>\n",
       "      <td>NaN</td>\n",
       "    </tr>\n",
       "    <tr>\n",
       "      <th>125</th>\n",
       "      <td>48</td>\n",
       "      <td>0</td>\n",
       "      <td>Psychiatry-Addictive</td>\n",
       "      <td>1</td>\n",
       "      <td>0.000019</td>\n",
       "      <td>NaN</td>\n",
       "    </tr>\n",
       "    <tr>\n",
       "      <th>126</th>\n",
       "      <td>46</td>\n",
       "      <td>0</td>\n",
       "      <td>Proctology</td>\n",
       "      <td>1</td>\n",
       "      <td>0.000019</td>\n",
       "      <td>NaN</td>\n",
       "    </tr>\n",
       "    <tr>\n",
       "      <th>127</th>\n",
       "      <td>42</td>\n",
       "      <td>0</td>\n",
       "      <td>Perinatology</td>\n",
       "      <td>1</td>\n",
       "      <td>0.000019</td>\n",
       "      <td>NaN</td>\n",
       "    </tr>\n",
       "  </tbody>\n",
       "</table>\n",
       "<p>128 rows × 6 columns</p>\n",
       "</div>"
      ],
      "text/plain": [
       "     index  was_readmitted              medical_specialty  target_count  \\\n",
       "5       86               1               InternalMedicine          1646   \n",
       "11      77               1               Emergency/Trauma           846   \n",
       "10      80               1         Family/GeneralPractice           883   \n",
       "20      75               1                     Cardiology           425   \n",
       "21     120               1                Surgery-General           342   \n",
       "..     ...             ...                            ...           ...   \n",
       "120     56               0                         Speech             1   \n",
       "124     39               0  Pediatrics-InfectiousDiseases             1   \n",
       "125     48               0           Psychiatry-Addictive             1   \n",
       "126     46               0                     Proctology             1   \n",
       "127     42               0                   Perinatology             1   \n",
       "\n",
       "      percent  target_diff  \n",
       "5    0.031766     -11343.0  \n",
       "11   0.016327      -5873.0  \n",
       "10   0.017041      -5674.0  \n",
       "20   0.008202      -4502.0  \n",
       "21   0.006600      -2415.0  \n",
       "..        ...          ...  \n",
       "120  0.000019          NaN  \n",
       "124  0.000019          NaN  \n",
       "125  0.000019          NaN  \n",
       "126  0.000019          NaN  \n",
       "127  0.000019          NaN  \n",
       "\n",
       "[128 rows x 6 columns]"
      ]
     },
     "execution_count": 182,
     "metadata": {},
     "output_type": "execute_result"
    }
   ],
   "source": [
    "df_gb_ = df_gb.groupby([cat_value])[\"target_count\"].diff().reset_index(name=\"target_diff\")\n",
    "# df_gb[\"percent\"] = df_gb[\"target_count\"]/df_gb.target_count.sum()\n",
    "df_gb_.sort_values(by=[\"target_diff\"], ascending=True, inplace=True)\n",
    "df_gb_ = df_gb.reset_index().merge(df_gb_, on=\"index\", how=\"left\")\n",
    "df_gb_.sort_values(by=[\"target_diff\"], inplace=True)\n",
    "df_gb_"
   ]
  },
  {
   "cell_type": "code",
   "execution_count": 188,
   "metadata": {},
   "outputs": [
    {
     "data": {
      "text/plain": [
       "<AxesSubplot:xlabel='medical_specialty', ylabel='target_diff'>"
      ]
     },
     "execution_count": 188,
     "metadata": {},
     "output_type": "execute_result"
    },
    {
     "data": {
      "image/png": "[encoded data removed]",
      "text/plain": [
       "<Figure size 1440x288 with 1 Axes>"
      ]
     },
     "metadata": {
      "needs_background": "light"
     },
     "output_type": "display_data"
    }
   ],
   "source": [
    "plt.figure(figsize=(20,4))\n",
    "plt.xticks(rotation=90)\n",
    "sns.barplot(x=cat_value, y=\"target_diff\", data=df_gb_.nlargest(35, 'target_diff'), hue='was_readmitted')"
   ]
  },
  {
   "cell_type": "code",
   "execution_count": 96,
   "metadata": {},
   "outputs": [
    {
     "data": {
      "text/plain": [
       "<AxesSubplot:xlabel='medical_specialty', ylabel='percent'>"
      ]
     },
     "execution_count": 96,
     "metadata": {},
     "output_type": "execute_result"
    },
    {
     "data": {
      "image/png": "[encoded data removed]",
      "text/plain": [
       "<Figure size 864x288 with 1 Axes>"
      ]
     },
     "metadata": {
      "needs_background": "light"
     },
     "output_type": "display_data"
    }
   ],
   "source": [
    "plt.figure(figsize=(12,4))\n",
    "# df_gb = df_gb[df_gb.was_readmitted == 1]\n",
    "sns.barplot(x=cat_value, y=\"percent\", data=df_gb, hue='was_readmitted')"
   ]
  },
  {
   "cell_type": "markdown",
   "metadata": {},
   "source": [
    "### cat_vars_2"
   ]
  },
  {
   "cell_type": "code",
   "execution_count": 192,
   "metadata": {},
   "outputs": [
    {
     "name": "stdout",
     "output_type": "stream",
     "text": [
      "max_glu_serum               4\n",
      "glipizide                   4\n",
      "glyburide-metformin         4\n",
      "miglitol                    4\n",
      "acarbose                    4\n",
      "A1Cresult                   4\n",
      "pioglitazone                4\n",
      "glyburide                   4\n",
      "rosiglitazone               4\n",
      "glimepiride                 4\n",
      "chlorpropamide              4\n",
      "nateglinide                 4\n",
      "repaglinide                 4\n",
      "metformin                   4\n",
      "tolazamide                  3\n",
      "acetohexamide               2\n",
      "tolbutamide                 2\n",
      "troglitazone                2\n",
      "glipizide-metformin         2\n",
      "glimepiride-pioglitazone    2\n",
      "metformin-rosiglitazone     2\n",
      "metformin-pioglitazone      2\n",
      "examide                     1\n",
      "citoglipton                 1\n",
      "dtype: int64\n"
     ]
    },
    {
     "data": {
      "image/png": "[encoded data removed]",
      "text/plain": [
       "<Figure size 1800x720 with 2 Axes>"
      ]
     },
     "metadata": {
      "needs_background": "light"
     },
     "output_type": "display_data"
    }
   ],
   "source": [
    "print(df_diabetes[cat_vars_2].nunique().sort_values(ascending=False))\n",
    "msno.matrix(df_diabetes[list(df_diabetes[cat_vars_2].nunique().sort_values(ascending=False).index)])\n",
    "val_counts = df_diabetes[\"medical_specialty\"].value_counts().sort_values(ascending=False)"
   ]
  },
  {
   "cell_type": "markdown",
   "metadata": {},
   "source": [
    "### cat_vars_3"
   ]
  },
  {
   "cell_type": "code",
   "execution_count": 201,
   "metadata": {},
   "outputs": [
    {
     "name": "stdout",
     "output_type": "stream",
     "text": [
      "diag_3    789\n",
      "diag_2    748\n",
      "diag_1    716\n",
      "dtype: int64\n"
     ]
    },
    {
     "data": {
      "image/png": "[encoded data removed]",
      "text/plain": [
       "<Figure size 1800x720 with 2 Axes>"
      ]
     },
     "metadata": {
      "needs_background": "light"
     },
     "output_type": "display_data"
    }
   ],
   "source": [
    "print(df_diabetes[cat_vars_3].nunique().sort_values(ascending=False))\n",
    "msno.matrix(df_diabetes[list(df_diabetes[cat_vars_3].nunique().sort_values(ascending=False).index)])\n",
    "val_counts = df_diabetes[\"medical_specialty\"].value_counts().sort_values(ascending=False)\n",
    "\n",
    "# df_gb = df_diabetes[cat_vars_3].copy()\n",
    "# df_gb[cat_vars_3] = df_gb[cat_vars_3].astype(str)\n",
    "# df_gb"
   ]
  },
  {
   "cell_type": "code",
   "execution_count": 217,
   "metadata": {},
   "outputs": [
    {
     "data": {
      "text/html": [
       "<div>\n",
       "<style scoped>\n",
       "    .dataframe tbody tr th:only-of-type {\n",
       "        vertical-align: middle;\n",
       "    }\n",
       "\n",
       "    .dataframe tbody tr th {\n",
       "        vertical-align: top;\n",
       "    }\n",
       "\n",
       "    .dataframe thead th {\n",
       "        text-align: right;\n",
       "    }\n",
       "</style>\n",
       "<table border=\"1\" class=\"dataframe\">\n",
       "  <thead>\n",
       "    <tr style=\"text-align: right;\">\n",
       "      <th></th>\n",
       "      <th>was_readmitted</th>\n",
       "      <th>diag_2</th>\n",
       "      <th>target_count</th>\n",
       "      <th>percent</th>\n",
       "    </tr>\n",
       "  </thead>\n",
       "  <tbody>\n",
       "    <tr>\n",
       "      <th>126</th>\n",
       "      <td>0</td>\n",
       "      <td>272</td>\n",
       "      <td>400</td>\n",
       "      <td>0.003944</td>\n",
       "    </tr>\n",
       "    <tr>\n",
       "      <th>821</th>\n",
       "      <td>1</td>\n",
       "      <td>272</td>\n",
       "      <td>20</td>\n",
       "      <td>0.000197</td>\n",
       "    </tr>\n",
       "  </tbody>\n",
       "</table>\n",
       "</div>"
      ],
      "text/plain": [
       "     was_readmitted diag_2  target_count   percent\n",
       "126               0    272           400  0.003944\n",
       "821               1    272            20  0.000197"
      ]
     },
     "execution_count": 217,
     "metadata": {},
     "output_type": "execute_result"
    }
   ],
   "source": [
    "cat_value = \"diag_2\"\n",
    "\n",
    "df_gb = df_diabetes.groupby([\"was_readmitted\", cat_value])[\"readmitted\"].count().reset_index(name=\"target_count\")\n",
    "df_gb[\"percent\"] = df_gb[\"target_count\"]/df_gb.target_count.sum()\n",
    "df_gb.sort_values(by=[\"percent\"], ascending=False, inplace=True)\n",
    "df_gb[df_gb.diag_2 == \"272\" ]"
   ]
  },
  {
   "cell_type": "code",
   "execution_count": 221,
   "metadata": {},
   "outputs": [
    {
     "data": {
      "text/plain": [
       "<AxesSubplot:xlabel='diag_2', ylabel='percent'>"
      ]
     },
     "execution_count": 221,
     "metadata": {},
     "output_type": "execute_result"
    },
    {
     "data": {
      "image/png": "[encoded data removed]",
      "text/plain": [
       "<Figure size 1440x288 with 1 Axes>"
      ]
     },
     "metadata": {
      "needs_background": "light"
     },
     "output_type": "display_data"
    }
   ],
   "source": [
    "plt.figure(figsize=(20,4))\n",
    "plt.xticks(rotation=90)\n",
    "sns.barplot(x=cat_value, y=\"percent\", data=df_gb.nlargest(35, 'target_count'), hue='was_readmitted')"
   ]
  }
 ],
 "metadata": {
  "interpreter": {
   "hash": "02cfc55f4e089c975f887fcd297e9b5d1dfd9869d79fca083bc62101f093f9cf"
  },
  "kernelspec": {
   "display_name": "Python 3.8.8 ('base')",
   "language": "python",
   "name": "python3"
  },
  "language_info": {
   "codemirror_mode": {
    "name": "ipython",
    "version": 3
   },
   "file_extension": ".py",
   "mimetype": "text/x-python",
   "name": "python",
   "nbconvert_exporter": "python",
   "pygments_lexer": "ipython3",
   "version": "3.8.8"
  }
 },
 "nbformat": 4,
 "nbformat_minor": 4
}
