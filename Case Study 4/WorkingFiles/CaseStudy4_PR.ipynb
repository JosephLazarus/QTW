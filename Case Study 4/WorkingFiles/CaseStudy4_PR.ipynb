{
 "cells": [
  {
   "cell_type": "code",
   "execution_count": 3,
   "metadata": {},
   "outputs": [],
   "source": [
    "from scipy.io import arff\n",
    "import pandas as pd"
   ]
  },
  {
   "cell_type": "code",
   "execution_count": 4,
   "metadata": {},
   "outputs": [
    {
     "ename": "FileNotFoundError",
     "evalue": "[Errno 2] No such file or directory: 'yeast-train.arff'",
     "output_type": "error",
     "traceback": [
      "\u001b[0;31m---------------------------------------------------------------------------\u001b[0m",
      "\u001b[0;31mFileNotFoundError\u001b[0m                         Traceback (most recent call last)",
      "\u001b[1;32m/Users/puri/DataScience@SMU/10.DS7333 QTW/Group Github/QTW/Case Study 4/WorkingFiles/CaseStudy4_PR.ipynb Cell 2'\u001b[0m in \u001b[0;36m<cell line: 1>\u001b[0;34m()\u001b[0m\n\u001b[0;32m----> <a href='vscode-notebook-cell:/Users/puri/DataScience%40SMU/10.DS7333%20QTW/Group%20Github/QTW/Case%20Study%204/WorkingFiles/CaseStudy4_PR.ipynb#ch0000001?line=0'>1</a>\u001b[0m data \u001b[39m=\u001b[39m arff\u001b[39m.\u001b[39;49mloadarff(\u001b[39m'\u001b[39;49m\u001b[39myeast-train.arff\u001b[39;49m\u001b[39m'\u001b[39;49m)\n\u001b[1;32m      <a href='vscode-notebook-cell:/Users/puri/DataScience%40SMU/10.DS7333%20QTW/Group%20Github/QTW/Case%20Study%204/WorkingFiles/CaseStudy4_PR.ipynb#ch0000001?line=1'>2</a>\u001b[0m df \u001b[39m=\u001b[39m pd\u001b[39m.\u001b[39mDataFrame(data[\u001b[39m0\u001b[39m])\n\u001b[1;32m      <a href='vscode-notebook-cell:/Users/puri/DataScience%40SMU/10.DS7333%20QTW/Group%20Github/QTW/Case%20Study%204/WorkingFiles/CaseStudy4_PR.ipynb#ch0000001?line=3'>4</a>\u001b[0m df\u001b[39m.\u001b[39mhead()\n",
      "File \u001b[0;32m~/opt/anaconda3/envs/pyri/lib/python3.10/site-packages/scipy/io/arff/_arffread.py:800\u001b[0m, in \u001b[0;36mloadarff\u001b[0;34m(f)\u001b[0m\n\u001b[1;32m    <a href='file:///Users/puri/opt/anaconda3/envs/pyri/lib/python3.10/site-packages/scipy/io/arff/_arffread.py?line=797'>798</a>\u001b[0m     ofile \u001b[39m=\u001b[39m f\n\u001b[1;32m    <a href='file:///Users/puri/opt/anaconda3/envs/pyri/lib/python3.10/site-packages/scipy/io/arff/_arffread.py?line=798'>799</a>\u001b[0m \u001b[39melse\u001b[39;00m:\n\u001b[0;32m--> <a href='file:///Users/puri/opt/anaconda3/envs/pyri/lib/python3.10/site-packages/scipy/io/arff/_arffread.py?line=799'>800</a>\u001b[0m     ofile \u001b[39m=\u001b[39m \u001b[39mopen\u001b[39;49m(f, \u001b[39m'\u001b[39;49m\u001b[39mrt\u001b[39;49m\u001b[39m'\u001b[39;49m)\n\u001b[1;32m    <a href='file:///Users/puri/opt/anaconda3/envs/pyri/lib/python3.10/site-packages/scipy/io/arff/_arffread.py?line=800'>801</a>\u001b[0m \u001b[39mtry\u001b[39;00m:\n\u001b[1;32m    <a href='file:///Users/puri/opt/anaconda3/envs/pyri/lib/python3.10/site-packages/scipy/io/arff/_arffread.py?line=801'>802</a>\u001b[0m     \u001b[39mreturn\u001b[39;00m _loadarff(ofile)\n",
      "\u001b[0;31mFileNotFoundError\u001b[0m: [Errno 2] No such file or directory: 'yeast-train.arff'"
     ]
    }
   ],
   "source": [
    "data = arff.loadarff('https://raw.githubusercontent.com/JosephLazarus/QTW/main/Case%20Study%204/Data/1year.arff')\n",
    "df = pd.DataFrame(data[0])\n",
    "\n",
    "df.head()"
   ]
  }
 ],
 "metadata": {
  "interpreter": {
   "hash": "48e120922dd8eb9d261b39c8c0044617a1d8fb07c931ac347bc85fe451298055"
  },
  "kernelspec": {
   "display_name": "Python 3.10.4 ('pyri')",
   "language": "python",
   "name": "python3"
  },
  "language_info": {
   "codemirror_mode": {
    "name": "ipython",
    "version": 3
   },
   "file_extension": ".py",
   "mimetype": "text/x-python",
   "name": "python",
   "nbconvert_exporter": "python",
   "pygments_lexer": "ipython3",
   "version": "3.10.4"
  },
  "orig_nbformat": 4
 },
 "nbformat": 4,
 "nbformat_minor": 2
}
