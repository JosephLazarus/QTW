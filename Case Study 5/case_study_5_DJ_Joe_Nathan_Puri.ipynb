{
 "cells": [
  {
   "cell_type": "code",
   "execution_count": 1,
   "id": "ba21fb32",
   "metadata": {},
   "outputs": [],
   "source": [
    "# Imports\n",
    "import matplotlib.pyplot as plt\n",
    "import seaborn as sns\n",
    "import numpy as np\n",
    "import pandas as pd\n",
    "from datetime import date\n",
    "import sklearn\n",
    "pd.set_option(\"display.max_columns\", None, \"display.max_rows\", None)\n",
    "import missingno as msno\n"
   ]
  },
  {
   "cell_type": "code",
   "execution_count": 2,
   "id": "602e9838",
   "metadata": {},
   "outputs": [
    {
     "data": {
      "text/html": [
       "<div>\n",
       "<style scoped>\n",
       "    .dataframe tbody tr th:only-of-type {\n",
       "        vertical-align: middle;\n",
       "    }\n",
       "\n",
       "    .dataframe tbody tr th {\n",
       "        vertical-align: top;\n",
       "    }\n",
       "\n",
       "    .dataframe thead th {\n",
       "        text-align: right;\n",
       "    }\n",
       "</style>\n",
       "<table border=\"1\" class=\"dataframe\">\n",
       "  <thead>\n",
       "    <tr style=\"text-align: right;\">\n",
       "      <th></th>\n",
       "      <th>Source Port</th>\n",
       "      <th>Destination Port</th>\n",
       "      <th>NAT Source Port</th>\n",
       "      <th>NAT Destination Port</th>\n",
       "      <th>Action</th>\n",
       "      <th>Bytes</th>\n",
       "      <th>Bytes Sent</th>\n",
       "      <th>Bytes Received</th>\n",
       "      <th>Packets</th>\n",
       "      <th>Elapsed Time (sec)</th>\n",
       "      <th>pkts_sent</th>\n",
       "      <th>pkts_received</th>\n",
       "    </tr>\n",
       "  </thead>\n",
       "  <tbody>\n",
       "    <tr>\n",
       "      <th>0</th>\n",
       "      <td>57222</td>\n",
       "      <td>53</td>\n",
       "      <td>54587</td>\n",
       "      <td>53</td>\n",
       "      <td>allow</td>\n",
       "      <td>177</td>\n",
       "      <td>94</td>\n",
       "      <td>83</td>\n",
       "      <td>2</td>\n",
       "      <td>30</td>\n",
       "      <td>1</td>\n",
       "      <td>1</td>\n",
       "    </tr>\n",
       "    <tr>\n",
       "      <th>1</th>\n",
       "      <td>56258</td>\n",
       "      <td>3389</td>\n",
       "      <td>56258</td>\n",
       "      <td>3389</td>\n",
       "      <td>allow</td>\n",
       "      <td>4768</td>\n",
       "      <td>1600</td>\n",
       "      <td>3168</td>\n",
       "      <td>19</td>\n",
       "      <td>17</td>\n",
       "      <td>10</td>\n",
       "      <td>9</td>\n",
       "    </tr>\n",
       "    <tr>\n",
       "      <th>2</th>\n",
       "      <td>6881</td>\n",
       "      <td>50321</td>\n",
       "      <td>43265</td>\n",
       "      <td>50321</td>\n",
       "      <td>allow</td>\n",
       "      <td>238</td>\n",
       "      <td>118</td>\n",
       "      <td>120</td>\n",
       "      <td>2</td>\n",
       "      <td>1199</td>\n",
       "      <td>1</td>\n",
       "      <td>1</td>\n",
       "    </tr>\n",
       "    <tr>\n",
       "      <th>3</th>\n",
       "      <td>50553</td>\n",
       "      <td>3389</td>\n",
       "      <td>50553</td>\n",
       "      <td>3389</td>\n",
       "      <td>allow</td>\n",
       "      <td>3327</td>\n",
       "      <td>1438</td>\n",
       "      <td>1889</td>\n",
       "      <td>15</td>\n",
       "      <td>17</td>\n",
       "      <td>8</td>\n",
       "      <td>7</td>\n",
       "    </tr>\n",
       "    <tr>\n",
       "      <th>4</th>\n",
       "      <td>50002</td>\n",
       "      <td>443</td>\n",
       "      <td>45848</td>\n",
       "      <td>443</td>\n",
       "      <td>allow</td>\n",
       "      <td>25358</td>\n",
       "      <td>6778</td>\n",
       "      <td>18580</td>\n",
       "      <td>31</td>\n",
       "      <td>16</td>\n",
       "      <td>13</td>\n",
       "      <td>18</td>\n",
       "    </tr>\n",
       "  </tbody>\n",
       "</table>\n",
       "</div>"
      ],
      "text/plain": [
       "   Source Port  Destination Port  NAT Source Port  NAT Destination Port  \\\n",
       "0        57222                53            54587                    53   \n",
       "1        56258              3389            56258                  3389   \n",
       "2         6881             50321            43265                 50321   \n",
       "3        50553              3389            50553                  3389   \n",
       "4        50002               443            45848                   443   \n",
       "\n",
       "  Action  Bytes  Bytes Sent  Bytes Received  Packets  Elapsed Time (sec)  \\\n",
       "0  allow    177          94              83        2                  30   \n",
       "1  allow   4768        1600            3168       19                  17   \n",
       "2  allow    238         118             120        2                1199   \n",
       "3  allow   3327        1438            1889       15                  17   \n",
       "4  allow  25358        6778           18580       31                  16   \n",
       "\n",
       "   pkts_sent  pkts_received  \n",
       "0          1              1  \n",
       "1         10              9  \n",
       "2          1              1  \n",
       "3          8              7  \n",
       "4         13             18  "
      ]
     },
     "execution_count": 2,
     "metadata": {},
     "output_type": "execute_result"
    }
   ],
   "source": [
    "internet_logs = pd.read_csv(\"https://raw.githubusercontent.com/JosephLazarus/QTW/main/Case%20Study%205/Data/log2.csv\")\n",
    "\n",
    "internet_logs.head()"
   ]
  },
  {
   "cell_type": "code",
   "execution_count": 3,
   "id": "5ae9e82d",
   "metadata": {},
   "outputs": [
    {
     "data": {
      "text/plain": [
       "(65532, 12)"
      ]
     },
     "execution_count": 3,
     "metadata": {},
     "output_type": "execute_result"
    }
   ],
   "source": [
    "internet_logs.shape"
   ]
  },
  {
   "cell_type": "code",
   "execution_count": 4,
   "id": "560ffd8e",
   "metadata": {},
   "outputs": [
    {
     "data": {
      "text/plain": [
       "Index(['Source Port', 'Destination Port', 'NAT Source Port',\n",
       "       'NAT Destination Port', 'Action', 'Bytes', 'Bytes Sent',\n",
       "       'Bytes Received', 'Packets', 'Elapsed Time (sec)', 'pkts_sent',\n",
       "       'pkts_received'],\n",
       "      dtype='object')"
      ]
     },
     "execution_count": 4,
     "metadata": {},
     "output_type": "execute_result"
    }
   ],
   "source": [
    "internet_logs.columns"
   ]
  },
  {
   "cell_type": "code",
   "execution_count": 5,
   "id": "f1e20303",
   "metadata": {},
   "outputs": [
    {
     "data": {
      "text/plain": [
       "Action\n",
       "allow         37640\n",
       "deny          14987\n",
       "drop          12851\n",
       "reset-both       54\n",
       "Name: Action, dtype: int64"
      ]
     },
     "execution_count": 5,
     "metadata": {},
     "output_type": "execute_result"
    }
   ],
   "source": [
    "internet_logs.Action.groupby(internet_logs.Action).count()"
   ]
  },
  {
   "cell_type": "markdown",
   "id": "9c2dc846",
   "metadata": {},
   "source": [
    "#### Reset both \n",
    "\n",
    "Represents less than .001% of data. Making decesion to remove. "
   ]
  },
  {
   "cell_type": "code",
   "execution_count": 6,
   "id": "6a045960",
   "metadata": {},
   "outputs": [
    {
     "data": {
      "text/plain": [
       "(65478, 12)"
      ]
     },
     "execution_count": 6,
     "metadata": {},
     "output_type": "execute_result"
    }
   ],
   "source": [
    "internet_logs = internet_logs[internet_logs.Action != \"reset-both\"]\n",
    "internet_logs.shape"
   ]
  },
  {
   "cell_type": "code",
   "execution_count": 7,
   "id": "b42b79a8",
   "metadata": {},
   "outputs": [
    {
     "name": "stdout",
     "output_type": "stream",
     "text": [
      "Duplicate rows:  8362\n"
     ]
    }
   ],
   "source": [
    "# Check for duplicate rows\n",
    "print('Duplicate rows: ',internet_logs.duplicated(keep='first').sum())"
   ]
  },
  {
   "cell_type": "markdown",
   "id": "f2a87283",
   "metadata": {},
   "source": [
    "## Duplicates\n",
    "\n",
    "Need more information on these duplicates. Are they repeated values or independent observations. \n",
    "for now will remove"
   ]
  },
  {
   "cell_type": "code",
   "execution_count": 8,
   "id": "0350bdba",
   "metadata": {},
   "outputs": [],
   "source": [
    "logs_no_duplicates = internet_logs.drop_duplicates(keep='first')"
   ]
  },
  {
   "cell_type": "code",
   "execution_count": 9,
   "id": "e7779bba",
   "metadata": {},
   "outputs": [
    {
     "data": {
      "text/plain": [
       "(57116, 12)"
      ]
     },
     "execution_count": 9,
     "metadata": {},
     "output_type": "execute_result"
    }
   ],
   "source": [
    "logs_no_duplicates.shape"
   ]
  },
  {
   "cell_type": "code",
   "execution_count": 10,
   "id": "e5da66cc",
   "metadata": {},
   "outputs": [
    {
     "data": {
      "text/plain": [
       "Source Port             0\n",
       "Destination Port        0\n",
       "NAT Source Port         0\n",
       "NAT Destination Port    0\n",
       "Action                  0\n",
       "Bytes                   0\n",
       "Bytes Sent              0\n",
       "Bytes Received          0\n",
       "Packets                 0\n",
       "Elapsed Time (sec)      0\n",
       "pkts_sent               0\n",
       "pkts_received           0\n",
       "dtype: int64"
      ]
     },
     "execution_count": 10,
     "metadata": {},
     "output_type": "execute_result"
    }
   ],
   "source": [
    "logs_no_duplicates.isna().sum()"
   ]
  },
  {
   "cell_type": "code",
   "execution_count": 11,
   "id": "05f50ad8",
   "metadata": {},
   "outputs": [],
   "source": [
    "logs_no_duplicates.columns = logs_no_duplicates.columns.str.replace(r\" \", \"_\")"
   ]
  },
  {
   "cell_type": "code",
   "execution_count": 12,
   "id": "9f836d51",
   "metadata": {},
   "outputs": [
    {
     "data": {
      "text/plain": [
       "Index(['Source_Port', 'Destination_Port', 'NAT_Source_Port',\n",
       "       'NAT_Destination_Port', 'Action', 'Bytes', 'Bytes_Sent',\n",
       "       'Bytes_Received', 'Packets', 'Elapsed_Time_(sec)', 'pkts_sent',\n",
       "       'pkts_received'],\n",
       "      dtype='object')"
      ]
     },
     "execution_count": 12,
     "metadata": {},
     "output_type": "execute_result"
    }
   ],
   "source": [
    "logs_no_duplicates.columns"
   ]
  },
  {
   "cell_type": "code",
   "execution_count": 13,
   "id": "7e6236f5",
   "metadata": {},
   "outputs": [
    {
     "data": {
      "text/plain": [
       "Source_Port              int64\n",
       "Destination_Port         int64\n",
       "NAT_Source_Port          int64\n",
       "NAT_Destination_Port     int64\n",
       "Action                  object\n",
       "Bytes                    int64\n",
       "Bytes_Sent               int64\n",
       "Bytes_Received           int64\n",
       "Packets                  int64\n",
       "Elapsed_Time_(sec)       int64\n",
       "pkts_sent                int64\n",
       "pkts_received            int64\n",
       "dtype: object"
      ]
     },
     "execution_count": 13,
     "metadata": {},
     "output_type": "execute_result"
    }
   ],
   "source": [
    "logs_no_duplicates.dtypes"
   ]
  },
  {
   "cell_type": "code",
   "execution_count": 14,
   "id": "bb1f4548",
   "metadata": {},
   "outputs": [
    {
     "data": {
      "text/plain": [
       "allow    37439\n",
       "drop     11635\n",
       "deny      8042\n",
       "Name: Action, dtype: int64"
      ]
     },
     "execution_count": 14,
     "metadata": {},
     "output_type": "execute_result"
    }
   ],
   "source": [
    "logs_no_duplicates[\"Action\"].value_counts()"
   ]
  },
  {
   "cell_type": "code",
   "execution_count": 15,
   "id": "f500856a",
   "metadata": {},
   "outputs": [
    {
     "name": "stderr",
     "output_type": "stream",
     "text": [
      "C:\\Users\\Joey\\AppData\\Local\\Temp\\ipykernel_25004\\3601792291.py:1: SettingWithCopyWarning: \n",
      "A value is trying to be set on a copy of a slice from a DataFrame.\n",
      "Try using .loc[row_indexer,col_indexer] = value instead\n",
      "\n",
      "See the caveats in the documentation: https://pandas.pydata.org/pandas-docs/stable/user_guide/indexing.html#returning-a-view-versus-a-copy\n",
      "  logs_no_duplicates['Action'] = logs_no_duplicates['Action'].replace(['drop'],'deny')\n"
     ]
    }
   ],
   "source": [
    "logs_no_duplicates['Action'] = logs_no_duplicates['Action'].replace(['drop'],'deny')"
   ]
  },
  {
   "cell_type": "code",
   "execution_count": 16,
   "id": "32413688",
   "metadata": {},
   "outputs": [],
   "source": [
    "drop_cols = [\n",
    "'Source_Port',\n",
    "'Destination_Port',\n",
    "'NAT_Source_Port',\n",
    "'NAT_Destination_Port'\n",
    "]\n",
    "logs_no_duplicates = logs_no_duplicates.drop(drop_cols, axis=1)"
   ]
  },
  {
   "cell_type": "code",
   "execution_count": null,
   "id": "537d0789",
   "metadata": {},
   "outputs": [],
   "source": []
  },
  {
   "cell_type": "markdown",
   "id": "f4cecdbf",
   "metadata": {},
   "source": [
    "## Split data into training = 70% , validation = 20%, test = 10%"
   ]
  },
  {
   "cell_type": "code",
   "execution_count": 17,
   "id": "701b154b",
   "metadata": {},
   "outputs": [],
   "source": [
    "from sklearn.model_selection import StratifiedShuffleSplit\n",
    "\n",
    "split = StratifiedShuffleSplit(n_splits=1, test_size=0.4, random_state=42)\n",
    "for train_index, holdback_index in split.split(logs_no_duplicates, logs_no_duplicates.Action):\n",
    "    training_df = logs_no_duplicates.iloc[train_index]\n",
    "    holdback_df = logs_no_duplicates.iloc[holdback_index]"
   ]
  },
  {
   "cell_type": "code",
   "execution_count": 18,
   "id": "7cf003b6",
   "metadata": {},
   "outputs": [
    {
     "name": "stdout",
     "output_type": "stream",
     "text": [
      "(34269, 8)\n",
      "(22847, 8)\n"
     ]
    }
   ],
   "source": [
    "print(training_df.shape)\n",
    "print(holdback_df.shape)"
   ]
  },
  {
   "cell_type": "code",
   "execution_count": 19,
   "id": "59ba9be8",
   "metadata": {},
   "outputs": [],
   "source": [
    "from sklearn.model_selection import StratifiedShuffleSplit\n",
    "\n",
    "split = StratifiedShuffleSplit(n_splits=1, test_size=0.1, random_state=42)\n",
    "for validation_index, test_index in split.split(holdback_df, holdback_df.Action):\n",
    "    validation_df = holdback_df.iloc[validation_index]\n",
    "    test_df = holdback_df.iloc[test_index]"
   ]
  },
  {
   "cell_type": "code",
   "execution_count": 20,
   "id": "3e1772fa",
   "metadata": {},
   "outputs": [
    {
     "name": "stdout",
     "output_type": "stream",
     "text": [
      "(34269, 8)\n",
      "(20562, 8)\n",
      "(2285, 8)\n"
     ]
    }
   ],
   "source": [
    "print(training_df.shape)\n",
    "print(validation_df.shape)\n",
    "print(test_df.shape)"
   ]
  },
  {
   "cell_type": "code",
   "execution_count": 21,
   "id": "fbb5f877",
   "metadata": {},
   "outputs": [
    {
     "name": "stderr",
     "output_type": "stream",
     "text": [
      "C:\\Users\\Joey\\AppData\\Local\\Temp\\ipykernel_25004\\796339914.py:9: SettingWithCopyWarning: \n",
      "A value is trying to be set on a copy of a slice from a DataFrame.\n",
      "Try using .loc[row_indexer,col_indexer] = value instead\n",
      "\n",
      "See the caveats in the documentation: https://pandas.pydata.org/pandas-docs/stable/user_guide/indexing.html#returning-a-view-versus-a-copy\n",
      "  training_df[Numericals_to_scale] = scl_obj.transform(training_df[Numericals_to_scale])\n",
      "C:\\Users\\Joey\\AppData\\Local\\Temp\\ipykernel_25004\\796339914.py:10: SettingWithCopyWarning: \n",
      "A value is trying to be set on a copy of a slice from a DataFrame.\n",
      "Try using .loc[row_indexer,col_indexer] = value instead\n",
      "\n",
      "See the caveats in the documentation: https://pandas.pydata.org/pandas-docs/stable/user_guide/indexing.html#returning-a-view-versus-a-copy\n",
      "  validation_df[Numericals_to_scale] = scl_obj.transform(validation_df[Numericals_to_scale])\n",
      "C:\\Users\\Joey\\AppData\\Local\\Temp\\ipykernel_25004\\796339914.py:11: SettingWithCopyWarning: \n",
      "A value is trying to be set on a copy of a slice from a DataFrame.\n",
      "Try using .loc[row_indexer,col_indexer] = value instead\n",
      "\n",
      "See the caveats in the documentation: https://pandas.pydata.org/pandas-docs/stable/user_guide/indexing.html#returning-a-view-versus-a-copy\n",
      "  test_df[Numericals_to_scale] = scl_obj.transform(test_df[Numericals_to_scale])\n",
      "C:\\Users\\Joey\\AppData\\Local\\Temp\\ipykernel_25004\\796339914.py:13: SettingWithCopyWarning: \n",
      "A value is trying to be set on a copy of a slice from a DataFrame.\n",
      "Try using .loc[row_indexer,col_indexer] = value instead\n",
      "\n",
      "See the caveats in the documentation: https://pandas.pydata.org/pandas-docs/stable/user_guide/indexing.html#returning-a-view-versus-a-copy\n",
      "  training_df.Action = LabelEncoder().fit_transform(training_df.Action)\n",
      "C:\\Users\\Joey\\AppData\\Local\\Temp\\ipykernel_25004\\796339914.py:14: SettingWithCopyWarning: \n",
      "A value is trying to be set on a copy of a slice from a DataFrame.\n",
      "Try using .loc[row_indexer,col_indexer] = value instead\n",
      "\n",
      "See the caveats in the documentation: https://pandas.pydata.org/pandas-docs/stable/user_guide/indexing.html#returning-a-view-versus-a-copy\n",
      "  validation_df.Action = LabelEncoder().fit_transform(validation_df.Action)\n",
      "C:\\Users\\Joey\\AppData\\Local\\Temp\\ipykernel_25004\\796339914.py:15: SettingWithCopyWarning: \n",
      "A value is trying to be set on a copy of a slice from a DataFrame.\n",
      "Try using .loc[row_indexer,col_indexer] = value instead\n",
      "\n",
      "See the caveats in the documentation: https://pandas.pydata.org/pandas-docs/stable/user_guide/indexing.html#returning-a-view-versus-a-copy\n",
      "  test_df.Action = LabelEncoder().fit_transform(test_df.Action)\n"
     ]
    },
    {
     "data": {
      "text/html": [
       "<div>\n",
       "<style scoped>\n",
       "    .dataframe tbody tr th:only-of-type {\n",
       "        vertical-align: middle;\n",
       "    }\n",
       "\n",
       "    .dataframe tbody tr th {\n",
       "        vertical-align: top;\n",
       "    }\n",
       "\n",
       "    .dataframe thead th {\n",
       "        text-align: right;\n",
       "    }\n",
       "</style>\n",
       "<table border=\"1\" class=\"dataframe\">\n",
       "  <thead>\n",
       "    <tr style=\"text-align: right;\">\n",
       "      <th></th>\n",
       "      <th>Action</th>\n",
       "      <th>Bytes</th>\n",
       "      <th>Bytes_Sent</th>\n",
       "      <th>Bytes_Received</th>\n",
       "      <th>Packets</th>\n",
       "      <th>Elapsed_Time_(sec)</th>\n",
       "      <th>pkts_sent</th>\n",
       "      <th>pkts_received</th>\n",
       "    </tr>\n",
       "  </thead>\n",
       "  <tbody>\n",
       "    <tr>\n",
       "      <th>13617</th>\n",
       "      <td>1</td>\n",
       "      <td>-0.034423</td>\n",
       "      <td>-0.010145</td>\n",
       "      <td>-0.033539</td>\n",
       "      <td>-0.039585</td>\n",
       "      <td>-0.237601</td>\n",
       "      <td>-0.039582</td>\n",
       "      <td>-0.036425</td>\n",
       "    </tr>\n",
       "    <tr>\n",
       "      <th>50338</th>\n",
       "      <td>0</td>\n",
       "      <td>-0.034369</td>\n",
       "      <td>-0.010139</td>\n",
       "      <td>-0.033484</td>\n",
       "      <td>-0.038728</td>\n",
       "      <td>-0.202884</td>\n",
       "      <td>-0.039582</td>\n",
       "      <td>-0.035262</td>\n",
       "    </tr>\n",
       "    <tr>\n",
       "      <th>1859</th>\n",
       "      <td>1</td>\n",
       "      <td>-0.034425</td>\n",
       "      <td>-0.010154</td>\n",
       "      <td>-0.033539</td>\n",
       "      <td>-0.039585</td>\n",
       "      <td>-0.237601</td>\n",
       "      <td>-0.039582</td>\n",
       "      <td>-0.036425</td>\n",
       "    </tr>\n",
       "    <tr>\n",
       "      <th>33154</th>\n",
       "      <td>0</td>\n",
       "      <td>-0.034376</td>\n",
       "      <td>-0.010103</td>\n",
       "      <td>-0.033501</td>\n",
       "      <td>-0.039156</td>\n",
       "      <td>-0.142918</td>\n",
       "      <td>-0.039582</td>\n",
       "      <td>-0.035844</td>\n",
       "    </tr>\n",
       "    <tr>\n",
       "      <th>2078</th>\n",
       "      <td>0</td>\n",
       "      <td>-0.034370</td>\n",
       "      <td>-0.010090</td>\n",
       "      <td>-0.033498</td>\n",
       "      <td>-0.039156</td>\n",
       "      <td>-0.133449</td>\n",
       "      <td>-0.039582</td>\n",
       "      <td>-0.035844</td>\n",
       "    </tr>\n",
       "  </tbody>\n",
       "</table>\n",
       "</div>"
      ],
      "text/plain": [
       "       Action     Bytes  Bytes_Sent  Bytes_Received   Packets  \\\n",
       "13617       1 -0.034423   -0.010145       -0.033539 -0.039585   \n",
       "50338       0 -0.034369   -0.010139       -0.033484 -0.038728   \n",
       "1859        1 -0.034425   -0.010154       -0.033539 -0.039585   \n",
       "33154       0 -0.034376   -0.010103       -0.033501 -0.039156   \n",
       "2078        0 -0.034370   -0.010090       -0.033498 -0.039156   \n",
       "\n",
       "       Elapsed_Time_(sec)  pkts_sent  pkts_received  \n",
       "13617           -0.237601  -0.039582      -0.036425  \n",
       "50338           -0.202884  -0.039582      -0.035262  \n",
       "1859            -0.237601  -0.039582      -0.036425  \n",
       "33154           -0.142918  -0.039582      -0.035844  \n",
       "2078            -0.133449  -0.039582      -0.035844  "
      ]
     },
     "execution_count": 21,
     "metadata": {},
     "output_type": "execute_result"
    }
   ],
   "source": [
    "from sklearn.preprocessing import StandardScaler\n",
    "from sklearn.preprocessing import OneHotEncoder, LabelEncoder\n",
    "\n",
    "\n",
    "Numericals_to_scale = ['Bytes', 'Bytes_Sent','Bytes_Received', 'Packets', 'Elapsed_Time_(sec)', 'pkts_sent','pkts_received']\n",
    "\n",
    "scl_obj = StandardScaler()\n",
    "scl_obj.fit(training_df[Numericals_to_scale])\n",
    "training_df[Numericals_to_scale] = scl_obj.transform(training_df[Numericals_to_scale])\n",
    "validation_df[Numericals_to_scale] = scl_obj.transform(validation_df[Numericals_to_scale])\n",
    "test_df[Numericals_to_scale] = scl_obj.transform(test_df[Numericals_to_scale])\n",
    "\n",
    "training_df.Action = LabelEncoder().fit_transform(training_df.Action)\n",
    "validation_df.Action = LabelEncoder().fit_transform(validation_df.Action)\n",
    "test_df.Action = LabelEncoder().fit_transform(test_df.Action)\n",
    "\n",
    "\n",
    "training_df.head()\n"
   ]
  },
  {
   "cell_type": "code",
   "execution_count": 22,
   "id": "28569ee5",
   "metadata": {},
   "outputs": [
    {
     "data": {
      "text/html": [
       "<div>\n",
       "<style scoped>\n",
       "    .dataframe tbody tr th:only-of-type {\n",
       "        vertical-align: middle;\n",
       "    }\n",
       "\n",
       "    .dataframe tbody tr th {\n",
       "        vertical-align: top;\n",
       "    }\n",
       "\n",
       "    .dataframe thead th {\n",
       "        text-align: right;\n",
       "    }\n",
       "</style>\n",
       "<table border=\"1\" class=\"dataframe\">\n",
       "  <thead>\n",
       "    <tr style=\"text-align: right;\">\n",
       "      <th></th>\n",
       "      <th>Action</th>\n",
       "      <th>Bytes</th>\n",
       "      <th>Bytes_Sent</th>\n",
       "      <th>Bytes_Received</th>\n",
       "      <th>Packets</th>\n",
       "      <th>Elapsed_Time_(sec)</th>\n",
       "      <th>pkts_sent</th>\n",
       "      <th>pkts_received</th>\n",
       "    </tr>\n",
       "  </thead>\n",
       "  <tbody>\n",
       "    <tr>\n",
       "      <th>63761</th>\n",
       "      <td>0</td>\n",
       "      <td>-0.033901</td>\n",
       "      <td>-0.009793</td>\n",
       "      <td>-0.033087</td>\n",
       "      <td>-0.037442</td>\n",
       "      <td>3.549735</td>\n",
       "      <td>-0.036919</td>\n",
       "      <td>-0.034681</td>\n",
       "    </tr>\n",
       "    <tr>\n",
       "      <th>39918</th>\n",
       "      <td>1</td>\n",
       "      <td>-0.034423</td>\n",
       "      <td>-0.010145</td>\n",
       "      <td>-0.033539</td>\n",
       "      <td>-0.039585</td>\n",
       "      <td>-0.237601</td>\n",
       "      <td>-0.039582</td>\n",
       "      <td>-0.036425</td>\n",
       "    </tr>\n",
       "    <tr>\n",
       "      <th>16142</th>\n",
       "      <td>1</td>\n",
       "      <td>-0.034421</td>\n",
       "      <td>-0.010139</td>\n",
       "      <td>-0.033539</td>\n",
       "      <td>-0.039585</td>\n",
       "      <td>-0.237601</td>\n",
       "      <td>-0.039582</td>\n",
       "      <td>-0.036425</td>\n",
       "    </tr>\n",
       "    <tr>\n",
       "      <th>49278</th>\n",
       "      <td>0</td>\n",
       "      <td>-0.027072</td>\n",
       "      <td>-0.003621</td>\n",
       "      <td>-0.027594</td>\n",
       "      <td>-0.026728</td>\n",
       "      <td>0.365217</td>\n",
       "      <td>-0.022273</td>\n",
       "      <td>-0.026539</td>\n",
       "    </tr>\n",
       "    <tr>\n",
       "      <th>37659</th>\n",
       "      <td>0</td>\n",
       "      <td>-0.034394</td>\n",
       "      <td>-0.010127</td>\n",
       "      <td>-0.033514</td>\n",
       "      <td>-0.039156</td>\n",
       "      <td>-0.221820</td>\n",
       "      <td>-0.039582</td>\n",
       "      <td>-0.035844</td>\n",
       "    </tr>\n",
       "  </tbody>\n",
       "</table>\n",
       "</div>"
      ],
      "text/plain": [
       "       Action     Bytes  Bytes_Sent  Bytes_Received   Packets  \\\n",
       "63761       0 -0.033901   -0.009793       -0.033087 -0.037442   \n",
       "39918       1 -0.034423   -0.010145       -0.033539 -0.039585   \n",
       "16142       1 -0.034421   -0.010139       -0.033539 -0.039585   \n",
       "49278       0 -0.027072   -0.003621       -0.027594 -0.026728   \n",
       "37659       0 -0.034394   -0.010127       -0.033514 -0.039156   \n",
       "\n",
       "       Elapsed_Time_(sec)  pkts_sent  pkts_received  \n",
       "63761            3.549735  -0.036919      -0.034681  \n",
       "39918           -0.237601  -0.039582      -0.036425  \n",
       "16142           -0.237601  -0.039582      -0.036425  \n",
       "49278            0.365217  -0.022273      -0.026539  \n",
       "37659           -0.221820  -0.039582      -0.035844  "
      ]
     },
     "execution_count": 22,
     "metadata": {},
     "output_type": "execute_result"
    }
   ],
   "source": [
    "validation_df.head()"
   ]
  },
  {
   "cell_type": "markdown",
   "id": "25ea9551",
   "metadata": {},
   "source": [
    "## Random Forest to compare to SVM SGD models"
   ]
  },
  {
   "cell_type": "code",
   "execution_count": 23,
   "id": "7291e843",
   "metadata": {},
   "outputs": [],
   "source": [
    "from sklearn.metrics import make_scorer\n",
    "from sklearn.metrics import accuracy_score\n",
    "from sklearn.metrics import recall_score\n",
    "from sklearn.metrics import precision_score\n",
    "\n",
    "\n",
    "scorer = {\n",
    "    'accuracy': make_scorer(accuracy_score),\n",
    "    'recall': make_scorer(recall_score),\n",
    "    'precision': make_scorer(precision_score)\n",
    "}"
   ]
  },
  {
   "cell_type": "code",
   "execution_count": 24,
   "id": "90522c14",
   "metadata": {},
   "outputs": [],
   "source": [
    "#Create new X predictor matrix for training\n",
    "X_train = training_df.drop(['Action'],axis=1).values #droping target\n",
    "y_train = training_df['Action'].values\n",
    "\n",
    "#Create new X predictor matrix for validation\n",
    "X_validation = validation_df.drop(['Action'],axis=1).values #droping target\n",
    "y_validation = validation_df['Action'].values\n",
    "\n",
    "#Create new X predictor matrix for test\n",
    "X_test = test_df.drop(['Action'],axis=1).values #droping target\n",
    "y_test = test_df['Action'].values\n"
   ]
  },
  {
   "cell_type": "code",
   "execution_count": 25,
   "id": "8d83b9b6",
   "metadata": {},
   "outputs": [
    {
     "name": "stdout",
     "output_type": "stream",
     "text": [
      "(34269,)\n",
      "(20562,)\n",
      "(2285,)\n"
     ]
    }
   ],
   "source": [
    "print(y_train.shape)\n",
    "print(y_validation.shape)\n",
    "print(y_test.shape)"
   ]
  },
  {
   "cell_type": "code",
   "execution_count": 26,
   "id": "13b3f835",
   "metadata": {},
   "outputs": [
    {
     "name": "stdout",
     "output_type": "stream",
     "text": [
      "[0 1 1 ... 1 0 1]\n",
      "              precision    recall  f1-score   support\n",
      "\n",
      "       allow       1.00      1.00      1.00     13478\n",
      "        deny       1.00      1.00      1.00      7084\n",
      "\n",
      "    accuracy                           1.00     20562\n",
      "   macro avg       1.00      1.00      1.00     20562\n",
      "weighted avg       1.00      1.00      1.00     20562\n",
      "\n"
     ]
    }
   ],
   "source": [
    "from sklearn.ensemble import RandomForestClassifier\n",
    "\n",
    "rf = RandomForestClassifier()\n",
    "\n",
    "training_model = rf.fit(X_train,y_train)\n",
    "rf_validation_predictions = training_model.predict(X_validation)\n",
    "\n",
    "print(rf_validation_predictions)\n",
    "\n",
    "from sklearn.metrics import classification_report\n",
    "print(classification_report(y_validation,rf_validation_predictions, \n",
    "                            target_names=['allow','deny']))"
   ]
  },
  {
   "cell_type": "code",
   "execution_count": 27,
   "id": "2edcd2a2",
   "metadata": {},
   "outputs": [
    {
     "name": "stdout",
     "output_type": "stream",
     "text": [
      "Validation Set Accuracy:  0.999717633771001\n"
     ]
    }
   ],
   "source": [
    "print(\"Validation Set Accuracy: \", precision_score(y_validation, rf_validation_predictions))\n"
   ]
  },
  {
   "cell_type": "code",
   "execution_count": 28,
   "id": "efa79675",
   "metadata": {},
   "outputs": [
    {
     "name": "stdout",
     "output_type": "stream",
     "text": [
      "Size of training set:  (34269, 8)\n",
      "Size of hold back set to be split into validation/test:  (22847, 8)\n"
     ]
    }
   ],
   "source": [
    "from sklearn.model_selection import StratifiedShuffleSplit\n",
    "\n",
    "split = StratifiedShuffleSplit(n_splits=1, test_size=0.4, random_state=42)\n",
    "for train_index, holdback_index in split.split(logs_no_duplicates, \n",
    "                                               logs_no_duplicates.Action):\n",
    "    training_df_encoded = logs_no_duplicates.iloc[train_index]\n",
    "    holdback_df_encoded = logs_no_duplicates.iloc[holdback_index]\n",
    "\n",
    "print(\"Size of training set: \",training_df_encoded.shape)\n",
    "print(\"Size of hold back set to be split into validation/test: \",holdback_df_encoded.shape)\n"
   ]
  },
  {
   "cell_type": "code",
   "execution_count": 29,
   "id": "da989e17",
   "metadata": {},
   "outputs": [
    {
     "name": "stdout",
     "output_type": "stream",
     "text": [
      "Size of training set:  (34269, 8)\n",
      "Size of validation set:  (20562, 8)\n",
      "Size of test set:  (2285, 8)\n"
     ]
    }
   ],
   "source": [
    "from sklearn.model_selection import StratifiedShuffleSplit\n",
    "\n",
    "split = StratifiedShuffleSplit(n_splits=1, test_size=0.1, random_state=42)\n",
    "for validation_index, test_index in split.split(holdback_df_encoded, holdback_df_encoded.Action):\n",
    "    validation_df_encoded = holdback_df_encoded.iloc[validation_index]\n",
    "    test_df_encoded = holdback_df_encoded.iloc[test_index]\n",
    "\n",
    "print(\"Size of training set: \",training_df_encoded.shape)\n",
    "print(\"Size of validation set: \",validation_df_encoded.shape)\n",
    "print(\"Size of test set: \",test_df_encoded.shape)\n"
   ]
  },
  {
   "cell_type": "code",
   "execution_count": 30,
   "id": "1d751bde",
   "metadata": {},
   "outputs": [
    {
     "name": "stderr",
     "output_type": "stream",
     "text": [
      "C:\\Users\\Joey\\AppData\\Local\\Temp\\ipykernel_25004\\1031785471.py:3: SettingWithCopyWarning: \n",
      "A value is trying to be set on a copy of a slice from a DataFrame.\n",
      "Try using .loc[row_indexer,col_indexer] = value instead\n",
      "\n",
      "See the caveats in the documentation: https://pandas.pydata.org/pandas-docs/stable/user_guide/indexing.html#returning-a-view-versus-a-copy\n",
      "  training_df_encoded.Action = LabelEncoder().fit_transform(training_df_encoded.Action)\n",
      "C:\\Users\\Joey\\AppData\\Local\\Temp\\ipykernel_25004\\1031785471.py:4: SettingWithCopyWarning: \n",
      "A value is trying to be set on a copy of a slice from a DataFrame.\n",
      "Try using .loc[row_indexer,col_indexer] = value instead\n",
      "\n",
      "See the caveats in the documentation: https://pandas.pydata.org/pandas-docs/stable/user_guide/indexing.html#returning-a-view-versus-a-copy\n",
      "  validation_df_encoded.Action = LabelEncoder().fit_transform(validation_df_encoded.Action)\n",
      "C:\\Users\\Joey\\AppData\\Local\\Temp\\ipykernel_25004\\1031785471.py:5: SettingWithCopyWarning: \n",
      "A value is trying to be set on a copy of a slice from a DataFrame.\n",
      "Try using .loc[row_indexer,col_indexer] = value instead\n",
      "\n",
      "See the caveats in the documentation: https://pandas.pydata.org/pandas-docs/stable/user_guide/indexing.html#returning-a-view-versus-a-copy\n",
      "  test_df_encoded.Action = LabelEncoder().fit_transform(test_df_encoded.Action)\n"
     ]
    },
    {
     "data": {
      "text/html": [
       "<div>\n",
       "<style scoped>\n",
       "    .dataframe tbody tr th:only-of-type {\n",
       "        vertical-align: middle;\n",
       "    }\n",
       "\n",
       "    .dataframe tbody tr th {\n",
       "        vertical-align: top;\n",
       "    }\n",
       "\n",
       "    .dataframe thead th {\n",
       "        text-align: right;\n",
       "    }\n",
       "</style>\n",
       "<table border=\"1\" class=\"dataframe\">\n",
       "  <thead>\n",
       "    <tr style=\"text-align: right;\">\n",
       "      <th></th>\n",
       "      <th>Action</th>\n",
       "      <th>Bytes</th>\n",
       "      <th>Bytes_Sent</th>\n",
       "      <th>Bytes_Received</th>\n",
       "      <th>Packets</th>\n",
       "      <th>Elapsed_Time_(sec)</th>\n",
       "      <th>pkts_sent</th>\n",
       "      <th>pkts_received</th>\n",
       "    </tr>\n",
       "  </thead>\n",
       "  <tbody>\n",
       "    <tr>\n",
       "      <th>13617</th>\n",
       "      <td>1</td>\n",
       "      <td>66</td>\n",
       "      <td>66</td>\n",
       "      <td>0</td>\n",
       "      <td>1</td>\n",
       "      <td>0</td>\n",
       "      <td>1</td>\n",
       "      <td>0</td>\n",
       "    </tr>\n",
       "    <tr>\n",
       "      <th>50338</th>\n",
       "      <td>0</td>\n",
       "      <td>202</td>\n",
       "      <td>70</td>\n",
       "      <td>132</td>\n",
       "      <td>3</td>\n",
       "      <td>11</td>\n",
       "      <td>1</td>\n",
       "      <td>2</td>\n",
       "    </tr>\n",
       "    <tr>\n",
       "      <th>1859</th>\n",
       "      <td>1</td>\n",
       "      <td>60</td>\n",
       "      <td>60</td>\n",
       "      <td>0</td>\n",
       "      <td>1</td>\n",
       "      <td>0</td>\n",
       "      <td>1</td>\n",
       "      <td>0</td>\n",
       "    </tr>\n",
       "    <tr>\n",
       "      <th>33154</th>\n",
       "      <td>0</td>\n",
       "      <td>184</td>\n",
       "      <td>94</td>\n",
       "      <td>90</td>\n",
       "      <td>2</td>\n",
       "      <td>30</td>\n",
       "      <td>1</td>\n",
       "      <td>1</td>\n",
       "    </tr>\n",
       "    <tr>\n",
       "      <th>2078</th>\n",
       "      <td>0</td>\n",
       "      <td>200</td>\n",
       "      <td>102</td>\n",
       "      <td>98</td>\n",
       "      <td>2</td>\n",
       "      <td>33</td>\n",
       "      <td>1</td>\n",
       "      <td>1</td>\n",
       "    </tr>\n",
       "  </tbody>\n",
       "</table>\n",
       "</div>"
      ],
      "text/plain": [
       "       Action  Bytes  Bytes_Sent  Bytes_Received  Packets  Elapsed_Time_(sec)  \\\n",
       "13617       1     66          66               0        1                   0   \n",
       "50338       0    202          70             132        3                  11   \n",
       "1859        1     60          60               0        1                   0   \n",
       "33154       0    184          94              90        2                  30   \n",
       "2078        0    200         102              98        2                  33   \n",
       "\n",
       "       pkts_sent  pkts_received  \n",
       "13617          1              0  \n",
       "50338          1              2  \n",
       "1859           1              0  \n",
       "33154          1              1  \n",
       "2078           1              1  "
      ]
     },
     "execution_count": 30,
     "metadata": {},
     "output_type": "execute_result"
    }
   ],
   "source": [
    "from sklearn.preprocessing import OneHotEncoder, LabelEncoder\n",
    "\n",
    "training_df_encoded.Action = LabelEncoder().fit_transform(training_df_encoded.Action)\n",
    "validation_df_encoded.Action = LabelEncoder().fit_transform(validation_df_encoded.Action)\n",
    "test_df_encoded.Action = LabelEncoder().fit_transform(test_df_encoded.Action)\n",
    "\n",
    "training_df_encoded.head()"
   ]
  },
  {
   "cell_type": "code",
   "execution_count": 31,
   "id": "d1bca5ef",
   "metadata": {},
   "outputs": [],
   "source": [
    "#Create new X predictor matrix for training\n",
    "X_train_encoded = training_df_encoded.drop(['Action'],axis=1).values #droping target\n",
    "\n",
    "#Create new X predictor matrix for validation\n",
    "X_validation_encoded = validation_df_encoded.drop(['Action'],axis=1).values #droping target\n",
    "\n",
    "#Create new X predictor matrix for validation\n",
    "X_test_encoded = test_df_encoded.drop(['Action'],axis=1).values #droping target\n"
   ]
  },
  {
   "cell_type": "code",
   "execution_count": 32,
   "id": "b8655117",
   "metadata": {},
   "outputs": [
    {
     "name": "stdout",
     "output_type": "stream",
     "text": [
      "(34269, 7)\n",
      "(20562, 7)\n",
      "(2285, 7)\n"
     ]
    }
   ],
   "source": [
    "print(X_train_encoded.shape)\n",
    "print(X_validation_encoded.shape)\n",
    "print(X_test_encoded.shape)"
   ]
  },
  {
   "cell_type": "code",
   "execution_count": null,
   "id": "cb1438f7",
   "metadata": {},
   "outputs": [],
   "source": [
    "\n"
   ]
  },
  {
   "cell_type": "markdown",
   "id": "569aec6f",
   "metadata": {},
   "source": [
    "# Linear Support Vector"
   ]
  },
  {
   "cell_type": "code",
   "execution_count": 33,
   "id": "16361b10",
   "metadata": {},
   "outputs": [
    {
     "name": "stdout",
     "output_type": "stream",
     "text": [
      "[0 1 1 ... 1 0 1]\n",
      "              precision    recall  f1-score   support\n",
      "\n",
      "       allow       1.00      1.00      1.00     13478\n",
      "        deny       1.00      1.00      1.00      7084\n",
      "\n",
      "    accuracy                           1.00     20562\n",
      "   macro avg       1.00      1.00      1.00     20562\n",
      "weighted avg       1.00      1.00      1.00     20562\n",
      "\n"
     ]
    },
    {
     "name": "stderr",
     "output_type": "stream",
     "text": [
      "C:\\Users\\Joey\\anaconda3\\lib\\site-packages\\sklearn\\svm\\_base.py:1225: ConvergenceWarning: Liblinear failed to converge, increase the number of iterations.\n",
      "  warnings.warn(\n"
     ]
    }
   ],
   "source": [
    "from sklearn.svm import LinearSVC\n",
    "\n",
    "SVC_linear_base = LinearSVC()\n",
    "\n",
    "training_model = SVC_linear_base.fit(X_train_encoded,y_train)\n",
    "SVC_linear_base_validation_predictions = training_model.predict(X_validation_encoded)\n",
    "\n",
    "print(SVC_linear_base_validation_predictions)\n",
    "\n",
    "from sklearn.metrics import classification_report\n",
    "print(classification_report(y_validation,SVC_linear_base_validation_predictions, \n",
    "                            target_names=['allow','deny']))"
   ]
  },
  {
   "cell_type": "code",
   "execution_count": 34,
   "id": "dbf24b53",
   "metadata": {},
   "outputs": [
    {
     "name": "stdout",
     "output_type": "stream",
     "text": [
      "Validation Set Accuracy:  0.9997568329928995\n"
     ]
    }
   ],
   "source": [
    "print(\"Validation Set Accuracy: \", accuracy_score(y_validation, SVC_linear_base_validation_predictions))\n"
   ]
  },
  {
   "cell_type": "code",
   "execution_count": 35,
   "id": "28e744b1",
   "metadata": {},
   "outputs": [
    {
     "name": "stdout",
     "output_type": "stream",
     "text": [
      "{'C': 1.0, 'class_weight': None, 'dual': True, 'fit_intercept': True, 'intercept_scaling': 1, 'loss': 'squared_hinge', 'max_iter': 1000, 'multi_class': 'ovr', 'penalty': 'l2', 'random_state': None, 'tol': 0.0001, 'verbose': 0}\n"
     ]
    }
   ],
   "source": [
    "print(SVC_linear_base.get_params())"
   ]
  },
  {
   "cell_type": "markdown",
   "id": "2be71059",
   "metadata": {},
   "source": [
    "# Grid search for optimal parameters"
   ]
  },
  {
   "cell_type": "code",
   "execution_count": 36,
   "id": "72d797d0",
   "metadata": {},
   "outputs": [
    {
     "name": "stdout",
     "output_type": "stream",
     "text": [
      "Fitting 2 folds for each of 8 candidates, totalling 16 fits\n",
      "Best Accuracy:  0.9995039256811233\n",
      "Best Parameters:  {'C': 100, 'loss': 'hinge'}\n"
     ]
    }
   ],
   "source": [
    "from sklearn.model_selection import GridSearchCV\n",
    "\n",
    "parameters = {'C':[1,10,100,1000], 'loss':['hinge', 'squared_hinge']}\n",
    "\n",
    "clf = LinearSVC()\n",
    "\n",
    "import warnings\n",
    "\n",
    "with warnings.catch_warnings():\n",
    "   warnings.simplefilter('ignore')\n",
    "   grid_obj = GridSearchCV(clf, parameters, cv = 2, verbose=1, n_jobs = 6, scoring='accuracy')\n",
    "   grid_obj = grid_obj.fit(X_train_encoded, y_train)\n",
    "\n",
    "print(\"Best Accuracy: \",grid_obj.best_score_)\n",
    "print(\"Best Parameters: \",grid_obj.best_params_)\n"
   ]
  },
  {
   "cell_type": "code",
   "execution_count": 37,
   "id": "d7ee80df",
   "metadata": {},
   "outputs": [
    {
     "name": "stdout",
     "output_type": "stream",
     "text": [
      "Fitting 2 folds for each of 9 candidates, totalling 18 fits\n",
      "Best Accuracy:  0.9997665528609877\n",
      "Best Parameters:  {'C': 1, 'loss': 'hinge', 'max_iter': 5000, 'tol': 0.0001}\n"
     ]
    }
   ],
   "source": [
    "from sklearn.model_selection import GridSearchCV\n",
    "\n",
    "parameters = {'C':[1], 'loss':['hinge'], 'tol':[1e-6, 1e-4, 1e-2], 'max_iter':[1000, 2000, 5000]}\n",
    "\n",
    "clf = LinearSVC()\n",
    "\n",
    "import warnings\n",
    "\n",
    "with warnings.catch_warnings():\n",
    "   warnings.simplefilter('ignore')\n",
    "   grid_obj = GridSearchCV(clf, parameters, cv = 2, verbose=1, n_jobs = 6, scoring='accuracy')\n",
    "   grid_obj = grid_obj.fit(X_train_encoded, y_train)\n",
    "\n",
    "print(\"Best Accuracy: \",grid_obj.best_score_)\n",
    "print(\"Best Parameters: \",grid_obj.best_params_)"
   ]
  },
  {
   "cell_type": "code",
   "execution_count": 38,
   "id": "fe16939e",
   "metadata": {},
   "outputs": [
    {
     "name": "stdout",
     "output_type": "stream",
     "text": [
      "Validation Set Accuracy:  0.9948448594494699\n",
      "              precision    recall  f1-score   support\n",
      "\n",
      "       allow       1.00      0.99      1.00     13478\n",
      "        deny       0.99      1.00      0.99      7084\n",
      "\n",
      "    accuracy                           0.99     20562\n",
      "   macro avg       0.99      1.00      0.99     20562\n",
      "weighted avg       0.99      0.99      0.99     20562\n",
      "\n"
     ]
    },
    {
     "name": "stderr",
     "output_type": "stream",
     "text": [
      "C:\\Users\\Joey\\anaconda3\\lib\\site-packages\\sklearn\\svm\\_base.py:1225: ConvergenceWarning: Liblinear failed to converge, increase the number of iterations.\n",
      "  warnings.warn(\n"
     ]
    }
   ],
   "source": [
    "SVC_linear_tuned = LinearSVC(C=1, loss='hinge', max_iter=1000, tol=1e-6)\n",
    "\n",
    "training_model = SVC_linear_tuned.fit(X_train_encoded,y_train)\n",
    "SVC_linear_tuned_validation_predictions = training_model.predict(X_validation_encoded)\n",
    "\n",
    "print(\"Validation Set Accuracy: \", accuracy_score(y_validation, SVC_linear_tuned_validation_predictions))\n",
    "\n",
    "\n",
    "from sklearn.metrics import classification_report\n",
    "print(classification_report(y_validation,SVC_linear_tuned_validation_predictions, \n",
    "                            target_names=['allow','deny']))"
   ]
  },
  {
   "cell_type": "code",
   "execution_count": 39,
   "id": "8d4bebab",
   "metadata": {},
   "outputs": [
    {
     "name": "stdout",
     "output_type": "stream",
     "text": [
      "Test Set Accuracy:  0.9938730853391685\n"
     ]
    }
   ],
   "source": [
    "SVC_linear_tuned_test_predictions = training_model.predict(X_test_encoded)\n",
    "print(\"Test Set Accuracy: \", accuracy_score(y_test, SVC_linear_tuned_test_predictions))\n",
    "\n"
   ]
  },
  {
   "cell_type": "markdown",
   "id": "1d61a77f",
   "metadata": {},
   "source": [
    "## SVC modeling with different kernels"
   ]
  },
  {
   "cell_type": "code",
   "execution_count": 40,
   "id": "0112518f",
   "metadata": {},
   "outputs": [
    {
     "name": "stdout",
     "output_type": "stream",
     "text": [
      "Fitting 2 folds for each of 9 candidates, totalling 18 fits\n",
      "Best Accuracy:  0.6574\n",
      "Best Parameters:  {'C': 0.1, 'kernel': 'rbf'}\n"
     ]
    }
   ],
   "source": [
    "training_samples=5000\n",
    "X_train_encoded_reduced = X_train_encoded[1:training_samples+1,]\n",
    "y_train_reduced = y_train[1:training_samples+1,]\n",
    "\n",
    "from sklearn.svm import SVC\n",
    "\n",
    "parameters = {'C': [0.1,1, 10],'kernel': ['rbf', 'poly', 'sigmoid']}\n",
    "\n",
    "clf = SVC()\n",
    "\n",
    "import warnings\n",
    "\n",
    "with warnings.catch_warnings():\n",
    "   warnings.simplefilter('ignore')\n",
    "   grid_obj = GridSearchCV(clf, parameters, cv = 2, verbose=1, n_jobs = 6, scoring='accuracy')\n",
    "   grid_obj = grid_obj.fit(X_train_encoded_reduced, y_train_reduced)\n",
    "\n",
    "print(\"Best Accuracy: \",grid_obj.best_score_)\n",
    "print(\"Best Parameters: \",grid_obj.best_params_)"
   ]
  },
  {
   "cell_type": "code",
   "execution_count": 41,
   "id": "c0efa076",
   "metadata": {},
   "outputs": [
    {
     "name": "stdout",
     "output_type": "stream",
     "text": [
      "Validation Set Accuracy:  0.6554809843400448\n",
      "              precision    recall  f1-score   support\n",
      "\n",
      "       allow       0.66      1.00      0.79     13478\n",
      "        deny       0.00      0.00      0.00      7084\n",
      "\n",
      "    accuracy                           0.66     20562\n",
      "   macro avg       0.33      0.50      0.40     20562\n",
      "weighted avg       0.43      0.66      0.52     20562\n",
      "\n"
     ]
    },
    {
     "name": "stderr",
     "output_type": "stream",
     "text": [
      "C:\\Users\\Joey\\anaconda3\\lib\\site-packages\\sklearn\\metrics\\_classification.py:1327: UndefinedMetricWarning: Precision and F-score are ill-defined and being set to 0.0 in labels with no predicted samples. Use `zero_division` parameter to control this behavior.\n",
      "  _warn_prf(average, modifier, msg_start, len(result))\n",
      "C:\\Users\\Joey\\anaconda3\\lib\\site-packages\\sklearn\\metrics\\_classification.py:1327: UndefinedMetricWarning: Precision and F-score are ill-defined and being set to 0.0 in labels with no predicted samples. Use `zero_division` parameter to control this behavior.\n",
      "  _warn_prf(average, modifier, msg_start, len(result))\n",
      "C:\\Users\\Joey\\anaconda3\\lib\\site-packages\\sklearn\\metrics\\_classification.py:1327: UndefinedMetricWarning: Precision and F-score are ill-defined and being set to 0.0 in labels with no predicted samples. Use `zero_division` parameter to control this behavior.\n",
      "  _warn_prf(average, modifier, msg_start, len(result))\n"
     ]
    }
   ],
   "source": [
    "#Use best params to get a check on validation accuracy\n",
    "\n",
    "training_samples=5000\n",
    "X_train_encoded_reduced = X_train_encoded[1:training_samples+1,]\n",
    "y_train_reduced = y_train[1:training_samples+1,]\n",
    "\n",
    "\n",
    "SVC_base = SVC(C=.10,kernel='rbf')\n",
    "\n",
    "training_model = SVC_base.fit(X_train_encoded_reduced,y_train_reduced)\n",
    "SVC_base_validation_predictions = training_model.predict(X_validation_encoded)\n",
    "\n",
    "print(\"Validation Set Accuracy: \", accuracy_score(y_validation, SVC_base_validation_predictions))\n",
    "\n",
    "from sklearn.metrics import classification_report\n",
    "print(classification_report(y_validation,SVC_base_validation_predictions, \n",
    "                            target_names=['allow','deny']))\n"
   ]
  },
  {
   "cell_type": "code",
   "execution_count": 42,
   "id": "31f1631e",
   "metadata": {},
   "outputs": [
    {
     "name": "stdout",
     "output_type": "stream",
     "text": [
      "Fitting 2 folds for each of 16 candidates, totalling 32 fits\n",
      "Best Accuracy:  0.9958\n",
      "Best Parameters:  {'C': 10, 'decision_function_shape': 'ovo', 'gamma': 'auto', 'kernel': 'rbf', 'max_iter': -1, 'tol': 1e-06}\n"
     ]
    }
   ],
   "source": [
    "training_samples=5000\n",
    "X_train_encoded_reduced = X_train_encoded[1:training_samples+1,]\n",
    "y_train_reduced = y_train[1:training_samples+1,]\n",
    "\n",
    "from sklearn.svm import SVC\n",
    "\n",
    "parameters = {'C': [1, 10],'kernel': ['rbf'],'gamma':['scale', 'auto'],'tol':[1e-6, 1e-3], 'max_iter':[-1],'decision_function_shape':['ovo', 'ovr']}\n",
    "\n",
    "clf = SVC()\n",
    "\n",
    "import warnings\n",
    "\n",
    "with warnings.catch_warnings():\n",
    "   warnings.simplefilter('ignore')\n",
    "   grid_obj = GridSearchCV(clf, parameters, cv = 2, verbose=1, n_jobs = 6, scoring='accuracy')\n",
    "   grid_obj = grid_obj.fit(X_train_encoded_reduced, y_train_reduced)\n",
    "\n",
    "print(\"Best Accuracy: \",grid_obj.best_score_)\n",
    "print(\"Best Parameters: \",grid_obj.best_params_)"
   ]
  },
  {
   "cell_type": "code",
   "execution_count": 43,
   "id": "98d175af",
   "metadata": {},
   "outputs": [
    {
     "name": "stdout",
     "output_type": "stream",
     "text": [
      "Validation Set Accuracy:  0.996449761696333\n",
      "              precision    recall  f1-score   support\n",
      "\n",
      "       allow       0.99      1.00      1.00     13478\n",
      "        deny       1.00      0.99      0.99      7084\n",
      "\n",
      "    accuracy                           1.00     20562\n",
      "   macro avg       1.00      0.99      1.00     20562\n",
      "weighted avg       1.00      1.00      1.00     20562\n",
      "\n"
     ]
    }
   ],
   "source": [
    "#Use best params to get a check on validation accuracy\n",
    "\n",
    "from sklearn.svm import SVC\n",
    "\n",
    "training_samples=5000\n",
    "X_train_encoded_reduced = X_train_encoded[1:training_samples+1,]\n",
    "y_train_reduced = y_train[1:training_samples+1,]\n",
    "\n",
    "SVC_base = SVC(C=10, decision_function_shape='ovo', gamma='auto', kernel='rbf', tol= 1e-06)\n",
    "\n",
    "training_model = SVC_base.fit(X_train_encoded_reduced,y_train_reduced)\n",
    "SVC_base_validation_predictions = training_model.predict(X_validation_encoded)\n",
    "\n",
    "print(\"Validation Set Accuracy: \", accuracy_score(y_validation, SVC_base_validation_predictions))\n",
    "\n",
    "from sklearn.metrics import classification_report\n",
    "print(classification_report(y_validation,SVC_base_validation_predictions, \n",
    "                            target_names=['allow','deny']))"
   ]
  },
  {
   "cell_type": "code",
   "execution_count": 44,
   "id": "6f80a795",
   "metadata": {},
   "outputs": [
    {
     "name": "stdout",
     "output_type": "stream",
     "text": [
      "Test Set Accuracy:  0.9973741794310722\n"
     ]
    }
   ],
   "source": [
    "SVC_base_test_predictions = training_model.predict(X_test_encoded)\n",
    "print(\"Test Set Accuracy: \", accuracy_score(y_test, SVC_base_test_predictions))\n",
    "\n"
   ]
  },
  {
   "cell_type": "code",
   "execution_count": 45,
   "id": "c2d345f9",
   "metadata": {},
   "outputs": [
    {
     "name": "stdout",
     "output_type": "stream",
     "text": [
      "Validation Set Accuracy:  0.9970333625133742\n",
      "              precision    recall  f1-score   support\n",
      "\n",
      "       allow       1.00      1.00      1.00     13478\n",
      "        deny       1.00      0.99      1.00      7084\n",
      "\n",
      "    accuracy                           1.00     20562\n",
      "   macro avg       1.00      1.00      1.00     20562\n",
      "weighted avg       1.00      1.00      1.00     20562\n",
      "\n"
     ]
    }
   ],
   "source": [
    "#Use best params to get a check on validation accuracy\n",
    "\n",
    "from sklearn.svm import SVC\n",
    "\n",
    "training_samples=10000\n",
    "X_train_encoded_reduced = X_train_encoded[1:training_samples+1,]\n",
    "y_train_reduced = y_train[1:training_samples+1,]\n",
    "\n",
    "SVC_base = SVC(C=10, decision_function_shape='ovo', gamma='auto', kernel='rbf', tol= 1e-06)\n",
    "\n",
    "training_model = SVC_base.fit(X_train_encoded_reduced,y_train_reduced)\n",
    "SVC_base_validation_predictions = training_model.predict(X_validation_encoded)\n",
    "\n",
    "print(\"Validation Set Accuracy: \", accuracy_score(y_validation, SVC_base_validation_predictions))\n",
    "\n",
    "from sklearn.metrics import classification_report\n",
    "print(classification_report(y_validation,SVC_base_validation_predictions, \n",
    "                            target_names=['allow','deny']))"
   ]
  },
  {
   "cell_type": "code",
   "execution_count": 46,
   "id": "994ac83f",
   "metadata": {},
   "outputs": [
    {
     "name": "stdout",
     "output_type": "stream",
     "text": [
      "Test Set Accuracy:  0.9973741794310722\n"
     ]
    }
   ],
   "source": [
    "SVC_base_test_predictions = training_model.predict(X_test_encoded)\n",
    "print(\"Test Set Accuracy: \", accuracy_score(y_test, SVC_base_test_predictions))"
   ]
  },
  {
   "cell_type": "markdown",
   "id": "4f0448c7",
   "metadata": {},
   "source": [
    "# SKLEARN SGD"
   ]
  },
  {
   "cell_type": "code",
   "execution_count": 47,
   "id": "9431c461",
   "metadata": {},
   "outputs": [
    {
     "name": "stdout",
     "output_type": "stream",
     "text": [
      "Validation Set Accuracy:  0.6554809843400448\n",
      "              precision    recall  f1-score   support\n",
      "\n",
      "       allow       0.66      1.00      0.79     13478\n",
      "        deny       0.00      0.00      0.00      7084\n",
      "\n",
      "    accuracy                           0.66     20562\n",
      "   macro avg       0.33      0.50      0.40     20562\n",
      "weighted avg       0.43      0.66      0.52     20562\n",
      "\n"
     ]
    },
    {
     "name": "stderr",
     "output_type": "stream",
     "text": [
      "C:\\Users\\Joey\\anaconda3\\lib\\site-packages\\sklearn\\metrics\\_classification.py:1327: UndefinedMetricWarning: Precision and F-score are ill-defined and being set to 0.0 in labels with no predicted samples. Use `zero_division` parameter to control this behavior.\n",
      "  _warn_prf(average, modifier, msg_start, len(result))\n",
      "C:\\Users\\Joey\\anaconda3\\lib\\site-packages\\sklearn\\metrics\\_classification.py:1327: UndefinedMetricWarning: Precision and F-score are ill-defined and being set to 0.0 in labels with no predicted samples. Use `zero_division` parameter to control this behavior.\n",
      "  _warn_prf(average, modifier, msg_start, len(result))\n",
      "C:\\Users\\Joey\\anaconda3\\lib\\site-packages\\sklearn\\metrics\\_classification.py:1327: UndefinedMetricWarning: Precision and F-score are ill-defined and being set to 0.0 in labels with no predicted samples. Use `zero_division` parameter to control this behavior.\n",
      "  _warn_prf(average, modifier, msg_start, len(result))\n"
     ]
    }
   ],
   "source": [
    "from sklearn.linear_model import SGDClassifier\n",
    "\n",
    "training_samples=5000\n",
    "X_train_encoded_reduced = X_train_encoded[1:training_samples+1,]\n",
    "y_train_reduced = y_train[1:training_samples+1,]\n",
    "\n",
    "SGD_base = SGDClassifier()\n",
    "\n",
    "training_model = SGD_base.fit(X_train_encoded_reduced,y_train_reduced)\n",
    "SGD_base_validation_predictions = training_model.predict(X_validation_encoded)\n",
    "\n",
    "print(\"Validation Set Accuracy: \", accuracy_score(y_validation, SGD_base_validation_predictions))\n",
    "\n",
    "from sklearn.metrics import classification_report\n",
    "print(classification_report(y_validation,SGD_base_validation_predictions, \n",
    "                            target_names=['allow','deny']))"
   ]
  },
  {
   "cell_type": "code",
   "execution_count": 48,
   "id": "0b1f0f76",
   "metadata": {},
   "outputs": [
    {
     "name": "stdout",
     "output_type": "stream",
     "text": [
      "Test Set Accuracy:  0.6555798687089716\n"
     ]
    }
   ],
   "source": [
    "SGD_base_test_predictions = training_model.predict(X_test_encoded)\n",
    "print(\"Test Set Accuracy: \", accuracy_score(y_test, SGD_base_test_predictions))\n"
   ]
  },
  {
   "cell_type": "code",
   "execution_count": 49,
   "id": "aad037ad",
   "metadata": {},
   "outputs": [
    {
     "name": "stdout",
     "output_type": "stream",
     "text": [
      "Validation Set Accuracy:  0.9754401322828519\n",
      "              precision    recall  f1-score   support\n",
      "\n",
      "       allow       1.00      0.97      0.98     13478\n",
      "        deny       0.94      0.99      0.97      7084\n",
      "\n",
      "    accuracy                           0.98     20562\n",
      "   macro avg       0.97      0.98      0.97     20562\n",
      "weighted avg       0.98      0.98      0.98     20562\n",
      "\n"
     ]
    }
   ],
   "source": [
    "from sklearn.linear_model import SGDClassifier\n",
    "\n",
    "training_samples=10000\n",
    "X_train_encoded_reduced = X_train_encoded[1:training_samples+1,]\n",
    "y_train_reduced = y_train[1:training_samples+1,]\n",
    "\n",
    "SGD_base = SGDClassifier()\n",
    "\n",
    "training_model = SGD_base.fit(X_train_encoded_reduced,y_train_reduced)\n",
    "SGD_base_validation_predictions = training_model.predict(X_validation_encoded)\n",
    "\n",
    "print(\"Validation Set Accuracy: \", accuracy_score(y_validation, SGD_base_validation_predictions))\n",
    "\n",
    "from sklearn.metrics import classification_report\n",
    "print(classification_report(y_validation,SGD_base_validation_predictions, \n",
    "                            target_names=['allow','deny']))"
   ]
  },
  {
   "cell_type": "code",
   "execution_count": 50,
   "id": "57fbcbd5",
   "metadata": {},
   "outputs": [
    {
     "name": "stdout",
     "output_type": "stream",
     "text": [
      "Test Set Accuracy:  0.9698030634573304\n"
     ]
    }
   ],
   "source": [
    "SGD_base_test_predictions = training_model.predict(X_test_encoded)\n",
    "print(\"Test Set Accuracy: \", accuracy_score(y_test, SGD_base_test_predictions))"
   ]
  },
  {
   "cell_type": "code",
   "execution_count": 51,
   "id": "e1d27bbe",
   "metadata": {},
   "outputs": [
    {
     "name": "stdout",
     "output_type": "stream",
     "text": [
      "Validation Set Accuracy:  0.6554809843400448\n",
      "              precision    recall  f1-score   support\n",
      "\n",
      "       allow       0.66      1.00      0.79     13478\n",
      "        deny       0.00      0.00      0.00      7084\n",
      "\n",
      "    accuracy                           0.66     20562\n",
      "   macro avg       0.33      0.50      0.40     20562\n",
      "weighted avg       0.43      0.66      0.52     20562\n",
      "\n"
     ]
    },
    {
     "name": "stderr",
     "output_type": "stream",
     "text": [
      "C:\\Users\\Joey\\anaconda3\\lib\\site-packages\\sklearn\\metrics\\_classification.py:1327: UndefinedMetricWarning: Precision and F-score are ill-defined and being set to 0.0 in labels with no predicted samples. Use `zero_division` parameter to control this behavior.\n",
      "  _warn_prf(average, modifier, msg_start, len(result))\n",
      "C:\\Users\\Joey\\anaconda3\\lib\\site-packages\\sklearn\\metrics\\_classification.py:1327: UndefinedMetricWarning: Precision and F-score are ill-defined and being set to 0.0 in labels with no predicted samples. Use `zero_division` parameter to control this behavior.\n",
      "  _warn_prf(average, modifier, msg_start, len(result))\n",
      "C:\\Users\\Joey\\anaconda3\\lib\\site-packages\\sklearn\\metrics\\_classification.py:1327: UndefinedMetricWarning: Precision and F-score are ill-defined and being set to 0.0 in labels with no predicted samples. Use `zero_division` parameter to control this behavior.\n",
      "  _warn_prf(average, modifier, msg_start, len(result))\n"
     ]
    }
   ],
   "source": [
    "from sklearn.linear_model import SGDClassifier\n",
    "\n",
    "training_samples=15000\n",
    "X_train_encoded_reduced = X_train_encoded[1:training_samples+1,]\n",
    "y_train_reduced = y_train[1:training_samples+1,]\n",
    "\n",
    "SGD_base = SGDClassifier()\n",
    "\n",
    "training_model = SGD_base.fit(X_train_encoded_reduced,y_train_reduced)\n",
    "SGD_base_validation_predictions = training_model.predict(X_validation_encoded)\n",
    "\n",
    "print(\"Validation Set Accuracy: \", accuracy_score(y_validation, SGD_base_validation_predictions))\n",
    "\n",
    "from sklearn.metrics import classification_report\n",
    "print(classification_report(y_validation,SGD_base_validation_predictions, \n",
    "                            target_names=['allow','deny']))"
   ]
  },
  {
   "cell_type": "code",
   "execution_count": 52,
   "id": "6dcce482",
   "metadata": {},
   "outputs": [
    {
     "name": "stdout",
     "output_type": "stream",
     "text": [
      "Test Set Accuracy:  0.6555798687089716\n"
     ]
    }
   ],
   "source": [
    "SGD_base_test_predictions = training_model.predict(X_test_encoded)\n",
    "print(\"Test Set Accuracy: \", accuracy_score(y_test, SGD_base_test_predictions))"
   ]
  },
  {
   "cell_type": "code",
   "execution_count": 53,
   "id": "00edf7f7",
   "metadata": {},
   "outputs": [
    {
     "name": "stdout",
     "output_type": "stream",
     "text": [
      "Validation Set Accuracy:  0.975488765684272\n",
      "              precision    recall  f1-score   support\n",
      "\n",
      "       allow       1.00      0.97      0.98     13478\n",
      "        deny       0.94      0.99      0.97      7084\n",
      "\n",
      "    accuracy                           0.98     20562\n",
      "   macro avg       0.97      0.98      0.97     20562\n",
      "weighted avg       0.98      0.98      0.98     20562\n",
      "\n"
     ]
    }
   ],
   "source": [
    "from sklearn.linear_model import SGDClassifier\n",
    "\n",
    "#Full training set\n",
    "\n",
    "SGD_base = SGDClassifier()\n",
    "\n",
    "training_model = SGD_base.fit(X_train_encoded,y_train)\n",
    "SGD_base_validation_predictions = training_model.predict(X_validation_encoded)\n",
    "\n",
    "print(\"Validation Set Accuracy: \", accuracy_score(y_validation, SGD_base_validation_predictions))\n",
    "\n",
    "from sklearn.metrics import classification_report\n",
    "print(classification_report(y_validation,SGD_base_validation_predictions, \n",
    "                            target_names=['allow','deny']))"
   ]
  },
  {
   "cell_type": "code",
   "execution_count": 54,
   "id": "a40bd60a",
   "metadata": {},
   "outputs": [
    {
     "name": "stdout",
     "output_type": "stream",
     "text": [
      "Test Set Accuracy:  0.9680525164113786\n"
     ]
    }
   ],
   "source": [
    "SGD_base_test_predictions = training_model.predict(X_test_encoded)\n",
    "print(\"Test Set Accuracy: \", accuracy_score(y_test, SGD_base_test_predictions))"
   ]
  },
  {
   "cell_type": "code",
   "execution_count": 55,
   "id": "2987754a",
   "metadata": {},
   "outputs": [
    {
     "name": "stdout",
     "output_type": "stream",
     "text": [
      "Fitting 2 folds for each of 4 candidates, totalling 8 fits\n",
      "Best Accuracy:  0.9743999999999999\n",
      "Best Parameters:  {'alpha': 0.0001, 'loss': 'hinge', 'penalty': 'l2'}\n"
     ]
    }
   ],
   "source": [
    "from sklearn.model_selection import GridSearchCV\n",
    "\n",
    "training_samples=5000\n",
    "X_train_encoded_reduced = X_train_encoded[1:training_samples+1,]\n",
    "y_train_reduced = y_train[1:training_samples+1,]\n",
    "\n",
    "from sklearn.svm import SVC\n",
    "\n",
    "parameters = {\n",
    "    'loss':['hinge'],\n",
    "    'penalty':['l2'],\n",
    "    'alpha':[0.00001, 0.0001, 0.001, 0.01],\n",
    "}\n",
    "\n",
    "clf = SGDClassifier()\n",
    "\n",
    "import warnings\n",
    "\n",
    "with warnings.catch_warnings():\n",
    "   warnings.simplefilter('ignore')\n",
    "   grid_obj = GridSearchCV(clf, parameters, cv = 2, verbose=1, n_jobs = 6, scoring='accuracy')\n",
    "   grid_obj = grid_obj.fit(X_train_encoded_reduced, y_train_reduced)\n",
    "\n",
    "print(\"Best Accuracy: \",grid_obj.best_score_)\n",
    "print(\"Best Parameters: \",grid_obj.best_params_)"
   ]
  },
  {
   "cell_type": "code",
   "execution_count": 56,
   "id": "576f26b2",
   "metadata": {},
   "outputs": [
    {
     "name": "stdout",
     "output_type": "stream",
     "text": [
      "Best Accuracy:  0.9743999999999999\n",
      "Best Parameters:  {'alpha': 0.0001, 'loss': 'hinge', 'penalty': 'l2'}\n"
     ]
    }
   ],
   "source": [
    "print(\"Best Accuracy: \",grid_obj.best_score_)\n",
    "print(\"Best Parameters: \",grid_obj.best_params_)"
   ]
  },
  {
   "cell_type": "code",
   "execution_count": 57,
   "id": "7936fd77",
   "metadata": {},
   "outputs": [
    {
     "name": "stdout",
     "output_type": "stream",
     "text": [
      "Fitting 2 folds for each of 16 candidates, totalling 32 fits\n",
      "Best Accuracy:  1.0\n",
      "Best Parameters:  {'early_stopping': True, 'max_iter': 5000, 'n_iter_no_change': 10, 'tol': 0.001}\n"
     ]
    }
   ],
   "source": [
    "training_samples=5000\n",
    "X_train_encoded_reduced = X_train_encoded[1:training_samples+1,]\n",
    "y_train_reduced = y_train[1:training_samples+1,]\n",
    "\n",
    "from sklearn.svm import SVC\n",
    "\n",
    "parameters = {\n",
    "    \"max_iter\": [1000, 5000],\n",
    "    \"tol\": [1e-3, 1e-1],\n",
    "    \"early_stopping\": [True, False],\n",
    "    \"n_iter_no_change\": [5,10]\n",
    "}\n",
    "\n",
    "clf = SGDClassifier()\n",
    "\n",
    "import warnings\n",
    "\n",
    "with warnings.catch_warnings():\n",
    "   warnings.simplefilter('ignore')\n",
    "   grid_obj = GridSearchCV(clf, parameters, cv = 2, verbose=1, n_jobs = 6, scoring='accuracy')\n",
    "   grid_obj = grid_obj.fit(X_train_encoded_reduced, y_train_reduced)\n",
    "\n",
    "print(\"Best Accuracy: \",grid_obj.best_score_)\n",
    "print(\"Best Parameters: \",grid_obj.best_params_)"
   ]
  },
  {
   "cell_type": "code",
   "execution_count": 58,
   "id": "954f44b9",
   "metadata": {},
   "outputs": [
    {
     "name": "stdout",
     "output_type": "stream",
     "text": [
      "Fitting 2 folds for each of 4 candidates, totalling 8 fits\n",
      "Best Accuracy:  0.985\n",
      "Best Parameters:  {'max_iter': 1000}\n"
     ]
    }
   ],
   "source": [
    "training_samples=5000\n",
    "X_train_encoded_reduced = X_train_encoded[1:training_samples+1,]\n",
    "y_train_reduced = y_train[1:training_samples+1,]\n",
    "\n",
    "from sklearn.svm import SVC\n",
    "\n",
    "parameters = {\n",
    "    \"max_iter\": [1000, 5000, 10000, 20000],\n",
    "}\n",
    "\n",
    "clf = SGDClassifier()\n",
    "\n",
    "import warnings\n",
    "\n",
    "with warnings.catch_warnings():\n",
    "   warnings.simplefilter('ignore')\n",
    "   grid_obj = GridSearchCV(clf, parameters, cv = 2, verbose=1, n_jobs = 6, scoring='accuracy')\n",
    "   grid_obj = grid_obj.fit(X_train_encoded_reduced, y_train_reduced)\n",
    "\n",
    "print(\"Best Accuracy: \",grid_obj.best_score_)\n",
    "print(\"Best Parameters: \",grid_obj.best_params_)"
   ]
  },
  {
   "cell_type": "code",
   "execution_count": 59,
   "id": "4315b466",
   "metadata": {},
   "outputs": [
    {
     "name": "stdout",
     "output_type": "stream",
     "text": [
      "Best Accuracy:  0.985\n",
      "Best Parameters:  {'max_iter': 1000}\n"
     ]
    }
   ],
   "source": [
    "print(\"Best Accuracy: \",grid_obj.best_score_)\n",
    "print(\"Best Parameters: \",grid_obj.best_params_)"
   ]
  },
  {
   "cell_type": "markdown",
   "id": "72fd1549",
   "metadata": {},
   "source": [
    "## SGD modeling with Vowpal Wabbit\n",
    "\n",
    "Below is modification of function shown by Dr. Slater asynch to convert dataframe to VW format\n"
   ]
  },
  {
   "cell_type": "code",
   "execution_count": 60,
   "id": "ba1f162e",
   "metadata": {},
   "outputs": [
    {
     "data": {
      "text/plain": [
       "50338    0\n",
       "1859     1\n",
       "33154    0\n",
       "2078     0\n",
       "16770    0\n",
       "44690    1\n",
       "60081    0\n",
       "51021    1\n",
       "24616    0\n",
       "Name: Action, dtype: int32"
      ]
     },
     "execution_count": 60,
     "metadata": {},
     "output_type": "execute_result"
    }
   ],
   "source": [
    "training_df.Action.iloc[1:10]"
   ]
  },
  {
   "cell_type": "code",
   "execution_count": 61,
   "id": "db4da13f",
   "metadata": {},
   "outputs": [],
   "source": [
    "def to_vw_format(row):\n",
    "    res = f'{(round(row.Action))} |'\n",
    "    for idx, value in row.drop(['Action']).iteritems():\n",
    "        feature_name = idx.replace(' ','_').replace('(', '').replace(')', '')\n",
    "        if \"Port\" in feature_name:\n",
    "            res += f' {feature_name}_{round(value)}'\n",
    "        else:\n",
    "            res += f' {feature_name}:{value}'\n",
    "    return res"
   ]
  },
  {
   "cell_type": "code",
   "execution_count": 62,
   "id": "82f2c5a5",
   "metadata": {},
   "outputs": [
    {
     "name": "stdout",
     "output_type": "stream",
     "text": [
      "1 | Bytes:-0.034422947628242107 Bytes_Sent:-0.010144661605338648 Bytes_Received:-0.033539320252656414 Packets:-0.039584667556370336 Elapsed_Time_sec:-0.23760094879516788 pkts_sent:-0.03958189108679624 pkts_received:-0.03642527158790636\n",
      "0 | Bytes:-0.03436884023558396 Bytes_Sent:-0.010138643338042168 Bytes_Received:-0.03348382789445606 Packets:-0.03872753455554876 Elapsed_Time_sec:-0.2028836996147349 pkts_sent:-0.03958189108679624 pkts_received:-0.03526222080107951\n",
      "1 | Bytes:-0.03442533471909467 Bytes_Sent:-0.01015368900628337 Bytes_Received:-0.033539320252656414 Packets:-0.039584667556370336 Elapsed_Time_sec:-0.23760094879516788 pkts_sent:-0.03958189108679624 pkts_received:-0.03642527158790636\n",
      "0 | Bytes:-0.03437600150814166 Bytes_Sent:-0.010102533734263282 Bytes_Received:-0.033501484553883444 Packets:-0.03915610105595955 Elapsed_Time_sec:-0.14291754193944162 pkts_sent:-0.03958189108679624 pkts_received:-0.03584374619449293\n",
      "0 | Bytes:-0.034369635932534816 Bytes_Sent:-0.01009049719967032 Bytes_Received:-0.033498121380659183 Packets:-0.03915610105595955 Elapsed_Time_sec:-0.133449201253869 pkts_sent:-0.03958189108679624 pkts_received:-0.03584374619449293\n",
      "0 | Bytes:-0.0343636682054034 Bytes_Sent:-0.01009049719967032 Bytes_Received:-0.033491815430863686 Packets:-0.03915610105595955 Elapsed_Time_sec:-0.14291754193944162 pkts_sent:-0.03958189108679624 pkts_received:-0.03584374619449293\n",
      "1 | Bytes:-0.034421356234340394 Bytes_Sent:-0.010138643338042168 Bytes_Received:-0.033539320252656414 Packets:-0.039584667556370336 Elapsed_Time_sec:-0.23760094879516788 pkts_sent:-0.03958189108679624 pkts_received:-0.03642527158790636\n",
      "0 | Bytes:-0.031088579555684066 Bytes_Sent:-0.004968951730365061 Bytes_Received:-0.031462140390020356 Packets:-0.028013372045279046 Elapsed_Time_sec:0.8133848673033935 pkts_sent:-0.020941227485526945 pkts_received:-0.028865441473531848\n",
      "1 | Bytes:-0.034422947628242107 Bytes_Sent:-0.010144661605338648 Bytes_Received:-0.033539320252656414 Packets:-0.039584667556370336 Elapsed_Time_sec:-0.23760094879516788 pkts_sent:-0.03958189108679624 pkts_received:-0.03642527158790636\n",
      "0 | Bytes:-0.034421356234340394 Bytes_Sent:-0.010138643338042168 Bytes_Received:-0.033539320252656414 Packets:-0.03915610105595955 Elapsed_Time_sec:-0.21550815386216507 pkts_sent:-0.038250415115277 pkts_received:-0.03642527158790636\n"
     ]
    }
   ],
   "source": [
    "for ex in training_df.head(10).apply(to_vw_format, axis=1):\n",
    "    print(ex)\n",
    "    "
   ]
  },
  {
   "cell_type": "code",
   "execution_count": 63,
   "id": "f85a6a8e",
   "metadata": {},
   "outputs": [],
   "source": [
    "import vowpalwabbit\n",
    "\n",
    "vw = vowpalwabbit.Workspace(\"--oaa 3 --quiet --cache --passes 2000 --loss_function hinge\")\n",
    "# learn from training set with multiple passes\n",
    "for example in training_df.apply(to_vw_format, axis=1):\n",
    "    vw.learn(example)\n"
   ]
  },
  {
   "cell_type": "code",
   "execution_count": 64,
   "id": "816a7df2",
   "metadata": {},
   "outputs": [],
   "source": [
    "#predict from the testing set\n",
    "\n",
    "vw_predictions = []\n",
    "for example in validation_df.apply(to_vw_format, axis=1):\n",
    "    predicted_class = vw.predict(example)\n",
    "    vw_predictions.append(predicted_class)"
   ]
  },
  {
   "cell_type": "code",
   "execution_count": 65,
   "id": "f4762e1a",
   "metadata": {},
   "outputs": [
    {
     "name": "stdout",
     "output_type": "stream",
     "text": [
      "Validation Set Accuracy:  0.9330318062445287\n"
     ]
    }
   ],
   "source": [
    "print(\"Validation Set Accuracy: \", accuracy_score(y_validation, vw_predictions))\n"
   ]
  },
  {
   "cell_type": "code",
   "execution_count": 66,
   "id": "67885ab7",
   "metadata": {},
   "outputs": [
    {
     "name": "stdout",
     "output_type": "stream",
     "text": [
      "              precision    recall  f1-score   support\n",
      "\n",
      "       allow       1.00      0.90      0.95     13478\n",
      "        deny       0.84      1.00      0.91      7084\n",
      "\n",
      "    accuracy                           0.93     20562\n",
      "   macro avg       0.92      0.95      0.93     20562\n",
      "weighted avg       0.94      0.93      0.93     20562\n",
      "\n"
     ]
    }
   ],
   "source": [
    "from sklearn.metrics import classification_report\n",
    "print(classification_report(y_validation,vw_predictions, \n",
    "                            target_names=['allow','deny']))"
   ]
  },
  {
   "cell_type": "markdown",
   "id": "496ab5a6",
   "metadata": {},
   "source": [
    "# Grid search for optimal parameters\n"
   ]
  },
  {
   "cell_type": "code",
   "execution_count": 67,
   "id": "6ba20416",
   "metadata": {},
   "outputs": [
    {
     "name": "stdout",
     "output_type": "stream",
     "text": [
      "Validation Set Accuracy:  0.9382355801964789\n"
     ]
    }
   ],
   "source": [
    "# Explicitly calling --sgd increased accuracy \n",
    "vw = vowpalwabbit.Workspace(\"--oaa 3 --sgd --quiet --cache --passes 2000 --loss_function hinge\")\n",
    "# learn from training set with multiple passes\n",
    "for example in training_df.apply(to_vw_format, axis=1):\n",
    "    vw.learn(example)\n",
    "\n",
    "#predict from the testing set\n",
    "\n",
    "vw_predictions = []\n",
    "for example in validation_df.apply(to_vw_format, axis=1):\n",
    "    predicted_class = vw.predict(example)\n",
    "    vw_predictions.append(predicted_class)\n",
    "\n",
    "print(\"Validation Set Accuracy: \", accuracy_score(y_validation, vw_predictions))\n"
   ]
  },
  {
   "cell_type": "code",
   "execution_count": 68,
   "id": "8372402c",
   "metadata": {},
   "outputs": [
    {
     "name": "stdout",
     "output_type": "stream",
     "text": [
      "Validation Set Accuracy:  0.9382355801964789\n"
     ]
    }
   ],
   "source": [
    "vw = vowpalwabbit.Workspace(\"--oaa 3 --sgd --quiet --cache --passes 2000 --loss_function hinge --l2 0.000001\")\n",
    "# learn from training set with multiple passes\n",
    "for example in training_df.apply(to_vw_format, axis=1):\n",
    "    vw.learn(example)\n",
    "\n",
    "#predict from the testing set\n",
    "\n",
    "vw_predictions = []\n",
    "for example in validation_df.apply(to_vw_format, axis=1):\n",
    "    predicted_class = vw.predict(example)\n",
    "    vw_predictions.append(predicted_class)\n",
    "\n",
    "print(\"Validation Set Accuracy: \", accuracy_score(y_validation, vw_predictions))"
   ]
  },
  {
   "cell_type": "code",
   "execution_count": 69,
   "id": "3e6f832b",
   "metadata": {},
   "outputs": [
    {
     "name": "stdout",
     "output_type": "stream",
     "text": [
      "Validation Set Accuracy:  0.6554809843400448\n"
     ]
    }
   ],
   "source": [
    "# -l is scaling the learning rate, default 10, when increased to 100 improved accuracy\n",
    "\n",
    "vw = vowpalwabbit.Workspace(\"--oaa 3 --sgd -l 1 --quiet --cache --passes 2000 --loss_function hinge --l2 0.0001\")\n",
    "# learn from training set with multiple passes\n",
    "for example in training_df.apply(to_vw_format, axis=1):\n",
    "    vw.learn(example)\n",
    "\n",
    "#predict from the testing set\n",
    "\n",
    "vw_predictions = []\n",
    "for example in validation_df.apply(to_vw_format, axis=1):\n",
    "    predicted_class = vw.predict(example)\n",
    "    vw_predictions.append(predicted_class)\n",
    "\n",
    "print(\"Validation Set Accuracy: \", accuracy_score(y_validation, vw_predictions))"
   ]
  },
  {
   "cell_type": "code",
   "execution_count": 70,
   "id": "2d6e0722",
   "metadata": {},
   "outputs": [
    {
     "name": "stdout",
     "output_type": "stream",
     "text": [
      "Validation Set Accuracy:  0.935220309308433\n"
     ]
    }
   ],
   "source": [
    "# -l is scaling the learning rate, default 10, when increased to 100 improved accuracy\n",
    "\n",
    "vw = vowpalwabbit.Workspace(\"--oaa 3 --sgd -l 5 --quiet --cache --passes 2000 --loss_function hinge --l2 0.0001\")\n",
    "# learn from training set with multiple passes\n",
    "for example in training_df.apply(to_vw_format, axis=1):\n",
    "    vw.learn(example)\n",
    "\n",
    "#predict from the testing set\n",
    "\n",
    "vw_predictions = []\n",
    "for example in validation_df.apply(to_vw_format, axis=1):\n",
    "    predicted_class = vw.predict(example)\n",
    "    vw_predictions.append(predicted_class)\n",
    "\n",
    "print(\"Validation Set Accuracy: \", accuracy_score(y_validation, vw_predictions))"
   ]
  },
  {
   "cell_type": "code",
   "execution_count": 71,
   "id": "69acae52",
   "metadata": {},
   "outputs": [
    {
     "name": "stdout",
     "output_type": "stream",
     "text": [
      "Validation Set Accuracy:  0.9375060791751775\n"
     ]
    }
   ],
   "source": [
    "# -l is scaling the learning rate, default 10, when increased to 100 improved accuracy\n",
    "\n",
    "vw = vowpalwabbit.Workspace(\"--oaa 3 --sgd -l 10 --quiet --cache --passes 2000 --loss_function hinge --l2 0.0001\")\n",
    "# learn from training set with multiple passes\n",
    "for example in training_df.apply(to_vw_format, axis=1):\n",
    "    vw.learn(example)\n",
    "\n",
    "#predict from the testing set\n",
    "\n",
    "vw_predictions = []\n",
    "for example in validation_df.apply(to_vw_format, axis=1):\n",
    "    predicted_class = vw.predict(example)\n",
    "    vw_predictions.append(predicted_class)\n",
    "\n",
    "print(\"Validation Set Accuracy: \", accuracy_score(y_validation, vw_predictions))"
   ]
  },
  {
   "cell_type": "code",
   "execution_count": 72,
   "id": "ef44da3c",
   "metadata": {},
   "outputs": [
    {
     "name": "stdout",
     "output_type": "stream",
     "text": [
      "Validation Set Accuracy:  0.9382355801964789\n"
     ]
    }
   ],
   "source": [
    "# -l is scaling the learning rate, default 10, when increased to 100 improved accuracy\n",
    "\n",
    "vw = vowpalwabbit.Workspace(\"--oaa 3 --sgd -l 15 --quiet --cache --passes 2000 --loss_function hinge --l2 0.0001\")\n",
    "# learn from training set with multiple passes\n",
    "for example in training_df.apply(to_vw_format, axis=1):\n",
    "    vw.learn(example)\n",
    "\n",
    "#predict from the testing set\n",
    "\n",
    "vw_predictions = []\n",
    "for example in validation_df.apply(to_vw_format, axis=1):\n",
    "    predicted_class = vw.predict(example)\n",
    "    vw_predictions.append(predicted_class)\n",
    "\n",
    "print(\"Validation Set Accuracy: \", accuracy_score(y_validation, vw_predictions))"
   ]
  },
  {
   "cell_type": "code",
   "execution_count": 73,
   "id": "f16d73a4",
   "metadata": {},
   "outputs": [
    {
     "name": "stdout",
     "output_type": "stream",
     "text": [
      "Validation Set Accuracy:  0.9389650812177803\n"
     ]
    }
   ],
   "source": [
    "# -l is scaling the learning rate, default 10, when increased to 100 improved accuracy\n",
    "\n",
    "vw = vowpalwabbit.Workspace(\"--oaa 3 --sgd -l 20 --quiet --cache --passes 2000 --loss_function hinge --l2 0.0001\")\n",
    "# learn from training set with multiple passes\n",
    "for example in training_df.apply(to_vw_format, axis=1):\n",
    "    vw.learn(example)\n",
    "\n",
    "#predict from the testing set\n",
    "\n",
    "vw_predictions = []\n",
    "for example in validation_df.apply(to_vw_format, axis=1):\n",
    "    predicted_class = vw.predict(example)\n",
    "    vw_predictions.append(predicted_class)\n",
    "\n",
    "print(\"Validation Set Accuracy: \", accuracy_score(y_validation, vw_predictions))"
   ]
  },
  {
   "cell_type": "code",
   "execution_count": 74,
   "id": "8c9d5fab",
   "metadata": {},
   "outputs": [
    {
     "name": "stdout",
     "output_type": "stream",
     "text": [
      "Validation Set Accuracy:  0.9389650812177803\n"
     ]
    }
   ],
   "source": [
    "# -l is scaling the learning rate, default 10, when increased to 100 improved accuracy\n",
    "\n",
    "vw = vowpalwabbit.Workspace(\"--oaa 3 --sgd -l 25 --quiet --cache --passes 2000 --loss_function hinge --l2 0.0001\")\n",
    "# learn from training set with multiple passes\n",
    "for example in training_df.apply(to_vw_format, axis=1):\n",
    "    vw.learn(example)\n",
    "\n",
    "#predict from the testing set\n",
    "\n",
    "vw_predictions = []\n",
    "for example in validation_df.apply(to_vw_format, axis=1):\n",
    "    predicted_class = vw.predict(example)\n",
    "    vw_predictions.append(predicted_class)\n",
    "\n",
    "print(\"Validation Set Accuracy: \", accuracy_score(y_validation, vw_predictions))"
   ]
  },
  {
   "cell_type": "code",
   "execution_count": 75,
   "id": "4461944a",
   "metadata": {},
   "outputs": [
    {
     "name": "stdout",
     "output_type": "stream",
     "text": [
      "Validation Set Accuracy:  0.9640599163505496\n"
     ]
    }
   ],
   "source": [
    "# adax adaptive learning rates with x^2 instead of g^2x^2\n",
    "\n",
    "vw = vowpalwabbit.Workspace(\"--oaa 3 --adax -l 20 --quiet --cache --passes 2000 --loss_function hinge --l2 0.0001\")\n",
    "# learn from training set with multiple passes\n",
    "for example in training_df.apply(to_vw_format, axis=1):\n",
    "    vw.learn(example)\n",
    "\n",
    "#predict from the testing set\n",
    "\n",
    "vw_predictions = []\n",
    "for example in validation_df.apply(to_vw_format, axis=1):\n",
    "    predicted_class = vw.predict(example)\n",
    "    vw_predictions.append(predicted_class)\n",
    "\n",
    "print(\"Validation Set Accuracy: \", accuracy_score(y_validation, vw_predictions))"
   ]
  },
  {
   "cell_type": "markdown",
   "id": "5fe0b8fe",
   "metadata": {},
   "source": [
    "## Final Tuned VW SGD model"
   ]
  },
  {
   "cell_type": "code",
   "execution_count": 76,
   "id": "188c95a6",
   "metadata": {},
   "outputs": [
    {
     "name": "stdout",
     "output_type": "stream",
     "text": [
      "Test Set Accuracy:  0.5137855579868709\n"
     ]
    }
   ],
   "source": [
    "# adax adaptive learning rates with x^2 instead of g^2x^2\n",
    "\n",
    "vw = vowpalwabbit.Workspace(\"--oaa 3 --adax -l 50 --quiet --cache --passes 2000 --loss_function hinge --l2 0.0001 --save_resume --readable_model vw_output.txt\")\n",
    "# learn from training set with multiple passes\n",
    "for example in training_df.apply(to_vw_format, axis=1):\n",
    "    vw.learn(example)\n",
    "\n",
    "#predict from the testing set\n",
    "\n",
    "vw_predictions = []\n",
    "for example in test_df.apply(to_vw_format, axis=1):\n",
    "    predicted_class = vw.predict(example)\n",
    "    vw_predictions.append(predicted_class)\n",
    "\n",
    "print(\"Test Set Accuracy: \", accuracy_score(y_test, vw_predictions))"
   ]
  },
  {
   "cell_type": "code",
   "execution_count": 77,
   "id": "331fb205",
   "metadata": {},
   "outputs": [
    {
     "data": {
      "image/png": "[encoded data removed]",
      "text/plain": [
       "<Figure size 576x432 with 2 Axes>"
      ]
     },
     "metadata": {
      "needs_background": "light"
     },
     "output_type": "display_data"
    }
   ],
   "source": [
    "from sklearn.metrics import confusion_matrix\n",
    "\n",
    "def plot_confusion(cf_matrix):\n",
    "    plt.figure(figsize=(8, 6))\n",
    "    sns.set(font_scale=2)\n",
    "    group_names = ['True Neg','False Pos','False Neg','True Pos']\n",
    "    group_counts = ['{0:0.0f}'.format(value) for value in\n",
    "    cf_matrix.flatten()]\n",
    "    group_percentages = ['{0:.2%}'.format(value) for value in\n",
    "    cf_matrix.flatten()/np.sum(cf_matrix)]\n",
    "    labels = [f'{v1}\\n{v2}\\n' for v1, v2 in\n",
    "    zip(group_counts,group_percentages)]\n",
    "    labels = np.asarray(labels).reshape(2,2)\n",
    "    x_axis_labels = ['Allow','Deny']\n",
    "    y_axis_labels = ['Allow','Deny']\n",
    "    ax = plt.axes()\n",
    "    sns.heatmap(cf_matrix, annot=labels, fmt='', cmap='Blues',xticklabels=x_axis_labels, yticklabels=y_axis_labels)\n",
    "    ax.set_title('   Internet Connection Confusion Matrix\\n')\n",
    "    plt.xlabel(\"Predicted Action\")\n",
    "    plt.ylabel(\"True Action\") \n",
    "\n",
    "\n",
    "lr_cm = confusion_matrix(y_test,vw_predictions)\n",
    "plot_confusion(lr_cm)"
   ]
  },
  {
   "cell_type": "code",
   "execution_count": 82,
   "id": "e6d2ac0e",
   "metadata": {},
   "outputs": [
    {
     "name": "stdout",
     "output_type": "stream",
     "text": [
      "              precision    recall  f1-score   support\n",
      "\n",
      "       allow       1.00      0.26      0.41      1498\n",
      "        deny       0.41      1.00      0.59       787\n",
      "\n",
      "    accuracy                           0.51      2285\n",
      "   macro avg       0.71      0.63      0.50      2285\n",
      "weighted avg       0.80      0.51      0.47      2285\n",
      "\n"
     ]
    }
   ],
   "source": [
    "from sklearn.metrics import classification_report\n",
    "print(classification_report(y_test,vw_predictions, \n",
    "                            target_names=['allow','deny']))"
   ]
  }
 ],
 "metadata": {
  "kernelspec": {
   "display_name": "Python 3 (ipykernel)",
   "language": "python",
   "name": "python3"
  },
  "language_info": {
   "codemirror_mode": {
    "name": "ipython",
    "version": 3
   },
   "file_extension": ".py",
   "mimetype": "text/x-python",
   "name": "python",
   "nbconvert_exporter": "python",
   "pygments_lexer": "ipython3",
   "version": "3.9.7"
  }
 },
 "nbformat": 4,
 "nbformat_minor": 5
}
