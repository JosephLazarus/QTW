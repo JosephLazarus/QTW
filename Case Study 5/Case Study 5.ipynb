{
 "cells": [
  {
   "cell_type": "markdown",
   "metadata": {},
   "source": [
    "# Case Study 5\n",
    "\n",
    "### Import of packages"
   ]
  },
  {
   "cell_type": "code",
   "execution_count": 1,
   "metadata": {},
   "outputs": [],
   "source": [
    "import pandas as pd\n",
    "import numpy as np\n",
    "from sklearn.metrics import accuracy_score, mean_squared_error, roc_auc_score, precision_score, recall_score,f1_score\n",
    "from sklearn import metrics as mt\n",
    "from sklearn.svm import SVC\n",
    "from sklearn.model_selection import StratifiedKFold\n",
    "from sklearn.preprocessing import StandardScaler\n",
    "from sklearn.model_selection import train_test_split\n",
    "import warnings\n",
    "warnings.filterwarnings('ignore')"
   ]
  },
  {
   "cell_type": "markdown",
   "metadata": {},
   "source": [
    "## Import of data and data cleaning"
   ]
  },
  {
   "cell_type": "code",
   "execution_count": 3,
   "metadata": {},
   "outputs": [
    {
     "data": {
      "text/plain": [
       "SourcePort         15738\n",
       "DestinationPort     2587\n",
       "NatSourcePort      20240\n",
       "NatDestPort         2047\n",
       "Target                 2\n",
       "dtype: int64"
      ]
     },
     "execution_count": 3,
     "metadata": {},
     "output_type": "execute_result"
    }
   ],
   "source": [
    "#import data\n",
    "df = pd.read_csv(\"https://raw.githubusercontent.com/JosephLazarus/QTW/main/Case%20Study%205/log2.csv\")\n",
    "\n",
    "#create supported columns list\n",
    "df = df[['Source Port','Destination Port','NAT Source Port','NAT Destination Port','Target']]\n",
    "#rename columns for easier use\n",
    "df = df.set_axis(['SourcePort','DestinationPort','NatSourcePort','NatDestPort','Target'],axis = 1)\n",
    "\n",
    "#quick data conversion and clean\n",
    "df['SourcePort'] = df['SourcePort'].astype('str')\n",
    "df['DestinationPort'] = df['DestinationPort'].astype('str')\n",
    "df['NatSourcePort'] = df['NatSourcePort'].astype('str')\n",
    "df['NatDestPort'] = df['NatDestPort'].astype('str')\n",
    "df['SourcePort'] = df['SourcePort'].str.replace('.0', '')\n",
    "df['DestinationPort'] = df['DestinationPort'].str.replace('.0', '')\n",
    "df['NatSourcePort'] = df['NatSourcePort'].str.replace('.0', '')\n",
    "df['NatDestPort'] = df['NatDestPort'].str.replace('.0', '')\n",
    "\n",
    "#dataframe info check\n",
    "df.head()\n",
    "#number of unique values check\n",
    "df.nunique()"
   ]
  },
  {
   "cell_type": "markdown",
   "metadata": {},
   "source": [
    "## EDA on categorical variables"
   ]
  },
  {
   "cell_type": "code",
   "execution_count": 4,
   "metadata": {},
   "outputs": [],
   "source": [
    "# Split out of source port\n",
    "sourceport_info = df[['SourcePort','Target']]\n",
    "sourceport_info = sourceport_info.groupby(['SourcePort','Target']).size().reset_index()\n",
    "sourceport_info = sourceport_info.set_axis(['SourcePort','Target','Count'], axis = 1)\n",
    "spallow = sourceport_info[sourceport_info['Target'] == 1]\n",
    "spdeny = sourceport_info[sourceport_info['Target'] == 0]\n",
    "\n",
    "# Split out of destination port\n",
    "destport_info = df[['DestinationPort','Target']]\n",
    "destport_info = destport_info.groupby(['DestinationPort','Target']).size().reset_index()\n",
    "destport_info = destport_info.set_axis(['DestinationPort','Target','Count'], axis = 1)\n",
    "dpallow = destport_info[destport_info['Target'] == 1]\n",
    "dpdeny = destport_info[destport_info['Target'] == 0]\n",
    "\n",
    "# Split out of nat destination port\n",
    "natdestport_info = df[['NatDestPort','Target']]\n",
    "natdestport_info = natdestport_info.groupby(['NatDestPort','Target']).size().reset_index()\n",
    "natdestport_info = natdestport_info.set_axis(['NatDestPort','Target','Count'], axis = 1)\n",
    "ndpallow = natdestport_info[natdestport_info['Target'] == 1]\n",
    "ndpdeny = natdestport_info[natdestport_info['Target'] == 0]\n",
    "ndpallow = ndpallow.drop(('Target'),axis = 1)\n",
    "ndpdeny = ndpdeny.drop(('Target'),axis = 1)"
   ]
  },
  {
   "cell_type": "markdown",
   "metadata": {},
   "source": [
    "## Visualization of data groups"
   ]
  },
  {
   "cell_type": "code",
   "execution_count": 5,
   "metadata": {},
   "outputs": [
    {
     "data": {
      "text/plain": [
       "<BarContainer object of 9676 artists>"
      ]
     },
     "execution_count": 5,
     "metadata": {},
     "output_type": "execute_result"
    },
    {
     "data": {
      "image/png": "[encoded data removed]",
      "text/plain": [
       "<Figure size 432x288 with 1 Axes>"
      ]
     },
     "metadata": {
      "needs_background": "light"
     },
     "output_type": "display_data"
    }
   ],
   "source": [
    "import matplotlib.pyplot as plt\n",
    "\n",
    "x = spallow['SourcePort']\n",
    "y1 = spallow['Count']\n",
    "\n",
    "  \n",
    "# plot bars in stack manner\n",
    "#axes.set_ylim(0,100)\n",
    "plt.ylim((0,75))\n",
    "plt.bar(x, y1, color='g')\n",
    "x = spdeny['SourcePort']\n",
    "y1 = spdeny['Count']\n",
    "\n",
    "  \n",
    "# plot bars in stack manner\n",
    "plt.ylim((0,75))\n",
    "plt.bar(x, y1, color='r')"
   ]
  },
  {
   "cell_type": "code",
   "execution_count": 6,
   "metadata": {},
   "outputs": [
    {
     "data": {
      "text/plain": [
       "<BarContainer object of 696 artists>"
      ]
     },
     "execution_count": 6,
     "metadata": {},
     "output_type": "execute_result"
    },
    {
     "data": {
      "image/png": "[encoded data removed]",
      "text/plain": [
       "<Figure size 432x288 with 1 Axes>"
      ]
     },
     "metadata": {
      "needs_background": "light"
     },
     "output_type": "display_data"
    }
   ],
   "source": [
    "x = dpallow['DestinationPort']\n",
    "y1 = dpallow['Count']\n",
    "\n",
    "  \n",
    "# plot bars in stack manner\n",
    "#axes.set_ylim(0,100)\n",
    "plt.ylim((0,75))\n",
    "plt.bar(x, y1, color='g')\n",
    "\n",
    "x = dpdeny['DestinationPort']\n",
    "y1 = dpdeny['Count']\n",
    "\n",
    "  \n",
    "# plot bars in stack manner\n",
    "plt.ylim((0,75))\n",
    "plt.bar(x, y1, color='r')"
   ]
  },
  {
   "cell_type": "code",
   "execution_count": 7,
   "metadata": {},
   "outputs": [
    {
     "data": {
      "text/plain": [
       "<BarContainer object of 8 artists>"
      ]
     },
     "execution_count": 7,
     "metadata": {},
     "output_type": "execute_result"
    },
    {
     "data": {
      "image/png": "[encoded data removed]",
      "text/plain": [
       "<Figure size 432x288 with 1 Axes>"
      ]
     },
     "metadata": {
      "needs_background": "light"
     },
     "output_type": "display_data"
    }
   ],
   "source": [
    "x = ndpallow['NatDestPort']\n",
    "y1 = ndpallow['Count']\n",
    "\n",
    "  \n",
    "# plot bars in stack manner\n",
    "#axes.set_ylim(0,100)\n",
    "plt.ylim((0,75))\n",
    "plt.bar(x, y1, color='g')\n",
    "\n",
    "x = ndpdeny['NatDestPort']\n",
    "y1 = ndpdeny['Count']\n",
    "\n",
    "  \n",
    "# plot bars in stack manner\n",
    "plt.ylim((0,75))\n",
    "plt.bar(x, y1, color='r')"
   ]
  },
  {
   "cell_type": "markdown",
   "metadata": {},
   "source": [
    "## Create cohort tier system for Nat Destination Port"
   ]
  },
  {
   "cell_type": "code",
   "execution_count": 8,
   "metadata": {},
   "outputs": [
    {
     "data": {
      "text/html": [
       "<div>\n",
       "<style scoped>\n",
       "    .dataframe tbody tr th:only-of-type {\n",
       "        vertical-align: middle;\n",
       "    }\n",
       "\n",
       "    .dataframe tbody tr th {\n",
       "        vertical-align: top;\n",
       "    }\n",
       "\n",
       "    .dataframe thead th {\n",
       "        text-align: right;\n",
       "    }\n",
       "</style>\n",
       "<table border=\"1\" class=\"dataframe\">\n",
       "  <thead>\n",
       "    <tr style=\"text-align: right;\">\n",
       "      <th></th>\n",
       "      <th>NatDestPort</th>\n",
       "      <th>Allows</th>\n",
       "      <th>Denies</th>\n",
       "      <th>TotalHits</th>\n",
       "      <th>AllowPer</th>\n",
       "      <th>DenyPer</th>\n",
       "      <th>AllowPerDiff</th>\n",
       "      <th>NDPortTier</th>\n",
       "    </tr>\n",
       "  </thead>\n",
       "  <tbody>\n",
       "    <tr>\n",
       "      <th>1</th>\n",
       "      <td>0</td>\n",
       "      <td>655.0</td>\n",
       "      <td>27868.0</td>\n",
       "      <td>28523.0</td>\n",
       "      <td>0.022964</td>\n",
       "      <td>0.977036</td>\n",
       "      <td>-0.954072</td>\n",
       "      <td>4</td>\n",
       "    </tr>\n",
       "    <tr>\n",
       "      <th>2044</th>\n",
       "      <td>5169</td>\n",
       "      <td>0.0</td>\n",
       "      <td>1.0</td>\n",
       "      <td>1.0</td>\n",
       "      <td>0.000000</td>\n",
       "      <td>1.000000</td>\n",
       "      <td>-1.000000</td>\n",
       "      <td>4</td>\n",
       "    </tr>\n",
       "    <tr>\n",
       "      <th>2045</th>\n",
       "      <td>8887</td>\n",
       "      <td>0.0</td>\n",
       "      <td>1.0</td>\n",
       "      <td>1.0</td>\n",
       "      <td>0.000000</td>\n",
       "      <td>1.000000</td>\n",
       "      <td>-1.000000</td>\n",
       "      <td>4</td>\n",
       "    </tr>\n",
       "    <tr>\n",
       "      <th>2046</th>\n",
       "      <td>8889</td>\n",
       "      <td>0.0</td>\n",
       "      <td>2.0</td>\n",
       "      <td>2.0</td>\n",
       "      <td>0.000000</td>\n",
       "      <td>1.000000</td>\n",
       "      <td>-1.000000</td>\n",
       "      <td>4</td>\n",
       "    </tr>\n",
       "  </tbody>\n",
       "</table>\n",
       "</div>"
      ],
      "text/plain": [
       "     NatDestPort  Allows   Denies  TotalHits  AllowPer   DenyPer  \\\n",
       "1              0   655.0  27868.0    28523.0  0.022964  0.977036   \n",
       "2044        5169     0.0      1.0        1.0  0.000000  1.000000   \n",
       "2045        8887     0.0      1.0        1.0  0.000000  1.000000   \n",
       "2046        8889     0.0      2.0        2.0  0.000000  1.000000   \n",
       "\n",
       "      AllowPerDiff NDPortTier  \n",
       "1        -0.954072          4  \n",
       "2044     -1.000000          4  \n",
       "2045     -1.000000          4  \n",
       "2046     -1.000000          4  "
      ]
     },
     "execution_count": 8,
     "metadata": {},
     "output_type": "execute_result"
    }
   ],
   "source": [
    "#can see clear skewing of one port over another. Create cohort tier system for Natural Destination Port\n",
    "npd = ndpallow.merge(ndpdeny,on = ['NatDestPort'],how = 'outer')\n",
    "npd = npd.fillna(0)\n",
    "npd = npd.set_axis(['NatDestPort','Allows','Denies'],axis = 1)\n",
    "npd['TotalHits'] = npd['Allows'] + npd['Denies']\n",
    "npd['AllowPer'] = npd['Allows']/npd['TotalHits']\n",
    "npd['DenyPer'] = npd['Denies']/npd['TotalHits']\n",
    "npd['AllowPerDiff'] = npd['AllowPer']-npd['DenyPer']\n",
    "npd.loc[npd['AllowPerDiff'] < 0, 'NDPortTier'] = '4'\n",
    "npd.loc[npd['AllowPerDiff'] >= 0, 'NDPortTier'] = '3'\n",
    "npd.loc[npd['AllowPerDiff'] > .5, 'NDPortTier'] = '2'\n",
    "npd.loc[npd['AllowPerDiff'] > .8, 'NDPortTier'] = '1'\n",
    "\n",
    "#create blacklist for blacklisted ports\n",
    "blacklist = npd[npd['DenyPer'] > .75]\n",
    "blacklist.head()"
   ]
  },
  {
   "cell_type": "code",
   "execution_count": 9,
   "metadata": {},
   "outputs": [],
   "source": [
    "# recombine with original dataset\n",
    "npd = npd[['NatDestPort','NDPortTier']]\n",
    "df1 = df.merge(npd, on = ['NatDestPort'], how = 'left')\n",
    "df1['NDPortTier'] = df1['NDPortTier'].fillna('0')"
   ]
  },
  {
   "cell_type": "markdown",
   "metadata": {},
   "source": [
    "## Build model"
   ]
  },
  {
   "cell_type": "code",
   "execution_count": 25,
   "metadata": {},
   "outputs": [
    {
     "name": "stdout",
     "output_type": "stream",
     "text": [
      "<class 'pandas.core.frame.DataFrame'>\n",
      "Int64Index: 65532 entries, 0 to 65531\n",
      "Data columns (total 3 columns):\n",
      " #   Column        Non-Null Count  Dtype\n",
      "---  ------        --------------  -----\n",
      " 0   NDPortTier_1  65532 non-null  uint8\n",
      " 1   NDPortTier_2  65532 non-null  uint8\n",
      " 2   NDPortTier_4  65532 non-null  uint8\n",
      "dtypes: uint8(3)\n",
      "memory usage: 704.0 KB\n"
     ]
    }
   ],
   "source": [
    "#onehotencoding\n",
    "tmp_df = pd.get_dummies(df1.NDPortTier,prefix='NDPortTier')\n",
    "df_onehot = pd.concat((df1,tmp_df),axis=1) # add back into the dataframe\n",
    "\n",
    "#create target and data\n",
    "target = df_onehot[['Target']]\n",
    "data = df_onehot.drop(['SourcePort','DestinationPort','NatSourcePort','NatDestPort','NDPortTier','Target'], axis = 1)\n",
    "\n",
    "#create train test\n",
    "X_train,X_test,Y_train,Y_test = train_test_split(data,target,test_size=0.60,random_state=0,stratify=target) #start with small to train svm quickly\n",
    "\n",
    "data.info()"
   ]
  },
  {
   "cell_type": "code",
   "execution_count": 29,
   "metadata": {},
   "outputs": [
    {
     "name": "stdout",
     "output_type": "stream",
     "text": [
      "AUC: 0.990417027757515 Precision: 0.9995039906209136 ACC: 0.989089521871821 F1 Score: 0.9904157637228836\n"
     ]
    },
    {
     "data": {
      "text/plain": [
       "<sklearn.metrics._plot.confusion_matrix.ConfusionMatrixDisplay at 0x1f1ace9b160>"
      ]
     },
     "execution_count": 29,
     "metadata": {},
     "output_type": "execute_result"
    },
    {
     "data": {
      "image/png": "[encoded data removed]",
      "text/plain": [
       "<Figure size 432x288 with 2 Axes>"
      ]
     },
     "metadata": {
      "needs_background": "light"
     },
     "output_type": "display_data"
    }
   ],
   "source": [
    "#first SVM model\n",
    "from sklearn.metrics import plot_confusion_matrix, roc_auc_score\n",
    "# train the model\n",
    "svm_clf = SVC(C=0.5, kernel='rbf', gamma='auto',class_weight = 'balanced',random_state = 0) # get object\n",
    "svm_clf.fit(X_train,Y_train.values.ravel())\n",
    "yhat = svm_clf.predict(X_test)\n",
    "acc = mt.accuracy_score(Y_test,yhat)\n",
    "prec = mt.precision_score(Y_test,yhat)\n",
    "auc = roc_auc_score(Y_test,yhat)\n",
    "recall = mt.recall_score(Y_test,yhat)\n",
    "f1 = 2*((prec*recall)/(prec+recall))\n",
    "print('AUC:',auc,'Precision:',prec,'ACC:',acc,'F1 Score:',f1)\n",
    "plot_confusion_matrix(svm_clf,X_test,Y_test)"
   ]
  },
  {
   "cell_type": "code",
   "execution_count": 30,
   "metadata": {},
   "outputs": [
    {
     "data": {
      "image/png": "[encoded data removed]",
      "text/plain": [
       "<Figure size 1440x720 with 1 Axes>"
      ]
     },
     "metadata": {
      "needs_background": "light"
     },
     "output_type": "display_data"
    }
   ],
   "source": [
    "#feature importances from model\n",
    "from sklearn.feature_selection import RFECV\n",
    "features = list(data.columns.values)\n",
    "\n",
    "\n",
    "from sklearn.inspection import permutation_importance\n",
    "\n",
    "imps = permutation_importance(svm_clf, X_test, Y_test,random_state = 0)\n",
    "importances = imps.importances_mean\n",
    "std = imps.importances_std\n",
    "indices = np.argsort(importances)[::-1]\n",
    "\n",
    "# Print the feature ranking\n",
    "\n",
    "featureorder = []\n",
    "\n",
    "for f in range(X_test.shape[1]):\n",
    "    featureorder.append(features[indices[f]])\n",
    "featurecount = len(featureorder)\n",
    "plt.figure(figsize=(20, 10))\n",
    "plt.title(\"Feature importances\")\n",
    "plt.bar(range(X_test.shape[1]), importances[indices], color=\"r\", yerr=std[indices], align=\"center\")\n",
    "plt.xticks(range(X_test.shape[1]), [features[indices[i]] for i in range(featurecount)],rotation = 90)\n",
    "plt.xlim([-1, X_test.shape[1]])\n",
    "plt.show()"
   ]
  },
  {
   "cell_type": "markdown",
   "metadata": {},
   "source": [
    "## Blacklisted ports due to possible dangerous content"
   ]
  },
  {
   "cell_type": "code",
   "execution_count": 28,
   "metadata": {},
   "outputs": [
    {
     "data": {
      "text/html": [
       "<div>\n",
       "<style scoped>\n",
       "    .dataframe tbody tr th:only-of-type {\n",
       "        vertical-align: middle;\n",
       "    }\n",
       "\n",
       "    .dataframe tbody tr th {\n",
       "        vertical-align: top;\n",
       "    }\n",
       "\n",
       "    .dataframe thead th {\n",
       "        text-align: right;\n",
       "    }\n",
       "</style>\n",
       "<table border=\"1\" class=\"dataframe\">\n",
       "  <thead>\n",
       "    <tr style=\"text-align: right;\">\n",
       "      <th></th>\n",
       "      <th>NatDestPort</th>\n",
       "      <th>Allows</th>\n",
       "      <th>Denies</th>\n",
       "      <th>TotalHits</th>\n",
       "      <th>AllowPer</th>\n",
       "      <th>DenyPer</th>\n",
       "      <th>AllowPerDiff</th>\n",
       "      <th>NDPortTier</th>\n",
       "    </tr>\n",
       "  </thead>\n",
       "  <tbody>\n",
       "    <tr>\n",
       "      <th>1</th>\n",
       "      <td>0</td>\n",
       "      <td>655.0</td>\n",
       "      <td>27868.0</td>\n",
       "      <td>28523.0</td>\n",
       "      <td>0.022964</td>\n",
       "      <td>0.977036</td>\n",
       "      <td>-0.954072</td>\n",
       "      <td>4</td>\n",
       "    </tr>\n",
       "    <tr>\n",
       "      <th>2044</th>\n",
       "      <td>5169</td>\n",
       "      <td>0.0</td>\n",
       "      <td>1.0</td>\n",
       "      <td>1.0</td>\n",
       "      <td>0.000000</td>\n",
       "      <td>1.000000</td>\n",
       "      <td>-1.000000</td>\n",
       "      <td>4</td>\n",
       "    </tr>\n",
       "    <tr>\n",
       "      <th>2045</th>\n",
       "      <td>8887</td>\n",
       "      <td>0.0</td>\n",
       "      <td>1.0</td>\n",
       "      <td>1.0</td>\n",
       "      <td>0.000000</td>\n",
       "      <td>1.000000</td>\n",
       "      <td>-1.000000</td>\n",
       "      <td>4</td>\n",
       "    </tr>\n",
       "    <tr>\n",
       "      <th>2046</th>\n",
       "      <td>8889</td>\n",
       "      <td>0.0</td>\n",
       "      <td>2.0</td>\n",
       "      <td>2.0</td>\n",
       "      <td>0.000000</td>\n",
       "      <td>1.000000</td>\n",
       "      <td>-1.000000</td>\n",
       "      <td>4</td>\n",
       "    </tr>\n",
       "  </tbody>\n",
       "</table>\n",
       "</div>"
      ],
      "text/plain": [
       "     NatDestPort  Allows   Denies  TotalHits  AllowPer   DenyPer  \\\n",
       "1              0   655.0  27868.0    28523.0  0.022964  0.977036   \n",
       "2044        5169     0.0      1.0        1.0  0.000000  1.000000   \n",
       "2045        8887     0.0      1.0        1.0  0.000000  1.000000   \n",
       "2046        8889     0.0      2.0        2.0  0.000000  1.000000   \n",
       "\n",
       "      AllowPerDiff NDPortTier  \n",
       "1        -0.954072          4  \n",
       "2044     -1.000000          4  \n",
       "2045     -1.000000          4  \n",
       "2046     -1.000000          4  "
      ]
     },
     "execution_count": 28,
     "metadata": {},
     "output_type": "execute_result"
    }
   ],
   "source": [
    "blacklist.head()"
   ]
  },
  {
   "cell_type": "code",
   "execution_count": null,
   "metadata": {},
   "outputs": [],
   "source": []
  }
 ],
 "metadata": {
  "kernelspec": {
   "display_name": "Python 3",
   "language": "python",
   "name": "python3"
  },
  "language_info": {
   "codemirror_mode": {
    "name": "ipython",
    "version": 3
   },
   "file_extension": ".py",
   "mimetype": "text/x-python",
   "name": "python",
   "nbconvert_exporter": "python",
   "pygments_lexer": "ipython3",
   "version": "3.8.3"
  }
 },
 "nbformat": 4,
 "nbformat_minor": 4
}
